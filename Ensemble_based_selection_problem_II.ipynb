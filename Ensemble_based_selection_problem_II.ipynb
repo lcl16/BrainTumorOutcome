{
 "cells": [
  {
   "cell_type": "code",
   "execution_count": 1,
   "metadata": {},
   "outputs": [],
   "source": [
    "from data import load_feature_and_outcome, load_reference_genes\n",
    "from utils import *\n",
    "\n",
    "from matplotlib import pyplot as plt\n",
    "import numpy as np\n",
    "from copy import deepcopy\n",
    "import pandas as pd"
   ]
  },
  {
   "cell_type": "code",
   "execution_count": 2,
   "metadata": {},
   "outputs": [],
   "source": [
    "from sklearn.ensemble import ExtraTreesClassifier, RandomForestClassifier\n",
    "from xgboost.sklearn import XGBClassifier\n",
    "from sklearn.svm import LinearSVC"
   ]
  },
  {
   "cell_type": "code",
   "execution_count": 3,
   "metadata": {},
   "outputs": [],
   "source": [
    "gene_names, features, labels, feature_map_tables = load_feature_and_outcome(\n",
    "    feature_path='./data/sc2_Phase1_CN_FeatureMatrix.tsv',\n",
    "    phenotype_path='./data/sc2_Phase1_CN_Phenotype.tsv',\n",
    "    outcome_path='./data/sc2_Phase1_CN_Outcome.tsv',\n",
    "    shuffle=True\n",
    ")"
   ]
  },
  {
   "cell_type": "markdown",
   "metadata": {},
   "source": [
    "# ...single variable correlation"
   ]
  },
  {
   "cell_type": "code",
   "execution_count": 4,
   "metadata": {},
   "outputs": [],
   "source": [
    "(features_8, labels_8), (features_2, labels_2) = data_split(features, labels, fraction=0.8)"
   ]
  },
  {
   "cell_type": "code",
   "execution_count": 5,
   "metadata": {},
   "outputs": [
    {
     "name": "stdout",
     "output_type": "stream",
     "text": [
      "\r",
      " 1/500  \r",
      " 2/500  "
     ]
    },
    {
     "name": "stderr",
     "output_type": "stream",
     "text": [
      "c:\\users\\flyin\\appdata\\local\\programs\\python\\python36\\lib\\site-packages\\scipy\\stats\\stats.py:3399: PearsonRConstantInputWarning: An input array is constant; the correlation coefficent is not defined.\n",
      "  warnings.warn(PearsonRConstantInputWarning())\n"
     ]
    },
    {
     "name": "stdout",
     "output_type": "stream",
     "text": [
      " 500/500  "
     ]
    },
    {
     "data": {
      "text/plain": [
       "array(['RACE', '8q24.13', 'SEX', '9p12', '9p24.1', '9p21.3', '9p24.3',\n",
       "       '21q11.1', '8q24.21', '5p15.32', '1p31.3', '8q23.2', '1p21.2',\n",
       "       '19q13.11', '5q21.2', '8q24.3', '8q23.3', '14q32.31', '9p24.2',\n",
       "       '8q11.22', '19q13.42', '9p21.1', '8q23.1', '7p12.1', '8q24.12',\n",
       "       '2p13.2', '15q21.3', '13q21.32', '14q32.33', '7p11.2'],\n",
       "      dtype='<U11')"
      ]
     },
     "execution_count": 5,
     "metadata": {},
     "output_type": "execute_result"
    }
   ],
   "source": [
    "# replicate 1\n",
    "rank_summary1 = select_feature_by_pearson(features_8, labels_8, replicates=500)\n",
    "gene_names[np.argsort(rank_summary1)[:30]]"
   ]
  },
  {
   "cell_type": "code",
   "execution_count": 6,
   "metadata": {},
   "outputs": [
    {
     "name": "stdout",
     "output_type": "stream",
     "text": [
      " 500/500  "
     ]
    },
    {
     "data": {
      "text/plain": [
       "array(['RACE', 'SEX', '8q24.13', '9p12', '9p21.3', '9p24.1', '9p24.3',\n",
       "       '8q24.21', '21q11.1', '5p15.32', '19q13.11', '1p31.3', '1p21.2',\n",
       "       '8q24.3', '19q13.42', '9p24.2', '8q23.2', '8q23.3', '5q21.2',\n",
       "       '14q32.31', '9p21.1', '8q23.1', '8q11.22', '7p12.1', '8q24.12',\n",
       "       '15q21.3', '13q21.32', '2p13.2', '7p11.2', '9p23'], dtype='<U11')"
      ]
     },
     "execution_count": 6,
     "metadata": {},
     "output_type": "execute_result"
    }
   ],
   "source": [
    "# replicate 2\n",
    "rank_summary2 = select_feature_by_pearson(features_8, labels_8, replicates=500)\n",
    "gene_names[np.argsort(rank_summary2)[:30]]"
   ]
  },
  {
   "cell_type": "code",
   "execution_count": 7,
   "metadata": {},
   "outputs": [
    {
     "name": "stdout",
     "output_type": "stream",
     "text": [
      " 500/500  "
     ]
    },
    {
     "data": {
      "text/plain": [
       "array(['RACE', 'SEX', '8q24.13', '9p12', '9p21.3', '9p24.1', '9p24.3',\n",
       "       '21q11.1', '8q24.21', '5p15.32', '1p31.3', '8q24.3', '8q23.3',\n",
       "       '19q13.11', '8q23.2', '1p21.2', '5q21.2', '9p24.2', '8q23.1',\n",
       "       '19q13.42', '14q32.31', '8q11.22', '2p13.2', '8q24.12', '7p12.1',\n",
       "       '9p21.1', '13q21.32', '8q24.11', '8q22.2', '7p11.2'], dtype='<U11')"
      ]
     },
     "execution_count": 7,
     "metadata": {},
     "output_type": "execute_result"
    }
   ],
   "source": [
    "# replicate 3\n",
    "rank_summary3 = select_feature_by_pearson(features_8, labels_8, replicates=500)\n",
    "gene_names[np.argsort(rank_summary3)[:30]]"
   ]
  },
  {
   "cell_type": "code",
   "execution_count": 8,
   "metadata": {},
   "outputs": [
    {
     "name": "stdout",
     "output_type": "stream",
     "text": [
      " 5000/5000  "
     ]
    },
    {
     "data": {
      "text/plain": [
       "array(['RACE', 'SEX', '8q24.13', '9p12', '9p21.3', '9p24.1', '9p24.3',\n",
       "       '21q11.1', '8q24.21', '5p15.32', '1p31.3', '19q13.11', '8q23.2',\n",
       "       '8q24.3', '1p21.2', '8q23.3', '5q21.2', '19q13.42', '9p24.2',\n",
       "       '14q32.31', '8q23.1', '9p21.1', '8q24.12', '7p12.1', '2p13.2',\n",
       "       '15q21.3', '8q11.22', '13q21.32', '7p11.2', '8q24.11'],\n",
       "      dtype='<U11')"
      ]
     },
     "execution_count": 8,
     "metadata": {},
     "output_type": "execute_result"
    }
   ],
   "source": [
    "# final replicate\n",
    "rank_summary = select_feature_by_pearson(features_8, labels_8, replicates=5000)\n",
    "gene_names[np.argsort(rank_summary)[:30]]"
   ]
  },
  {
   "cell_type": "code",
   "execution_count": 9,
   "metadata": {},
   "outputs": [],
   "source": [
    "np.savetxt('gene_ranks_sc2.txt', gene_names[np.argsort(rank_summary)], fmt='%s')"
   ]
  },
  {
   "cell_type": "code",
   "execution_count": 10,
   "metadata": {},
   "outputs": [],
   "source": [
    "np.save('rank_summary_sc2.npy', rank_summary)"
   ]
  },
  {
   "cell_type": "code",
   "execution_count": 20,
   "metadata": {},
   "outputs": [
    {
     "data": {
      "text/plain": [
       "array([-0.25437919, -0.23074716, -0.25131871,  0.21259002,  0.21627804,\n",
       "        0.20596713,  0.19043727, -0.21216037, -0.21159191, -0.20909616,\n",
       "       -0.19533842, -0.19575576, -0.1892627 , -0.18563615, -0.18840631,\n",
       "       -0.19027034,  0.16454214, -0.18842818,  0.16739513, -0.18491975,\n",
       "       -0.18090702,  0.1686591 , -0.18022646,  0.16327667, -0.17639036,\n",
       "       -0.18135024, -0.17775276, -0.17172553,  0.15963987, -0.17098551])"
      ]
     },
     "execution_count": 20,
     "metadata": {},
     "output_type": "execute_result"
    }
   ],
   "source": [
    "pearson(features_8[:,np.argsort(rank_summary)[:30]], labels_8)[:,0]"
   ]
  },
  {
   "cell_type": "code",
   "execution_count": 21,
   "metadata": {},
   "outputs": [
    {
     "data": {
      "text/plain": [
       "(174, 815)"
      ]
     },
     "execution_count": 21,
     "metadata": {},
     "output_type": "execute_result"
    }
   ],
   "source": [
    "features.shape"
   ]
  },
  {
   "cell_type": "markdown",
   "metadata": {},
   "source": [
    "# Esitmate the number of feature needed for classifier"
   ]
  },
  {
   "cell_type": "code",
   "execution_count": 24,
   "metadata": {},
   "outputs": [
    {
     "name": "stdout",
     "output_type": "stream",
     "text": [
      "1\n",
      "11\n",
      "21\n",
      "31\n",
      "41\n",
      "51\n",
      "61\n",
      "71\n",
      "81\n",
      "91\n",
      "101\n",
      "111\n",
      "121\n",
      "131\n",
      "141\n",
      "151\n",
      "161\n",
      "171\n",
      "181\n",
      "191\n"
     ]
    }
   ],
   "source": [
    "performance_num_curve = []\n",
    "baseline_num_curve = []\n",
    "for i in range(1,200,10):\n",
    "    \n",
    "    selected_features = features[:,np.argsort(rank_summary)[:i]]\n",
    "    print (i)\n",
    "    for j in range(100):\n",
    "        dataset = data_split(selected_features, labels)\n",
    "        performance = test_xgb(dataset, **{\n",
    "            'n_estimators':200,\n",
    "            'max_depth':5,\n",
    "            'min_child_weight':2,\n",
    "            'n_jobs':8\n",
    "        })\n",
    "        baseline = (dataset[0][1].mean(), dataset[1][1].mean())\n",
    "        performance_num_curve.append(performance)\n",
    "        baseline_num_curve.append(baseline)\n",
    "\n",
    "p_gain = np.array(performance_num_curve) - np.array(baseline_num_curve)"
   ]
  },
  {
   "cell_type": "code",
   "execution_count": 26,
   "metadata": {},
   "outputs": [
    {
     "data": {
      "text/plain": [
       "LinearRegression(copy_X=True, fit_intercept=True, n_jobs=None, normalize=False)"
      ]
     },
     "execution_count": 26,
     "metadata": {},
     "output_type": "execute_result"
    }
   ],
   "source": [
    "p_gain = p_gain.reshape([-1,100,2])\n",
    "from sklearn.linear_model import LinearRegression\n",
    "\n",
    "lr = LinearRegression()\n",
    "lr.fit(np.arange(1,200,10).reshape([-1,1]), p_gain[:,:,1].mean(axis=1))"
   ]
  },
  {
   "cell_type": "code",
   "execution_count": 27,
   "metadata": {},
   "outputs": [
    {
     "data": {
      "text/plain": [
       "[<matplotlib.lines.Line2D at 0x24d1948e2b0>]"
      ]
     },
     "execution_count": 27,
     "metadata": {},
     "output_type": "execute_result"
    },
    {
     "data": {
      "image/png": "[encoded data removed]",
      "text/plain": [
       "<Figure size 432x288 with 1 Axes>"
      ]
     },
     "metadata": {
      "needs_background": "light"
     },
     "output_type": "display_data"
    }
   ],
   "source": [
    "plt.plot(range(1,200,10), p_gain[:,:,1].mean(axis=1))\n",
    "plt.plot(np.arange(1,200,10), lr.predict(np.arange(1,200,10).reshape([-1,1])))"
   ]
  },
  {
   "cell_type": "code",
   "execution_count": 22,
   "metadata": {},
   "outputs": [
    {
     "name": "stdout",
     "output_type": "stream",
     "text": [
      "1\n",
      "51\n",
      "101\n",
      "151\n",
      "201\n",
      "251\n",
      "301\n",
      "351\n",
      "401\n",
      "451\n",
      "501\n",
      "551\n",
      "601\n",
      "651\n",
      "701\n",
      "751\n"
     ]
    },
    {
     "data": {
      "text/plain": [
       "LinearRegression(copy_X=True, fit_intercept=True, n_jobs=None, normalize=False)"
      ]
     },
     "execution_count": 22,
     "metadata": {},
     "output_type": "execute_result"
    }
   ],
   "source": [
    "performance_num_curve = []\n",
    "baseline_num_curve = []\n",
    "for i in range(1,800,50):\n",
    "    \n",
    "    selected_features = features[:,np.argsort(rank_summary)[:i]]\n",
    "    print (i)\n",
    "    for j in range(40):\n",
    "        dataset = data_split(selected_features, labels)\n",
    "        performance = test_xgb(dataset, **{\n",
    "            'n_estimators':200,\n",
    "            'max_depth':5,\n",
    "            'min_child_weight':2,\n",
    "            'n_jobs':8\n",
    "        })\n",
    "        baseline = (dataset[0][1].mean(), dataset[1][1].mean())\n",
    "        performance_num_curve.append(performance)\n",
    "        baseline_num_curve.append(baseline)\n",
    "        \n",
    "\n",
    "p_gain = np.array(performance_num_curve) - np.array(baseline_num_curve)\n",
    "p_gain = p_gain.reshape([-1,40,2])\n",
    "from sklearn.linear_model import LinearRegression\n",
    "\n",
    "lr = LinearRegression()\n",
    "lr.fit(np.arange(1,800,50).reshape([-1,1]), p_gain[:,:,1].mean(axis=1))"
   ]
  },
  {
   "cell_type": "code",
   "execution_count": 23,
   "metadata": {},
   "outputs": [
    {
     "data": {
      "text/plain": [
       "[<matplotlib.lines.Line2D at 0x24d194adb70>]"
      ]
     },
     "execution_count": 23,
     "metadata": {},
     "output_type": "execute_result"
    },
    {
     "data": {
      "image/png": "[encoded data removed]",
      "text/plain": [
       "<Figure size 432x288 with 1 Axes>"
      ]
     },
     "metadata": {
      "needs_background": "light"
     },
     "output_type": "display_data"
    }
   ],
   "source": [
    "plt.plot(range(1,800,50), p_gain[:,:,1].mean(axis=1))\n",
    "plt.plot(np.arange(1,800,50), lr.predict(np.arange(1,800,50).reshape([-1,1])))"
   ]
  },
  {
   "cell_type": "markdown",
   "metadata": {},
   "source": [
    "it seems ??? features should be ok? 180?"
   ]
  },
  {
   "cell_type": "markdown",
   "metadata": {},
   "source": [
    "# fit feature and classifier params in epoches"
   ]
  },
  {
   "cell_type": "code",
   "execution_count": 378,
   "metadata": {},
   "outputs": [],
   "source": [
    "selected_feature_final = features[:,np.argsort(rank_summary)[:175]]"
   ]
  },
  {
   "cell_type": "code",
   "execution_count": 379,
   "metadata": {},
   "outputs": [],
   "source": [
    "selected_feature_names = gene_names[np.argsort(rank_summary)[:175]]"
   ]
  },
  {
   "cell_type": "code",
   "execution_count": 380,
   "metadata": {},
   "outputs": [
    {
     "data": {
      "text/plain": [
       "array(['RACE', 'SEX', '8q24.13', '9p12', '9p21.3', '9p24.1', '9p24.3',\n",
       "       '21q11.1', '8q24.21', '5p15.32', '1p31.3', '19q13.11', '8q23.2',\n",
       "       '8q24.3', '1p21.2', '8q23.3', '5q21.2', '19q13.42', '9p24.2',\n",
       "       '14q32.31', '8q23.1', '9p21.1', '8q24.12', '7p12.1', '2p13.2',\n",
       "       '15q21.3', '8q11.22', '13q21.32', '7p11.2', '8q24.11', '14q32.33',\n",
       "       '8q22.2', '8q24.22', '9p23', '5q14.2', '5q31.2', '14q32.2',\n",
       "       '1p34.2', '4p16.2', '19q13.13', '19q12', '8q11.23', '8q21.3',\n",
       "       '3q13.12', '5q11.1', '17p13.2', '16p13.2', '21p11.1', '9p13.1',\n",
       "       '7p15.3', '7q31.1', '8q21.13', '14q32.11', '1p32.3', '16q12.1',\n",
       "       '1p31.2', '5p15.33', '10q23.32', '15q13.3', '19q13.41', '5q21.3',\n",
       "       '21q21.1', '1p22.3', '7p14.3', '17q11.1', '10q24.32', '9q31.2',\n",
       "       '14q22.2', '3p25.1', '6q16.2', '4p15.1', '7p13', '9p22.2',\n",
       "       '13q21.33', '7q11.22', '8q22.1', '7p15.1', '2p23.2', '8q13.3',\n",
       "       '8q12.1', '1p35.1', '2p22.2', '7p14.1', '17q11.2', '17q23.1',\n",
       "       '1p32.2', '16p12.3', '8q22.3', '20p11.22', '19q13.2', '1p13.2',\n",
       "       '8q21.11', '1p31.1', '1p13.1', '3p11.1', '15q25.3', '1q42.13',\n",
       "       '11q12.3', '7p14.2', '1p33', '18q21.2', '9p22.3', '15q13.1',\n",
       "       '21q11.2', '7p12.3', '4p14', '10p11.1', '10q11.1', '1p36.13',\n",
       "       '8q24.23', '16q24.3', '1p34.1', '7p11.1', '2p25.3', '9q33.2',\n",
       "       '2q32.2', '8q13.2', '1p36.12', '2q36.2', '22q13.33', '13q21.1',\n",
       "       '10q11.23', '7q11.1', '12p11.21', '16q12.2', '7q31.2', '1p36.31',\n",
       "       '5q21.1', '2q22.2', '15q24.1', '3q26.2', '7p15.2', '9q21.31',\n",
       "       '1p34.3', '9p21.2', '3q26.33', '1p13.3', '5p14.2', '12q24.11',\n",
       "       '22q11.1', '10q24.33', '16p13.3', '5p14.1', '5q33.2', '7p21.3',\n",
       "       '5q11.2', '7q11.23', '21q21.2', '19q13.43', '9q34.3', '18q11.2',\n",
       "       '15q15.2', '8q12.3', '3p12.2', '11p15.4', '16p12.1', '7p21.1',\n",
       "       '19p13.13', '7q32.3', '12p11.1', '7q32.2', '4q33', '5q31.3',\n",
       "       '13q21.31', '12p11.22', '1p35.2', '3q11.2', '17q23.3', '19q13.31',\n",
       "       '6q22.33', '13q12.11', '9q21.2', '16q24.2', '14q22.3', '6q11.1'],\n",
       "      dtype='<U11')"
      ]
     },
     "execution_count": 380,
     "metadata": {},
     "output_type": "execute_result"
    }
   ],
   "source": [
    "selected_feature_names"
   ]
  },
  {
   "cell_type": "markdown",
   "metadata": {},
   "source": [
    "find a params"
   ]
  },
  {
   "cell_type": "code",
   "execution_count": 403,
   "metadata": {},
   "outputs": [],
   "source": [
    "params_candidate = {\n",
    "    'n_estimators':[100,2000],\n",
    "    'max_depth':[2,3,8],\n",
    "    'min_child_weight':[2,8,16],\n",
    "    'n_jobs':[8],\n",
    "    'colsample_bynode':[0.5,1],\n",
    "    'gamma':[1.2,0]\n",
    "}"
   ]
  },
  {
   "cell_type": "code",
   "execution_count": 404,
   "metadata": {},
   "outputs": [
    {
     "name": "stdout",
     "output_type": "stream",
     "text": [
      "Running grid search on 72 set of params...\n",
      "Eval 72.00 of 72 params...      "
     ]
    }
   ],
   "source": [
    "search_result = grid_search(selected_feature_final, labels, test_xgb, params_candidate, replicates=100)"
   ]
  },
  {
   "cell_type": "code",
   "execution_count": 405,
   "metadata": {},
   "outputs": [],
   "source": [
    "params_list, scores_list, baseline_list = search_result"
   ]
  },
  {
   "cell_type": "code",
   "execution_count": 409,
   "metadata": {},
   "outputs": [],
   "source": [
    "averaged_score = (np.array(scores_list) - np.array(baseline_list)).mean(axis=1)"
   ]
  },
  {
   "cell_type": "code",
   "execution_count": 414,
   "metadata": {},
   "outputs": [],
   "source": [
    "params_list_np = np.array(params_list)"
   ]
  },
  {
   "cell_type": "code",
   "execution_count": 420,
   "metadata": {},
   "outputs": [],
   "source": [
    "sort_index = np.argsort(-averaged_score[:,1])"
   ]
  },
  {
   "cell_type": "code",
   "execution_count": 421,
   "metadata": {},
   "outputs": [],
   "source": [
    "sorted_params_list = params_list_np[sort_index]"
   ]
  },
  {
   "cell_type": "code",
   "execution_count": 422,
   "metadata": {
    "scrolled": true
   },
   "outputs": [
    {
     "data": {
      "text/plain": [
       "array([[ 0.20733813,  0.016     ],\n",
       "       [ 0.20733813,  0.01571429],\n",
       "       [ 0.21417266,  0.012     ],\n",
       "       [ 0.21654676,  0.012     ],\n",
       "       [ 0.21007194,  0.01085714],\n",
       "       [ 0.21848921,  0.01028571],\n",
       "       [ 0.21352518,  0.01028571],\n",
       "       [ 0.21352518,  0.01      ],\n",
       "       [ 0.21676259,  0.01      ],\n",
       "       [ 0.23244604,  0.00914286],\n",
       "       [ 0.23719424,  0.00857143],\n",
       "       [ 0.22107914,  0.00771429],\n",
       "       [ 0.22143885,  0.00428571],\n",
       "       [ 0.23467626,  0.004     ],\n",
       "       [ 0.21856115,  0.00342857],\n",
       "       [ 0.21848921,  0.00342857],\n",
       "       [ 0.22597122,  0.00171429],\n",
       "       [ 0.        ,  0.        ],\n",
       "       [ 0.        ,  0.        ],\n",
       "       [ 0.        ,  0.        ],\n",
       "       [ 0.        ,  0.        ],\n",
       "       [ 0.        ,  0.        ],\n",
       "       [ 0.        ,  0.        ],\n",
       "       [ 0.        ,  0.        ],\n",
       "       [ 0.        ,  0.        ],\n",
       "       [ 0.        ,  0.        ],\n",
       "       [ 0.        ,  0.        ],\n",
       "       [ 0.        ,  0.        ],\n",
       "       [ 0.        ,  0.        ],\n",
       "       [ 0.        ,  0.        ],\n",
       "       [ 0.        ,  0.        ],\n",
       "       [ 0.        ,  0.        ],\n",
       "       [ 0.        ,  0.        ],\n",
       "       [ 0.        ,  0.        ],\n",
       "       [ 0.        ,  0.        ],\n",
       "       [ 0.        ,  0.        ],\n",
       "       [ 0.        ,  0.        ],\n",
       "       [ 0.        ,  0.        ],\n",
       "       [ 0.        ,  0.        ],\n",
       "       [ 0.        ,  0.        ],\n",
       "       [ 0.        ,  0.        ],\n",
       "       [ 0.23776978, -0.00114286],\n",
       "       [ 0.10733813, -0.01057143],\n",
       "       [ 0.10733813, -0.01057143],\n",
       "       [ 0.23971223, -0.01085714],\n",
       "       [ 0.0894964 , -0.01085714],\n",
       "       [ 0.09071942, -0.01085714],\n",
       "       [ 0.0894964 , -0.01085714],\n",
       "       [ 0.09071942, -0.01085714],\n",
       "       [ 0.11136691, -0.01085714],\n",
       "       [ 0.11136691, -0.01085714],\n",
       "       [ 0.10705036, -0.01114286],\n",
       "       [ 0.23978417, -0.01142857],\n",
       "       [ 0.23992806, -0.01171429],\n",
       "       [ 0.09093525, -0.01171429],\n",
       "       [ 0.09093525, -0.01171429],\n",
       "       [ 0.09093525, -0.01171429],\n",
       "       [ 0.09093525, -0.01171429],\n",
       "       [ 0.08942446, -0.012     ],\n",
       "       [ 0.08942446, -0.012     ],\n",
       "       [ 0.08942446, -0.012     ],\n",
       "       [ 0.08942446, -0.012     ],\n",
       "       [ 0.11115108, -0.012     ],\n",
       "       [ 0.23964029, -0.01428571],\n",
       "       [ 0.24      , -0.01485714],\n",
       "       [ 0.24007194, -0.01514286],\n",
       "       [ 0.17129496, -0.038     ],\n",
       "       [ 0.17129496, -0.038     ],\n",
       "       [ 0.17158273, -0.03914286],\n",
       "       [ 0.17021583, -0.03914286],\n",
       "       [ 0.17021583, -0.03914286],\n",
       "       [ 0.17057554, -0.03914286]])"
      ]
     },
     "execution_count": 422,
     "metadata": {},
     "output_type": "execute_result"
    }
   ],
   "source": [
    "averaged_score[sort_index]"
   ]
  },
  {
   "cell_type": "code",
   "execution_count": 441,
   "metadata": {
    "scrolled": true
   },
   "outputs": [
    {
     "data": {
      "text/plain": [
       "array([{'gamma': 1.2, 'colsample_bynode': 1, 'n_jobs': 8, 'min_child_weight': 2, 'max_depth': 2, 'n_estimators': 100},\n",
       "       {'gamma': 1.2, 'colsample_bynode': 1, 'n_jobs': 8, 'min_child_weight': 2, 'max_depth': 2, 'n_estimators': 2000},\n",
       "       {'gamma': 1.2, 'colsample_bynode': 0.5, 'n_jobs': 8, 'min_child_weight': 2, 'max_depth': 2, 'n_estimators': 2000},\n",
       "       {'gamma': 0, 'colsample_bynode': 0.5, 'n_jobs': 8, 'min_child_weight': 2, 'max_depth': 2, 'n_estimators': 100},\n",
       "       {'gamma': 1.2, 'colsample_bynode': 0.5, 'n_jobs': 8, 'min_child_weight': 2, 'max_depth': 2, 'n_estimators': 100},\n",
       "       {'gamma': 0, 'colsample_bynode': 1, 'n_jobs': 8, 'min_child_weight': 2, 'max_depth': 2, 'n_estimators': 100},\n",
       "       {'gamma': 1.2, 'colsample_bynode': 1, 'n_jobs': 8, 'min_child_weight': 2, 'max_depth': 3, 'n_estimators': 100},\n",
       "       {'gamma': 1.2, 'colsample_bynode': 1, 'n_jobs': 8, 'min_child_weight': 2, 'max_depth': 3, 'n_estimators': 2000},\n",
       "       {'gamma': 1.2, 'colsample_bynode': 0.5, 'n_jobs': 8, 'min_child_weight': 2, 'max_depth': 3, 'n_estimators': 100},\n",
       "       {'gamma': 0, 'colsample_bynode': 0.5, 'n_jobs': 8, 'min_child_weight': 2, 'max_depth': 3, 'n_estimators': 100},\n",
       "       {'gamma': 0, 'colsample_bynode': 0.5, 'n_jobs': 8, 'min_child_weight': 2, 'max_depth': 8, 'n_estimators': 100},\n",
       "       {'gamma': 1.2, 'colsample_bynode': 0.5, 'n_jobs': 8, 'min_child_weight': 2, 'max_depth': 3, 'n_estimators': 2000},\n",
       "       {'gamma': 1.2, 'colsample_bynode': 0.5, 'n_jobs': 8, 'min_child_weight': 2, 'max_depth': 8, 'n_estimators': 100},\n",
       "       {'gamma': 0, 'colsample_bynode': 1, 'n_jobs': 8, 'min_child_weight': 2, 'max_depth': 3, 'n_estimators': 100},\n",
       "       {'gamma': 1.2, 'colsample_bynode': 1, 'n_jobs': 8, 'min_child_weight': 2, 'max_depth': 8, 'n_estimators': 100},\n",
       "       {'gamma': 1.2, 'colsample_bynode': 1, 'n_jobs': 8, 'min_child_weight': 2, 'max_depth': 8, 'n_estimators': 2000},\n",
       "       {'gamma': 1.2, 'colsample_bynode': 0.5, 'n_jobs': 8, 'min_child_weight': 2, 'max_depth': 8, 'n_estimators': 2000},\n",
       "       {'gamma': 1.2, 'colsample_bynode': 1, 'n_jobs': 8, 'min_child_weight': 16, 'max_depth': 8, 'n_estimators': 100},\n",
       "       {'gamma': 1.2, 'colsample_bynode': 1, 'n_jobs': 8, 'min_child_weight': 16, 'max_depth': 8, 'n_estimators': 2000},\n",
       "       {'gamma': 0, 'colsample_bynode': 0.5, 'n_jobs': 8, 'min_child_weight': 16, 'max_depth': 8, 'n_estimators': 2000},\n",
       "       {'gamma': 1.2, 'colsample_bynode': 0.5, 'n_jobs': 8, 'min_child_weight': 16, 'max_depth': 8, 'n_estimators': 2000},\n",
       "       {'gamma': 1.2, 'colsample_bynode': 0.5, 'n_jobs': 8, 'min_child_weight': 16, 'max_depth': 3, 'n_estimators': 2000},\n",
       "       {'gamma': 0, 'colsample_bynode': 0.5, 'n_jobs': 8, 'min_child_weight': 16, 'max_depth': 3, 'n_estimators': 2000},\n",
       "       {'gamma': 0, 'colsample_bynode': 0.5, 'n_jobs': 8, 'min_child_weight': 16, 'max_depth': 2, 'n_estimators': 2000},\n",
       "       {'gamma': 1.2, 'colsample_bynode': 1, 'n_jobs': 8, 'min_child_weight': 16, 'max_depth': 2, 'n_estimators': 2000},\n",
       "       {'gamma': 0, 'colsample_bynode': 1, 'n_jobs': 8, 'min_child_weight': 16, 'max_depth': 2, 'n_estimators': 2000},\n",
       "       {'gamma': 0, 'colsample_bynode': 1, 'n_jobs': 8, 'min_child_weight': 16, 'max_depth': 3, 'n_estimators': 2000},\n",
       "       {'gamma': 1.2, 'colsample_bynode': 1, 'n_jobs': 8, 'min_child_weight': 16, 'max_depth': 3, 'n_estimators': 2000},\n",
       "       {'gamma': 0, 'colsample_bynode': 0.5, 'n_jobs': 8, 'min_child_weight': 16, 'max_depth': 8, 'n_estimators': 100},\n",
       "       {'gamma': 1.2, 'colsample_bynode': 0.5, 'n_jobs': 8, 'min_child_weight': 16, 'max_depth': 2, 'n_estimators': 2000},\n",
       "       {'gamma': 1.2, 'colsample_bynode': 0.5, 'n_jobs': 8, 'min_child_weight': 16, 'max_depth': 8, 'n_estimators': 100},\n",
       "       {'gamma': 0, 'colsample_bynode': 1, 'n_jobs': 8, 'min_child_weight': 16, 'max_depth': 8, 'n_estimators': 100},\n",
       "       {'gamma': 0, 'colsample_bynode': 1, 'n_jobs': 8, 'min_child_weight': 16, 'max_depth': 8, 'n_estimators': 2000},\n",
       "       {'gamma': 0, 'colsample_bynode': 0.5, 'n_jobs': 8, 'min_child_weight': 16, 'max_depth': 2, 'n_estimators': 100},\n",
       "       {'gamma': 1.2, 'colsample_bynode': 0.5, 'n_jobs': 8, 'min_child_weight': 16, 'max_depth': 2, 'n_estimators': 100},\n",
       "       {'gamma': 1.2, 'colsample_bynode': 0.5, 'n_jobs': 8, 'min_child_weight': 16, 'max_depth': 3, 'n_estimators': 100},\n",
       "       {'gamma': 0, 'colsample_bynode': 0.5, 'n_jobs': 8, 'min_child_weight': 16, 'max_depth': 3, 'n_estimators': 100},\n",
       "       {'gamma': 1.2, 'colsample_bynode': 1, 'n_jobs': 8, 'min_child_weight': 16, 'max_depth': 2, 'n_estimators': 100},\n",
       "       {'gamma': 0, 'colsample_bynode': 1, 'n_jobs': 8, 'min_child_weight': 16, 'max_depth': 2, 'n_estimators': 100},\n",
       "       {'gamma': 0, 'colsample_bynode': 1, 'n_jobs': 8, 'min_child_weight': 16, 'max_depth': 3, 'n_estimators': 100},\n",
       "       {'gamma': 1.2, 'colsample_bynode': 1, 'n_jobs': 8, 'min_child_weight': 16, 'max_depth': 3, 'n_estimators': 100},\n",
       "       {'gamma': 0, 'colsample_bynode': 1, 'n_jobs': 8, 'min_child_weight': 2, 'max_depth': 8, 'n_estimators': 100},\n",
       "       {'gamma': 0, 'colsample_bynode': 0.5, 'n_jobs': 8, 'min_child_weight': 8, 'max_depth': 3, 'n_estimators': 100},\n",
       "       {'gamma': 0, 'colsample_bynode': 0.5, 'n_jobs': 8, 'min_child_weight': 8, 'max_depth': 8, 'n_estimators': 100},\n",
       "       {'gamma': 0, 'colsample_bynode': 0.5, 'n_jobs': 8, 'min_child_weight': 2, 'max_depth': 3, 'n_estimators': 2000},\n",
       "       {'gamma': 1.2, 'colsample_bynode': 0.5, 'n_jobs': 8, 'min_child_weight': 8, 'max_depth': 2, 'n_estimators': 2000},\n",
       "       {'gamma': 1.2, 'colsample_bynode': 1, 'n_jobs': 8, 'min_child_weight': 8, 'max_depth': 2, 'n_estimators': 2000},\n",
       "       {'gamma': 1.2, 'colsample_bynode': 0.5, 'n_jobs': 8, 'min_child_weight': 8, 'max_depth': 2, 'n_estimators': 100},\n",
       "       {'gamma': 1.2, 'colsample_bynode': 1, 'n_jobs': 8, 'min_child_weight': 8, 'max_depth': 2, 'n_estimators': 100},\n",
       "       {'gamma': 0, 'colsample_bynode': 1, 'n_jobs': 8, 'min_child_weight': 8, 'max_depth': 3, 'n_estimators': 100},\n",
       "       {'gamma': 0, 'colsample_bynode': 1, 'n_jobs': 8, 'min_child_weight': 8, 'max_depth': 8, 'n_estimators': 100},\n",
       "       {'gamma': 0, 'colsample_bynode': 0.5, 'n_jobs': 8, 'min_child_weight': 8, 'max_depth': 2, 'n_estimators': 100},\n",
       "       {'gamma': 0, 'colsample_bynode': 0.5, 'n_jobs': 8, 'min_child_weight': 2, 'max_depth': 2, 'n_estimators': 2000},\n",
       "       {'gamma': 0, 'colsample_bynode': 0.5, 'n_jobs': 8, 'min_child_weight': 2, 'max_depth': 8, 'n_estimators': 2000},\n",
       "       {'gamma': 1.2, 'colsample_bynode': 1, 'n_jobs': 8, 'min_child_weight': 8, 'max_depth': 8, 'n_estimators': 2000},\n",
       "       {'gamma': 1.2, 'colsample_bynode': 1, 'n_jobs': 8, 'min_child_weight': 8, 'max_depth': 8, 'n_estimators': 100},\n",
       "       {'gamma': 1.2, 'colsample_bynode': 1, 'n_jobs': 8, 'min_child_weight': 8, 'max_depth': 3, 'n_estimators': 2000},\n",
       "       {'gamma': 1.2, 'colsample_bynode': 1, 'n_jobs': 8, 'min_child_weight': 8, 'max_depth': 3, 'n_estimators': 100},\n",
       "       {'gamma': 1.2, 'colsample_bynode': 0.5, 'n_jobs': 8, 'min_child_weight': 8, 'max_depth': 3, 'n_estimators': 2000},\n",
       "       {'gamma': 1.2, 'colsample_bynode': 0.5, 'n_jobs': 8, 'min_child_weight': 8, 'max_depth': 3, 'n_estimators': 100},\n",
       "       {'gamma': 1.2, 'colsample_bynode': 0.5, 'n_jobs': 8, 'min_child_weight': 8, 'max_depth': 8, 'n_estimators': 2000},\n",
       "       {'gamma': 1.2, 'colsample_bynode': 0.5, 'n_jobs': 8, 'min_child_weight': 8, 'max_depth': 8, 'n_estimators': 100},\n",
       "       {'gamma': 0, 'colsample_bynode': 1, 'n_jobs': 8, 'min_child_weight': 8, 'max_depth': 2, 'n_estimators': 100},\n",
       "       {'gamma': 0, 'colsample_bynode': 1, 'n_jobs': 8, 'min_child_weight': 2, 'max_depth': 2, 'n_estimators': 2000},\n",
       "       {'gamma': 0, 'colsample_bynode': 1, 'n_jobs': 8, 'min_child_weight': 2, 'max_depth': 3, 'n_estimators': 2000},\n",
       "       {'gamma': 0, 'colsample_bynode': 1, 'n_jobs': 8, 'min_child_weight': 2, 'max_depth': 8, 'n_estimators': 2000},\n",
       "       {'gamma': 0, 'colsample_bynode': 1, 'n_jobs': 8, 'min_child_weight': 8, 'max_depth': 8, 'n_estimators': 2000},\n",
       "       {'gamma': 0, 'colsample_bynode': 1, 'n_jobs': 8, 'min_child_weight': 8, 'max_depth': 3, 'n_estimators': 2000},\n",
       "       {'gamma': 0, 'colsample_bynode': 1, 'n_jobs': 8, 'min_child_weight': 8, 'max_depth': 2, 'n_estimators': 2000},\n",
       "       {'gamma': 0, 'colsample_bynode': 0.5, 'n_jobs': 8, 'min_child_weight': 8, 'max_depth': 3, 'n_estimators': 2000},\n",
       "       {'gamma': 0, 'colsample_bynode': 0.5, 'n_jobs': 8, 'min_child_weight': 8, 'max_depth': 8, 'n_estimators': 2000},\n",
       "       {'gamma': 0, 'colsample_bynode': 0.5, 'n_jobs': 8, 'min_child_weight': 8, 'max_depth': 2, 'n_estimators': 2000}],\n",
       "      dtype=object)"
      ]
     },
     "execution_count": 441,
     "metadata": {},
     "output_type": "execute_result"
    }
   ],
   "source": [
    "sorted_params_list"
   ]
  },
  {
   "cell_type": "code",
   "execution_count": 423,
   "metadata": {
    "scrolled": true
   },
   "outputs": [],
   "source": [
    "params = sorted_params_list[0]"
   ]
  },
  {
   "cell_type": "code",
   "execution_count": 431,
   "metadata": {},
   "outputs": [
    {
     "data": {
      "text/plain": [
       "{'gamma': 1.2,\n",
       " 'colsample_bynode': 1,\n",
       " 'n_jobs': 8,\n",
       " 'min_child_weight': 2,\n",
       " 'max_depth': 2,\n",
       " 'n_estimators': 100}"
      ]
     },
     "execution_count": 431,
     "metadata": {},
     "output_type": "execute_result"
    }
   ],
   "source": [
    "params"
   ]
  },
  {
   "cell_type": "code",
   "execution_count": 440,
   "metadata": {},
   "outputs": [
    {
     "name": "stdout",
     "output_type": "stream",
     "text": [
      "(0.9640287769784173, 0.7714285714285715) \n",
      " (0.7553956834532374, 0.7428571428571429)\n"
     ]
    }
   ],
   "source": [
    "dataset = data_split(selected_feature_final, labels)\n",
    "baseline = (dataset[0][1].mean(), dataset[1][1].mean())\n",
    "performance = test_xgb(dataset, **params)\n",
    "print ((performance),'\\n',(baseline))"
   ]
  },
  {
   "cell_type": "code",
   "execution_count": 397,
   "metadata": {},
   "outputs": [],
   "source": [
    "results_single = []"
   ]
  },
  {
   "cell_type": "code",
   "execution_count": 398,
   "metadata": {
    "scrolled": true
   },
   "outputs": [
    {
     "name": "stdout",
     "output_type": "stream",
     "text": [
      "perform gain:  0.2302 -0.0571, 0.7410 0.8000\n",
      "perform gain:  0.2302 -0.0286, 0.7338 0.8286\n",
      "perform gain:  0.2158 0.0000, 0.7554 0.7429\n",
      "perform gain:  0.1942 0.0571, 0.7770 0.6571\n",
      "perform gain:  0.2158 0.0857, 0.7626 0.7143\n",
      "perform gain:  0.1942 0.0857, 0.7698 0.6857\n",
      "perform gain:  0.2230 0.0000, 0.7410 0.8000\n",
      "perform gain:  0.2086 0.0000, 0.7554 0.7429\n",
      "perform gain:  0.2230 0.0286, 0.7482 0.7714\n",
      "perform gain:  0.2302 0.0571, 0.7554 0.7429\n",
      "perform gain:  0.2086 0.1143, 0.7626 0.7143\n",
      "perform gain:  0.2158 -0.1143, 0.7482 0.7714\n",
      "perform gain:  0.2446 0.0286, 0.7410 0.8000\n",
      "perform gain:  0.2014 0.0286, 0.7626 0.7143\n",
      "perform gain:  0.2086 0.0571, 0.7626 0.7143\n",
      "perform gain:  0.2158 -0.0571, 0.7410 0.8000\n",
      "perform gain:  0.2158 -0.0286, 0.7554 0.7429\n",
      "perform gain:  0.1871 0.0286, 0.7698 0.6857\n",
      "perform gain:  0.2230 -0.0857, 0.7410 0.8000\n",
      "perform gain:  0.2086 0.0000, 0.7626 0.7143\n",
      "perform gain:  0.2014 0.0000, 0.7626 0.7143\n",
      "perform gain:  0.2086 -0.0571, 0.7554 0.7429\n",
      "perform gain:  0.2158 -0.0286, 0.7482 0.7714\n",
      "perform gain:  0.2086 0.0571, 0.7554 0.7429\n",
      "perform gain:  0.2230 -0.0286, 0.7482 0.7714\n",
      "perform gain:  0.2158 -0.0571, 0.7482 0.7714\n",
      "perform gain:  0.1942 0.0286, 0.7626 0.7143\n",
      "perform gain:  0.2158 -0.0857, 0.7698 0.6857\n",
      "perform gain:  0.2302 0.0286, 0.7410 0.8000\n",
      "perform gain:  0.1942 0.0000, 0.7626 0.7143\n",
      "perform gain:  0.2302 0.0571, 0.7410 0.8000\n",
      "perform gain:  0.1942 0.0571, 0.7698 0.6857\n",
      "perform gain:  0.1942 -0.0571, 0.7554 0.7429\n",
      "perform gain:  0.1799 -0.0571, 0.7914 0.6000\n",
      "perform gain:  0.2230 -0.0571, 0.7554 0.7429\n",
      "perform gain:  0.1799 0.0571, 0.7770 0.6571\n"
     ]
    },
    {
     "ename": "KeyboardInterrupt",
     "evalue": "",
     "output_type": "error",
     "traceback": [
      "\u001b[1;31m---------------------------------------------------------------------------\u001b[0m",
      "\u001b[1;31mKeyboardInterrupt\u001b[0m                         Traceback (most recent call last)",
      "\u001b[1;32m<ipython-input-398-e5a2d1f445de>\u001b[0m in \u001b[0;36m<module>\u001b[1;34m\u001b[0m\n\u001b[0;32m      2\u001b[0m     \u001b[0m_dataset\u001b[0m \u001b[1;33m=\u001b[0m \u001b[0mdata_split\u001b[0m\u001b[1;33m(\u001b[0m\u001b[0mselected_feature_final\u001b[0m\u001b[1;33m,\u001b[0m \u001b[0mlabels\u001b[0m\u001b[1;33m)\u001b[0m\u001b[1;33m\u001b[0m\u001b[1;33m\u001b[0m\u001b[0m\n\u001b[0;32m      3\u001b[0m     \u001b[0m_baseline\u001b[0m \u001b[1;33m=\u001b[0m \u001b[0mnp\u001b[0m\u001b[1;33m.\u001b[0m\u001b[0marray\u001b[0m\u001b[1;33m(\u001b[0m\u001b[1;33m(\u001b[0m\u001b[0m_dataset\u001b[0m\u001b[1;33m[\u001b[0m\u001b[1;36m0\u001b[0m\u001b[1;33m]\u001b[0m\u001b[1;33m[\u001b[0m\u001b[1;36m1\u001b[0m\u001b[1;33m]\u001b[0m\u001b[1;33m.\u001b[0m\u001b[0mmean\u001b[0m\u001b[1;33m(\u001b[0m\u001b[1;33m)\u001b[0m\u001b[1;33m,\u001b[0m \u001b[0m_dataset\u001b[0m\u001b[1;33m[\u001b[0m\u001b[1;36m1\u001b[0m\u001b[1;33m]\u001b[0m\u001b[1;33m[\u001b[0m\u001b[1;36m1\u001b[0m\u001b[1;33m]\u001b[0m\u001b[1;33m.\u001b[0m\u001b[0mmean\u001b[0m\u001b[1;33m(\u001b[0m\u001b[1;33m)\u001b[0m\u001b[1;33m)\u001b[0m\u001b[1;33m)\u001b[0m\u001b[1;33m\u001b[0m\u001b[1;33m\u001b[0m\u001b[0m\n\u001b[1;32m----> 4\u001b[1;33m     \u001b[0mresults_single\u001b[0m\u001b[1;33m.\u001b[0m\u001b[0mappend\u001b[0m\u001b[1;33m(\u001b[0m\u001b[0mnp\u001b[0m\u001b[1;33m.\u001b[0m\u001b[0marray\u001b[0m\u001b[1;33m(\u001b[0m\u001b[0mtest_clf\u001b[0m\u001b[1;33m(\u001b[0m\u001b[0m_dataset\u001b[0m\u001b[1;33m,\u001b[0m \u001b[0mXGBClassifier\u001b[0m\u001b[1;33m,\u001b[0m \u001b[1;33m**\u001b[0m\u001b[0mparams\u001b[0m\u001b[1;33m)\u001b[0m\u001b[1;33m)\u001b[0m \u001b[1;33m-\u001b[0m \u001b[0m_baseline\u001b[0m\u001b[1;33m)\u001b[0m\u001b[1;33m\u001b[0m\u001b[1;33m\u001b[0m\u001b[0m\n\u001b[0m\u001b[0;32m      5\u001b[0m \u001b[1;33m\u001b[0m\u001b[0m\n\u001b[0;32m      6\u001b[0m     \u001b[0mprint\u001b[0m \u001b[1;33m(\u001b[0m\u001b[1;34m'perform gain:  %.4f %.4f, %.4f %.4f'\u001b[0m \u001b[1;33m%\u001b[0m \u001b[1;33m(\u001b[0m\u001b[0mtuple\u001b[0m\u001b[1;33m(\u001b[0m\u001b[0mresults_single\u001b[0m\u001b[1;33m[\u001b[0m\u001b[1;33m-\u001b[0m\u001b[1;36m1\u001b[0m\u001b[1;33m]\u001b[0m\u001b[1;33m)\u001b[0m \u001b[1;33m+\u001b[0m \u001b[0mtuple\u001b[0m\u001b[1;33m(\u001b[0m\u001b[0m_baseline\u001b[0m\u001b[1;33m)\u001b[0m\u001b[1;33m)\u001b[0m\u001b[1;33m)\u001b[0m\u001b[1;33m\u001b[0m\u001b[1;33m\u001b[0m\u001b[0m\n",
      "\u001b[1;32m~\\Desktop\\PrecisionFDA\\utils.py\u001b[0m in \u001b[0;36mtest_clf\u001b[1;34m(dataset, classifier, **kwargs)\u001b[0m\n\u001b[0;32m     27\u001b[0m \u001b[1;33m\u001b[0m\u001b[0m\n\u001b[0;32m     28\u001b[0m     \u001b[0mclf\u001b[0m \u001b[1;33m=\u001b[0m \u001b[0mclassifier\u001b[0m\u001b[1;33m(\u001b[0m\u001b[1;33m**\u001b[0m\u001b[0mkwargs\u001b[0m\u001b[1;33m)\u001b[0m\u001b[1;33m\u001b[0m\u001b[1;33m\u001b[0m\u001b[0m\n\u001b[1;32m---> 29\u001b[1;33m     \u001b[0mclf\u001b[0m\u001b[1;33m.\u001b[0m\u001b[0mfit\u001b[0m\u001b[1;33m(\u001b[0m\u001b[0mtrain_features\u001b[0m\u001b[1;33m,\u001b[0m \u001b[0mtrain_labels\u001b[0m\u001b[1;33m)\u001b[0m\u001b[1;33m\u001b[0m\u001b[1;33m\u001b[0m\u001b[0m\n\u001b[0m\u001b[0;32m     30\u001b[0m \u001b[1;33m\u001b[0m\u001b[0m\n\u001b[0;32m     31\u001b[0m     \u001b[0mpredicted_train\u001b[0m \u001b[1;33m=\u001b[0m \u001b[0mclf\u001b[0m\u001b[1;33m.\u001b[0m\u001b[0mpredict\u001b[0m\u001b[1;33m(\u001b[0m\u001b[0mtrain_features\u001b[0m\u001b[1;33m)\u001b[0m\u001b[1;33m\u001b[0m\u001b[1;33m\u001b[0m\u001b[0m\n",
      "\u001b[1;32mc:\\users\\flyin\\appdata\\local\\programs\\python\\python36\\lib\\site-packages\\xgboost\\sklearn.py\u001b[0m in \u001b[0;36mfit\u001b[1;34m(self, X, y, sample_weight, eval_set, eval_metric, early_stopping_rounds, verbose, xgb_model, sample_weight_eval_set, callbacks)\u001b[0m\n\u001b[0;32m    730\u001b[0m                               \u001b[0mevals_result\u001b[0m\u001b[1;33m=\u001b[0m\u001b[0mevals_result\u001b[0m\u001b[1;33m,\u001b[0m \u001b[0mobj\u001b[0m\u001b[1;33m=\u001b[0m\u001b[0mobj\u001b[0m\u001b[1;33m,\u001b[0m \u001b[0mfeval\u001b[0m\u001b[1;33m=\u001b[0m\u001b[0mfeval\u001b[0m\u001b[1;33m,\u001b[0m\u001b[1;33m\u001b[0m\u001b[1;33m\u001b[0m\u001b[0m\n\u001b[0;32m    731\u001b[0m                               \u001b[0mverbose_eval\u001b[0m\u001b[1;33m=\u001b[0m\u001b[0mverbose\u001b[0m\u001b[1;33m,\u001b[0m \u001b[0mxgb_model\u001b[0m\u001b[1;33m=\u001b[0m\u001b[0mxgb_model\u001b[0m\u001b[1;33m,\u001b[0m\u001b[1;33m\u001b[0m\u001b[1;33m\u001b[0m\u001b[0m\n\u001b[1;32m--> 732\u001b[1;33m                               callbacks=callbacks)\n\u001b[0m\u001b[0;32m    733\u001b[0m \u001b[1;33m\u001b[0m\u001b[0m\n\u001b[0;32m    734\u001b[0m         \u001b[0mself\u001b[0m\u001b[1;33m.\u001b[0m\u001b[0mobjective\u001b[0m \u001b[1;33m=\u001b[0m \u001b[0mxgb_options\u001b[0m\u001b[1;33m[\u001b[0m\u001b[1;34m\"objective\"\u001b[0m\u001b[1;33m]\u001b[0m\u001b[1;33m\u001b[0m\u001b[1;33m\u001b[0m\u001b[0m\n",
      "\u001b[1;32mc:\\users\\flyin\\appdata\\local\\programs\\python\\python36\\lib\\site-packages\\xgboost\\training.py\u001b[0m in \u001b[0;36mtrain\u001b[1;34m(params, dtrain, num_boost_round, evals, obj, feval, maximize, early_stopping_rounds, evals_result, verbose_eval, xgb_model, callbacks, learning_rates)\u001b[0m\n\u001b[0;32m    214\u001b[0m                            \u001b[0mevals\u001b[0m\u001b[1;33m=\u001b[0m\u001b[0mevals\u001b[0m\u001b[1;33m,\u001b[0m\u001b[1;33m\u001b[0m\u001b[1;33m\u001b[0m\u001b[0m\n\u001b[0;32m    215\u001b[0m                            \u001b[0mobj\u001b[0m\u001b[1;33m=\u001b[0m\u001b[0mobj\u001b[0m\u001b[1;33m,\u001b[0m \u001b[0mfeval\u001b[0m\u001b[1;33m=\u001b[0m\u001b[0mfeval\u001b[0m\u001b[1;33m,\u001b[0m\u001b[1;33m\u001b[0m\u001b[1;33m\u001b[0m\u001b[0m\n\u001b[1;32m--> 216\u001b[1;33m                            xgb_model=xgb_model, callbacks=callbacks)\n\u001b[0m\u001b[0;32m    217\u001b[0m \u001b[1;33m\u001b[0m\u001b[0m\n\u001b[0;32m    218\u001b[0m \u001b[1;33m\u001b[0m\u001b[0m\n",
      "\u001b[1;32mc:\\users\\flyin\\appdata\\local\\programs\\python\\python36\\lib\\site-packages\\xgboost\\training.py\u001b[0m in \u001b[0;36m_train_internal\u001b[1;34m(params, dtrain, num_boost_round, evals, obj, feval, xgb_model, callbacks)\u001b[0m\n\u001b[0;32m     72\u001b[0m         \u001b[1;31m# Skip the first update if it is a recovery step.\u001b[0m\u001b[1;33m\u001b[0m\u001b[1;33m\u001b[0m\u001b[1;33m\u001b[0m\u001b[0m\n\u001b[0;32m     73\u001b[0m         \u001b[1;32mif\u001b[0m \u001b[0mversion\u001b[0m \u001b[1;33m%\u001b[0m \u001b[1;36m2\u001b[0m \u001b[1;33m==\u001b[0m \u001b[1;36m0\u001b[0m\u001b[1;33m:\u001b[0m\u001b[1;33m\u001b[0m\u001b[1;33m\u001b[0m\u001b[0m\n\u001b[1;32m---> 74\u001b[1;33m             \u001b[0mbst\u001b[0m\u001b[1;33m.\u001b[0m\u001b[0mupdate\u001b[0m\u001b[1;33m(\u001b[0m\u001b[0mdtrain\u001b[0m\u001b[1;33m,\u001b[0m \u001b[0mi\u001b[0m\u001b[1;33m,\u001b[0m \u001b[0mobj\u001b[0m\u001b[1;33m)\u001b[0m\u001b[1;33m\u001b[0m\u001b[1;33m\u001b[0m\u001b[0m\n\u001b[0m\u001b[0;32m     75\u001b[0m             \u001b[0mbst\u001b[0m\u001b[1;33m.\u001b[0m\u001b[0msave_rabit_checkpoint\u001b[0m\u001b[1;33m(\u001b[0m\u001b[1;33m)\u001b[0m\u001b[1;33m\u001b[0m\u001b[1;33m\u001b[0m\u001b[0m\n\u001b[0;32m     76\u001b[0m             \u001b[0mversion\u001b[0m \u001b[1;33m+=\u001b[0m \u001b[1;36m1\u001b[0m\u001b[1;33m\u001b[0m\u001b[1;33m\u001b[0m\u001b[0m\n",
      "\u001b[1;32mc:\\users\\flyin\\appdata\\local\\programs\\python\\python36\\lib\\site-packages\\xgboost\\core.py\u001b[0m in \u001b[0;36mupdate\u001b[1;34m(self, dtrain, iteration, fobj)\u001b[0m\n\u001b[0;32m   1107\u001b[0m         \u001b[1;32mif\u001b[0m \u001b[0mfobj\u001b[0m \u001b[1;32mis\u001b[0m \u001b[1;32mNone\u001b[0m\u001b[1;33m:\u001b[0m\u001b[1;33m\u001b[0m\u001b[1;33m\u001b[0m\u001b[0m\n\u001b[0;32m   1108\u001b[0m             _check_call(_LIB.XGBoosterUpdateOneIter(self.handle, ctypes.c_int(iteration),\n\u001b[1;32m-> 1109\u001b[1;33m                                                     dtrain.handle))\n\u001b[0m\u001b[0;32m   1110\u001b[0m         \u001b[1;32melse\u001b[0m\u001b[1;33m:\u001b[0m\u001b[1;33m\u001b[0m\u001b[1;33m\u001b[0m\u001b[0m\n\u001b[0;32m   1111\u001b[0m             \u001b[0mpred\u001b[0m \u001b[1;33m=\u001b[0m \u001b[0mself\u001b[0m\u001b[1;33m.\u001b[0m\u001b[0mpredict\u001b[0m\u001b[1;33m(\u001b[0m\u001b[0mdtrain\u001b[0m\u001b[1;33m)\u001b[0m\u001b[1;33m\u001b[0m\u001b[1;33m\u001b[0m\u001b[0m\n",
      "\u001b[1;31mKeyboardInterrupt\u001b[0m: "
     ]
    }
   ],
   "source": [
    "for i in range(100):\n",
    "    _dataset = data_split(selected_feature_final, labels)\n",
    "    _baseline = np.array((_dataset[0][1].mean(), _dataset[1][1].mean()))\n",
    "    results_single.append(np.array(test_clf(_dataset, XGBClassifier, **params)) - _baseline)\n",
    "    \n",
    "    print ('perform gain:  %.4f %.4f, %.4f %.4f' % (tuple(results_single[-1]) + tuple(_baseline)))"
   ]
  },
  {
   "cell_type": "code",
   "execution_count": 399,
   "metadata": {},
   "outputs": [],
   "source": [
    "results_single = np.array(results_single)"
   ]
  },
  {
   "cell_type": "code",
   "execution_count": 400,
   "metadata": {},
   "outputs": [
    {
     "data": {
      "text/plain": [
       "array([0.21123102, 0.0015873 ])"
      ]
     },
     "execution_count": 400,
     "metadata": {},
     "output_type": "execute_result"
    }
   ],
   "source": [
    "results_single.mean(axis=0)"
   ]
  },
  {
   "cell_type": "code",
   "execution_count": 401,
   "metadata": {},
   "outputs": [
    {
     "data": {
      "image/png": "[encoded data removed]",
      "text/plain": [
       "<Figure size 432x288 with 1 Axes>"
      ]
     },
     "metadata": {
      "needs_background": "light"
     },
     "output_type": "display_data"
    }
   ],
   "source": [
    "_=plt.hist(results_single[:,1], bins=10)"
   ]
  },
  {
   "cell_type": "markdown",
   "metadata": {},
   "source": [
    "this params seems to be ok, filter the features."
   ]
  },
  {
   "cell_type": "code",
   "execution_count": 442,
   "metadata": {},
   "outputs": [],
   "source": [
    "from xgboost.sklearn import XGBClassifier"
   ]
  },
  {
   "cell_type": "code",
   "execution_count": 446,
   "metadata": {},
   "outputs": [
    {
     "name": "stdout",
     "output_type": "stream",
     "text": [
      "200/200  "
     ]
    }
   ],
   "source": [
    "train_dataset, valid_dataset = data_split(selected_feature_final, labels, fraction=0.8)\n",
    "\n",
    "feature_importance = np.zeros(selected_feature_final.shape[1], dtype='float')\n",
    "for i in range(200):\n",
    "    print('\\r%2d/%2d  ' % (i+1,200), end='')\n",
    "    _train_dataset, _ = data_split(*train_dataset, fraction=0.8)\n",
    "    clf = XGBClassifier(**params)\n",
    "    clf.fit(*_train_dataset)\n",
    "    feature_importance += clf.feature_importances_\n",
    "    \n",
    "feature_importance /= 200"
   ]
  },
  {
   "cell_type": "code",
   "execution_count": 447,
   "metadata": {},
   "outputs": [
    {
     "data": {
      "image/png": "[encoded data removed]",
      "text/plain": [
       "<Figure size 432x288 with 1 Axes>"
      ]
     },
     "metadata": {
      "needs_background": "light"
     },
     "output_type": "display_data"
    }
   ],
   "source": [
    "_=plt.hist(feature_importance, bins=50)"
   ]
  },
  {
   "cell_type": "markdown",
   "metadata": {},
   "source": [
    "it seems 0.010 would be the 1st level, 0.015 be the second level."
   ]
  },
  {
   "cell_type": "code",
   "execution_count": 448,
   "metadata": {},
   "outputs": [
    {
     "data": {
      "text/plain": [
       "39"
      ]
     },
     "execution_count": 448,
     "metadata": {},
     "output_type": "execute_result"
    }
   ],
   "source": [
    "# 1st level features\n",
    "(feature_importance > 0.01).sum()"
   ]
  },
  {
   "cell_type": "code",
   "execution_count": 449,
   "metadata": {},
   "outputs": [
    {
     "data": {
      "text/plain": [
       "array(['RACE', 'SEX', '8q24.13', '9p12', '9p21.3', '9p24.1', '21q11.1',\n",
       "       '8q24.21', '8q24.3', '1p21.2', '8q23.1', '9p21.1', '8q24.12',\n",
       "       '5q31.2', '4p16.2', '8q21.3', '5q11.1', '7q31.1', '5q21.3',\n",
       "       '9q31.2', '3p25.1', '1p32.2', '8q22.3', '1p31.1', '21q11.2',\n",
       "       '1p34.1', '2p25.3', '9q33.2', '10q11.23', '1p36.31', '5p14.2',\n",
       "       '12q24.11', '5p14.1', '5q11.2', '9q34.3', '3p12.2', '11p15.4',\n",
       "       '6q22.33', '13q12.11'], dtype='<U11')"
      ]
     },
     "execution_count": 449,
     "metadata": {},
     "output_type": "execute_result"
    }
   ],
   "source": [
    "selected_feature_names[feature_importance > 0.01]"
   ]
  },
  {
   "cell_type": "code",
   "execution_count": 452,
   "metadata": {},
   "outputs": [
    {
     "data": {
      "text/plain": [
       "19"
      ]
     },
     "execution_count": 452,
     "metadata": {},
     "output_type": "execute_result"
    }
   ],
   "source": [
    "# level 0 features\n",
    "(feature_importance > 0.015).sum()"
   ]
  },
  {
   "cell_type": "code",
   "execution_count": 453,
   "metadata": {},
   "outputs": [
    {
     "data": {
      "text/plain": [
       "array(['RACE', 'SEX', '8q24.13', '9p12', '9p21.3', '9p24.1', '21q11.1',\n",
       "       '8q24.21', '5p15.32', '1p31.3', '8q23.2', '8q24.3', '1p21.2',\n",
       "       '8q23.3', '8q23.1', '9p21.1', '8q24.12', '15q21.3', '7p11.2',\n",
       "       '14q32.33', '9p23', '5q31.2', '4p16.2', '19q13.13', '8q21.3',\n",
       "       '5q11.1', '7p15.3', '7q31.1', '16q12.1', '5p15.33', '19q13.41',\n",
       "       '5q21.3', '9q31.2', '14q22.2', '3p25.1', '2p23.2', '1p32.2',\n",
       "       '16p12.3', '8q22.3', '1p31.1', '1p33', '21q11.2', '1p34.1',\n",
       "       '2p25.3', '9q33.2', '10q11.23', '12p11.21', '1p36.31', '5p14.2',\n",
       "       '12q24.11', '10q24.33', '5p14.1', '5q11.2', '21q21.2', '9q34.3',\n",
       "       '3p12.2', '11p15.4', '4q33', '3q11.2', '6q22.33', '13q12.11'],\n",
       "      dtype='<U11')"
      ]
     },
     "execution_count": 453,
     "metadata": {},
     "output_type": "execute_result"
    }
   ],
   "source": [
    "selected_feature_names[feature_importance > 0.005]"
   ]
  },
  {
   "cell_type": "markdown",
   "metadata": {},
   "source": [
    "so test these stages"
   ]
  },
  {
   "cell_type": "markdown",
   "metadata": {},
   "source": [
    "level 0 newly added"
   ]
  },
  {
   "cell_type": "code",
   "execution_count": 454,
   "metadata": {},
   "outputs": [
    {
     "name": "stdout",
     "output_type": "stream",
     "text": [
      "100/100  "
     ]
    }
   ],
   "source": [
    "feature_0_stage = selected_feature_final[:,feature_importance > 0.015]\n",
    "scores_0 = []\n",
    "baselines_0 = []\n",
    "for i in range(100):\n",
    "    print('\\r%2d/%2d  ' % (i+1,100), end='')\n",
    "    dataset = data_split(feature_0_stage, labels, fraction=0.7)\n",
    "    baseline = (dataset[0][1].mean(), dataset[1][1].mean())\n",
    "    perform = test_xgb(dataset, **params)\n",
    "    \n",
    "    scores_0.append(perform)\n",
    "    baselines_0.append(baseline)"
   ]
  },
  {
   "cell_type": "code",
   "execution_count": 455,
   "metadata": {},
   "outputs": [],
   "source": [
    "score_0 = np.asarray(scores_0).reshape(-1,2)\n",
    "baseline_0 = np.array(baselines_0)"
   ]
  },
  {
   "cell_type": "code",
   "execution_count": 456,
   "metadata": {},
   "outputs": [
    {
     "data": {
      "text/plain": [
       "array([0.16247934, 0.04528302])"
      ]
     },
     "execution_count": 456,
     "metadata": {},
     "output_type": "execute_result"
    }
   ],
   "source": [
    "(score_0 - baseline_0).mean(axis=0)"
   ]
  },
  {
   "cell_type": "code",
   "execution_count": 457,
   "metadata": {},
   "outputs": [
    {
     "name": "stdout",
     "output_type": "stream",
     "text": [
      "100/100  "
     ]
    }
   ],
   "source": [
    "feature_1st_stage = selected_feature_final[:,feature_importance > 0.01]\n",
    "scores_1st = []\n",
    "baselines_1st = []\n",
    "for i in range(100):\n",
    "    print('\\r%2d/%2d  ' % (i+1,100), end='')\n",
    "    dataset = data_split(feature_1st_stage, labels, fraction=0.7)\n",
    "    baseline = (dataset[0][1].mean(), dataset[1][1].mean())\n",
    "    perform = test_xgb(dataset, **params)\n",
    "    \n",
    "    scores_1st.append(perform)\n",
    "    baselines_1st.append(baseline)"
   ]
  },
  {
   "cell_type": "code",
   "execution_count": 458,
   "metadata": {},
   "outputs": [],
   "source": [
    "score_1st = np.asarray(scores_1st).reshape(-1,2)\n",
    "baseline_1st = np.array(baselines_1st)"
   ]
  },
  {
   "cell_type": "code",
   "execution_count": 459,
   "metadata": {},
   "outputs": [
    {
     "data": {
      "text/plain": [
       "array([0.18933884, 0.02830189])"
      ]
     },
     "execution_count": 459,
     "metadata": {},
     "output_type": "execute_result"
    }
   ],
   "source": [
    "(score_1st - baseline_1st).mean(axis=0)"
   ]
  },
  {
   "cell_type": "code",
   "execution_count": 460,
   "metadata": {},
   "outputs": [
    {
     "name": "stdout",
     "output_type": "stream",
     "text": [
      "100/100  "
     ]
    }
   ],
   "source": [
    "feature_2nd_stage = selected_feature_final[:,feature_importance > 0.005]\n",
    "scores_2nd = []\n",
    "baselines_2nd = []\n",
    "for i in range(100):\n",
    "    print('\\r%2d/%2d  ' % (i+1,100), end='')\n",
    "    dataset = data_split(feature_2nd_stage, labels, fraction=0.7)\n",
    "    baseline = (dataset[0][1].mean(), dataset[1][1].mean())\n",
    "    perform = test_xgb(dataset, **params)\n",
    "    \n",
    "    scores_2nd.append(perform)\n",
    "    baselines_2nd.append(baseline)"
   ]
  },
  {
   "cell_type": "code",
   "execution_count": 461,
   "metadata": {},
   "outputs": [],
   "source": [
    "score_2nd = np.asarray(scores_2nd).reshape(-1,2)\n",
    "baseline_2nd = np.array(baselines_2nd)"
   ]
  },
  {
   "cell_type": "code",
   "execution_count": 462,
   "metadata": {},
   "outputs": [
    {
     "data": {
      "text/plain": [
       "array([0.19958678, 0.01622642])"
      ]
     },
     "execution_count": 462,
     "metadata": {},
     "output_type": "execute_result"
    }
   ],
   "source": [
    "(score_2nd - baseline_2nd).mean(axis=0)"
   ]
  },
  {
   "cell_type": "markdown",
   "metadata": {},
   "source": [
    "there's no doubt to select 1st level"
   ]
  },
  {
   "cell_type": "markdown",
   "metadata": {},
   "source": [
    "let's check the final feature we selected:"
   ]
  },
  {
   "cell_type": "code",
   "execution_count": 463,
   "metadata": {},
   "outputs": [
    {
     "data": {
      "text/plain": [
       "array(['RACE', 'SEX', '9p12', '9p21.3', '9p24.1', '8q24.21', '8q24.3',\n",
       "       '1p21.2', '8q23.1', '5q31.2', '8q21.3', '5q11.1', '7q31.1',\n",
       "       '5q21.3', '1p32.2', '1p31.1', '10q11.23', '11p15.4', '6q22.33'],\n",
       "      dtype='<U11')"
      ]
     },
     "execution_count": 463,
     "metadata": {},
     "output_type": "execute_result"
    }
   ],
   "source": [
    "selected_feature_names[feature_importance > 0.015]"
   ]
  },
  {
   "cell_type": "markdown",
   "metadata": {},
   "source": [
    "note: grading and cancer type not in it... but race and sex in it??"
   ]
  },
  {
   "cell_type": "code",
   "execution_count": 464,
   "metadata": {},
   "outputs": [
    {
     "data": {
      "text/plain": [
       "{'gamma': 1.2,\n",
       " 'colsample_bynode': 1,\n",
       " 'n_jobs': 8,\n",
       " 'min_child_weight': 2,\n",
       " 'max_depth': 2,\n",
       " 'n_estimators': 100}"
      ]
     },
     "execution_count": 464,
     "metadata": {},
     "output_type": "execute_result"
    }
   ],
   "source": [
    "params"
   ]
  },
  {
   "cell_type": "code",
   "execution_count": 465,
   "metadata": {},
   "outputs": [],
   "source": [
    "results_single = []"
   ]
  },
  {
   "cell_type": "code",
   "execution_count": 466,
   "metadata": {
    "scrolled": true
   },
   "outputs": [
    {
     "name": "stdout",
     "output_type": "stream",
     "text": [
      "perform gain:  0.1799 0.0286, 0.7626 0.7143\n",
      "perform gain:  0.1511 0.0857, 0.7626 0.7143\n",
      "perform gain:  0.1799 0.0286, 0.7482 0.7714\n",
      "perform gain:  0.1799 0.1143, 0.7482 0.7714\n",
      "perform gain:  0.1655 0.1143, 0.7626 0.7143\n",
      "perform gain:  0.1583 0.0000, 0.7482 0.7714\n",
      "perform gain:  0.1583 0.0571, 0.7770 0.6571\n",
      "perform gain:  0.2014 -0.0857, 0.7266 0.8571\n",
      "perform gain:  0.1583 0.0857, 0.7626 0.7143\n",
      "perform gain:  0.1655 0.0286, 0.7554 0.7429\n",
      "perform gain:  0.1871 0.0571, 0.7482 0.7714\n",
      "perform gain:  0.1942 -0.1143, 0.7266 0.8571\n",
      "perform gain:  0.1439 0.0286, 0.7554 0.7429\n",
      "perform gain:  0.1799 0.0286, 0.7266 0.8571\n",
      "perform gain:  0.1942 0.0000, 0.7410 0.8000\n",
      "perform gain:  0.1511 0.1429, 0.7698 0.6857\n",
      "perform gain:  0.2014 0.0000, 0.7554 0.7429\n",
      "perform gain:  0.1439 0.1143, 0.7698 0.6857\n",
      "perform gain:  0.1295 0.0286, 0.7626 0.7143\n",
      "perform gain:  0.1367 0.0571, 0.7842 0.6286\n",
      "perform gain:  0.1727 0.0286, 0.7554 0.7429\n",
      "perform gain:  0.1583 0.0571, 0.7626 0.7143\n",
      "perform gain:  0.1295 0.0571, 0.7770 0.6571\n",
      "perform gain:  0.1511 0.0571, 0.7626 0.7143\n",
      "perform gain:  0.1799 0.0286, 0.7410 0.8000\n",
      "perform gain:  0.1655 0.1143, 0.7482 0.7714\n",
      "perform gain:  0.1727 0.0000, 0.7338 0.8286\n",
      "perform gain:  0.1942 0.0000, 0.7338 0.8286\n",
      "perform gain:  0.1655 -0.0857, 0.7482 0.7714\n",
      "perform gain:  0.1799 0.0286, 0.7482 0.7714\n",
      "perform gain:  0.1799 0.0857, 0.7482 0.7714\n",
      "perform gain:  0.1942 -0.0286, 0.7410 0.8000\n",
      "perform gain:  0.1223 0.1714, 0.7554 0.7429\n",
      "perform gain:  0.1223 0.0571, 0.7770 0.6571\n",
      "perform gain:  0.1511 0.1143, 0.7626 0.7143\n",
      "perform gain:  0.1799 0.0286, 0.7554 0.7429\n",
      "perform gain:  0.2086 -0.0286, 0.7338 0.8286\n",
      "perform gain:  0.1727 0.0000, 0.7554 0.7429\n",
      "perform gain:  0.1799 0.0000, 0.7266 0.8571\n",
      "perform gain:  0.2086 0.0286, 0.7266 0.8571\n",
      "perform gain:  0.1727 0.1429, 0.7554 0.7429\n",
      "perform gain:  0.1871 0.0286, 0.7482 0.7714\n",
      "perform gain:  0.1655 0.0857, 0.7410 0.8000\n",
      "perform gain:  0.1655 0.1143, 0.7770 0.6571\n",
      "perform gain:  0.2014 0.0000, 0.7482 0.7714\n",
      "perform gain:  0.1439 0.1143, 0.7626 0.7143\n",
      "perform gain:  0.1655 0.0000, 0.7482 0.7714\n",
      "perform gain:  0.1367 0.0286, 0.7770 0.6571\n",
      "perform gain:  0.1871 0.1143, 0.7554 0.7429\n",
      "perform gain:  0.1871 0.0000, 0.7338 0.8286\n",
      "perform gain:  0.1655 0.0286, 0.7554 0.7429\n",
      "perform gain:  0.1799 0.0571, 0.7410 0.8000\n",
      "perform gain:  0.1799 0.0571, 0.7482 0.7714\n",
      "perform gain:  0.1942 -0.0286, 0.7266 0.8571\n",
      "perform gain:  0.1655 0.0857, 0.7554 0.7429\n",
      "perform gain:  0.1655 0.0571, 0.7554 0.7429\n",
      "perform gain:  0.1727 0.0286, 0.7482 0.7714\n",
      "perform gain:  0.1942 0.0286, 0.7410 0.8000\n",
      "perform gain:  0.1727 0.0571, 0.7554 0.7429\n",
      "perform gain:  0.1511 0.0857, 0.7626 0.7143\n",
      "perform gain:  0.1942 -0.0571, 0.7338 0.8286\n",
      "perform gain:  0.1727 0.0571, 0.7554 0.7429\n",
      "perform gain:  0.1727 0.0000, 0.7338 0.8286\n",
      "perform gain:  0.1871 0.0571, 0.7554 0.7429\n",
      "perform gain:  0.1799 0.0571, 0.7410 0.8000\n",
      "perform gain:  0.1871 -0.0286, 0.7194 0.8857\n",
      "perform gain:  0.1727 0.0286, 0.7554 0.7429\n",
      "perform gain:  0.1942 0.0571, 0.7554 0.7429\n",
      "perform gain:  0.1583 0.0571, 0.7698 0.6857\n",
      "perform gain:  0.1295 0.0571, 0.7770 0.6571\n",
      "perform gain:  0.1871 0.0000, 0.7266 0.8571\n",
      "perform gain:  0.2086 0.0286, 0.7482 0.7714\n",
      "perform gain:  0.1799 0.0571, 0.7410 0.8000\n",
      "perform gain:  0.1942 -0.0286, 0.7338 0.8286\n",
      "perform gain:  0.1799 0.0571, 0.7338 0.8286\n",
      "perform gain:  0.1655 0.0286, 0.7410 0.8000\n",
      "perform gain:  0.1727 0.0286, 0.7482 0.7714\n",
      "perform gain:  0.1655 0.0286, 0.7482 0.7714\n",
      "perform gain:  0.1871 0.0286, 0.7194 0.8857\n",
      "perform gain:  0.1799 -0.0286, 0.7266 0.8571\n",
      "perform gain:  0.1942 0.0857, 0.7482 0.7714\n",
      "perform gain:  0.1439 0.0857, 0.7626 0.7143\n",
      "perform gain:  0.1871 -0.1143, 0.7338 0.8286\n",
      "perform gain:  0.1799 0.0571, 0.7554 0.7429\n",
      "perform gain:  0.1942 0.0857, 0.7554 0.7429\n",
      "perform gain:  0.2014 0.0571, 0.7410 0.8000\n",
      "perform gain:  0.1583 0.0286, 0.7482 0.7714\n",
      "perform gain:  0.1511 0.0571, 0.7626 0.7143\n",
      "perform gain:  0.1871 0.0286, 0.7554 0.7429\n",
      "perform gain:  0.1439 0.1429, 0.7626 0.7143\n",
      "perform gain:  0.1655 0.1429, 0.7698 0.6857\n",
      "perform gain:  0.1727 0.0286, 0.7554 0.7429\n",
      "perform gain:  0.1439 0.1143, 0.7698 0.6857\n",
      "perform gain:  0.1511 0.0286, 0.7554 0.7429\n",
      "perform gain:  0.1727 0.0571, 0.7410 0.8000\n",
      "perform gain:  0.1511 0.0857, 0.7626 0.7143\n",
      "perform gain:  0.1511 0.0857, 0.7554 0.7429\n",
      "perform gain:  0.1799 0.0857, 0.7338 0.8286\n",
      "perform gain:  0.1942 0.0286, 0.7266 0.8571\n",
      "perform gain:  0.1511 0.0857, 0.7626 0.7143\n"
     ]
    }
   ],
   "source": [
    "for i in range(100):\n",
    "    _dataset = data_split(feature_0_stage, labels)\n",
    "    _baseline = np.array((_dataset[0][1].mean(), _dataset[1][1].mean()))\n",
    "    results_single.append(np.array(test_clf(_dataset, XGBClassifier, **params)) - _baseline)\n",
    "    \n",
    "    print ('perform gain:  %.4f %.4f, %.4f %.4f' % (tuple(results_single[-1]) + tuple(_baseline)))"
   ]
  },
  {
   "cell_type": "code",
   "execution_count": 467,
   "metadata": {},
   "outputs": [],
   "source": [
    "results_single = np.array(results_single)"
   ]
  },
  {
   "cell_type": "code",
   "execution_count": 468,
   "metadata": {},
   "outputs": [
    {
     "data": {
      "text/plain": [
       "array([0.17143885, 0.04342857])"
      ]
     },
     "execution_count": 468,
     "metadata": {},
     "output_type": "execute_result"
    }
   ],
   "source": [
    "results_single.mean(axis=0)"
   ]
  },
  {
   "cell_type": "code",
   "execution_count": 473,
   "metadata": {},
   "outputs": [
    {
     "data": {
      "image/png": "[encoded data removed]",
      "text/plain": [
       "<Figure size 432x288 with 1 Axes>"
      ]
     },
     "metadata": {
      "needs_background": "light"
     },
     "output_type": "display_data"
    }
   ],
   "source": [
    "_=plt.hist(results_single[:,1], bins=11)"
   ]
  },
  {
   "cell_type": "code",
   "execution_count": 474,
   "metadata": {},
   "outputs": [
    {
     "data": {
      "text/plain": [
       "77.0"
      ]
     },
     "execution_count": 474,
     "metadata": {},
     "output_type": "execute_result"
    }
   ],
   "source": [
    "(results_single[:,1]>0).mean() * 100"
   ]
  },
  {
   "cell_type": "code",
   "execution_count": 475,
   "metadata": {},
   "outputs": [
    {
     "data": {
      "text/plain": [
       "12.0"
      ]
     },
     "execution_count": 475,
     "metadata": {},
     "output_type": "execute_result"
    }
   ],
   "source": [
    "(results_single[:,1]==0).mean() * 100"
   ]
  },
  {
   "cell_type": "code",
   "execution_count": 476,
   "metadata": {},
   "outputs": [
    {
     "data": {
      "text/plain": [
       "11.0"
      ]
     },
     "execution_count": 476,
     "metadata": {},
     "output_type": "execute_result"
    }
   ],
   "source": [
    "(results_single[:,1]<0).mean() * 100"
   ]
  },
  {
   "cell_type": "markdown",
   "metadata": {},
   "source": [
    "# build final classifiers"
   ]
  },
  {
   "cell_type": "code",
   "execution_count": 477,
   "metadata": {},
   "outputs": [],
   "source": [
    "dataset = data_split(feature_1st_stage, labels)"
   ]
  },
  {
   "cell_type": "code",
   "execution_count": 478,
   "metadata": {},
   "outputs": [
    {
     "name": "stdout",
     "output_type": "stream",
     "text": [
      "0.7697841726618705 0.6857142857142857\n",
      "0.935251798561151 0.8285714285714286\n"
     ]
    }
   ],
   "source": [
    "train_dataset, valid_dataset = dataset\n",
    "train_features, train_labels = train_dataset\n",
    "valid_features, valid_labels = valid_dataset\n",
    "\n",
    "clf = XGBClassifier(**params)\n",
    "clf.fit(train_features, train_labels)\n",
    "\n",
    "predicted_train = clf.predict(train_features)\n",
    "train_acc = (predicted_train == train_labels).mean()\n",
    "\n",
    "predicted_valid = clf.predict(valid_features)\n",
    "valid_acc = (predicted_valid == valid_labels).mean()\n",
    "\n",
    "print (train_labels.mean(), valid_labels.mean())\n",
    "print (train_acc, valid_acc)"
   ]
  },
  {
   "cell_type": "code",
   "execution_count": 481,
   "metadata": {},
   "outputs": [
    {
     "data": {
      "text/plain": [
       "XGBClassifier(base_score=0.5, booster='gbtree', colsample_bylevel=1,\n",
       "              colsample_bynode=1, colsample_bytree=1, gamma=1.2,\n",
       "              learning_rate=0.1, max_delta_step=0, max_depth=2,\n",
       "              min_child_weight=2, missing=None, n_estimators=100, n_jobs=8,\n",
       "              nthread=None, objective='binary:logistic', random_state=0,\n",
       "              reg_alpha=0, reg_lambda=1, scale_pos_weight=1, seed=None,\n",
       "              silent=None, subsample=1, verbosity=1)"
      ]
     },
     "execution_count": 481,
     "metadata": {},
     "output_type": "execute_result"
    }
   ],
   "source": [
    "clf = XGBClassifier(**params)\n",
    "clf.fit(features_8[:,np.argsort(rank_summary)[:175]][:,feature_importance > 0.015], labels_8)"
   ]
  },
  {
   "cell_type": "code",
   "execution_count": 486,
   "metadata": {},
   "outputs": [],
   "source": [
    "test_feature = features_2[:,np.argsort(rank_summary)[:175]][:,feature_importance > 0.015]"
   ]
  },
  {
   "cell_type": "code",
   "execution_count": 487,
   "metadata": {},
   "outputs": [],
   "source": [
    "predicted_test = clf.predict(test_feature)\n",
    "test_acc = (predicted_test == labels_2).mean()"
   ]
  },
  {
   "cell_type": "code",
   "execution_count": 488,
   "metadata": {},
   "outputs": [
    {
     "data": {
      "text/plain": [
       "0.8571428571428571"
      ]
     },
     "execution_count": 488,
     "metadata": {},
     "output_type": "execute_result"
    }
   ],
   "source": [
    "test_acc"
   ]
  },
  {
   "cell_type": "code",
   "execution_count": 489,
   "metadata": {},
   "outputs": [
    {
     "data": {
      "text/plain": [
       "0.7714285714285715"
      ]
     },
     "execution_count": 489,
     "metadata": {},
     "output_type": "execute_result"
    }
   ],
   "source": [
    "labels_2.mean()"
   ]
  },
  {
   "cell_type": "code",
   "execution_count": 490,
   "metadata": {},
   "outputs": [],
   "source": [
    "import pickle"
   ]
  },
  {
   "cell_type": "code",
   "execution_count": 491,
   "metadata": {},
   "outputs": [],
   "source": [
    "with open('final_classifier_CN.pkl', 'wb') as f:\n",
    "    pickle.dump([clf, selected_feature_names[feature_importance > 0.01], feature_map_tables], f)"
   ]
  },
  {
   "cell_type": "markdown",
   "metadata": {},
   "source": [
    "# model usage:\n",
    "    load the model file with pickle, get a tuple of (classifier, feature_names, feature_map_table)\n",
    "    find feature mentioned in feature_names, if it is in the feature_map_tables, map it with its index, use classifier to get the result."
   ]
  },
  {
   "cell_type": "code",
   "execution_count": 532,
   "metadata": {},
   "outputs": [],
   "source": [
    "with open('final_classifier_CN.pkl', 'rb') as f:\n",
    "    classifier, feature_names, map_table = pickle.load(f)"
   ]
  },
  {
   "cell_type": "code",
   "execution_count": 493,
   "metadata": {},
   "outputs": [],
   "source": [
    "from sklearn.metrics import confusion_matrix, roc_auc_score\n",
    "\n",
    "confusion_matrixs = []\n",
    "roc_aucs = []"
   ]
  },
  {
   "cell_type": "code",
   "execution_count": 494,
   "metadata": {},
   "outputs": [
    {
     "name": "stdout",
     "output_type": "stream",
     "text": [
      "100/100  "
     ]
    }
   ],
   "source": [
    "for i in range(100):\n",
    "    print('\\r%2d/%2d  ' % (i+1,100), end='')\n",
    "    train_dataset, valid_dataset = data_split(feature_1st_stage, labels)\n",
    "    train_features, train_labels = train_dataset\n",
    "    valid_features, valid_labels = valid_dataset\n",
    "    \n",
    "    clf = XGBClassifier(**params)\n",
    "    clf.fit(train_features, train_labels)\n",
    "    \n",
    "    predicted_proba_valid = clf.predict_proba(valid_features)\n",
    "    predicted_valid = clf.predict(valid_features)\n",
    "    \n",
    "    confusion_matrixs.append(confusion_matrix(y_true=valid_labels, y_pred=predicted_valid))\n",
    "    roc_aucs.append(roc_auc_score(y_true=valid_labels, y_score=predicted_proba_valid[:,1]))"
   ]
  },
  {
   "cell_type": "code",
   "execution_count": 499,
   "metadata": {},
   "outputs": [
    {
     "name": "stdout",
     "output_type": "stream",
     "text": [
      "specificity: 0.3040\n",
      "sensitivity: 0.9398\n"
     ]
    }
   ],
   "source": [
    "averaged_confusion_matrix = np.array(confusion_matrixs).mean(axis=0)\n",
    "\n",
    "tn, fp, fn, tp = averaged_confusion_matrix.ravel()\n",
    "\n",
    "# specificity\n",
    "print ('specificity: %.4f' % (tn/(tn+fp)))\n",
    "\n",
    "# sensitivity\n",
    "print ('sensitivity: %.4f' % (tp/(tp+fn)))"
   ]
  },
  {
   "cell_type": "code",
   "execution_count": 500,
   "metadata": {},
   "outputs": [
    {
     "data": {
      "text/plain": [
       "0.7496540924324822"
      ]
     },
     "execution_count": 500,
     "metadata": {},
     "output_type": "execute_result"
    }
   ],
   "source": [
    "np.array(roc_aucs).mean()"
   ]
  },
  {
   "cell_type": "code",
   "execution_count": 501,
   "metadata": {},
   "outputs": [
    {
     "data": {
      "text/plain": [
       "0.7496540924324822"
      ]
     },
     "execution_count": 501,
     "metadata": {},
     "output_type": "execute_result"
    }
   ],
   "source": []
  },
  {
   "cell_type": "code",
   "execution_count": null,
   "metadata": {},
   "outputs": [],
   "source": []
  }
 ],
 "metadata": {
  "kernelspec": {
   "display_name": "Python 3",
   "language": "python",
   "name": "python3"
  },
  "language_info": {
   "codemirror_mode": {
    "name": "ipython",
    "version": 3
   },
   "file_extension": ".py",
   "mimetype": "text/x-python",
   "name": "python",
   "nbconvert_exporter": "python",
   "pygments_lexer": "ipython3",
   "version": "3.6.7"
  }
 },
 "nbformat": 4,
 "nbformat_minor": 2
}
