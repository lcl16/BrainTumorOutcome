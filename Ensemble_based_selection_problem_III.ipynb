{
 "cells": [
  {
   "cell_type": "code",
   "execution_count": 1,
   "metadata": {},
   "outputs": [],
   "source": [
    "from data import load_feature_and_outcome, load_reference_genes\n",
    "from utils import *\n",
    "\n",
    "from matplotlib import pyplot as plt\n",
    "import numpy as np\n",
    "from copy import deepcopy\n",
    "import pandas as pd"
   ]
  },
  {
   "cell_type": "code",
   "execution_count": 2,
   "metadata": {},
   "outputs": [],
   "source": [
    "from sklearn.ensemble import ExtraTreesClassifier, RandomForestClassifier\n",
    "from xgboost.sklearn import XGBClassifier\n",
    "from sklearn.svm import LinearSVC"
   ]
  },
  {
   "cell_type": "code",
   "execution_count": 7,
   "metadata": {},
   "outputs": [],
   "source": [
    "import pickle"
   ]
  },
  {
   "cell_type": "code",
   "execution_count": 4,
   "metadata": {},
   "outputs": [],
   "source": [
    "gene_names, features, labels, feature_map_tables = load_feature_and_outcome(\n",
    "    feature_path='./data/sc3_Phase1_CN_GE_FeatureMatrix.tsv',\n",
    "    phenotype_path='./data/sc3_Phase1_CN_GE_Phenotype.tsv',\n",
    "    outcome_path='./data/sc3_Phase1_CN_GE_Outcome.tsv',\n",
    "    shuffle=True\n",
    ")"
   ]
  },
  {
   "cell_type": "code",
   "execution_count": 138,
   "metadata": {},
   "outputs": [
    {
     "data": {
      "text/plain": [
       "{'SEX': Index([' ', 'FEMALE', 'MALE'], dtype='object'),\n",
       " 'RACE': Index(['ASIAN', 'BLACK', 'WHITE'], dtype='object'),\n",
       " 'WHO_GRADING': Index(['II', 'III', 'IV'], dtype='object'),\n",
       " 'CANCER_TYPE': Index(['ASTROCYTOMA', 'GBM', 'MIXED', 'OLIGODENDROGLIOMA', 'UNCLASSIFIED',\n",
       "        'UNKNOWN'],\n",
       "       dtype='object')}"
      ]
     },
     "execution_count": 138,
     "metadata": {},
     "output_type": "execute_result"
    }
   ],
   "source": [
    "feature_map_tables"
   ]
  },
  {
   "cell_type": "markdown",
   "metadata": {},
   "source": [
    "Extract the features obtained from sc1 and sc2"
   ]
  },
  {
   "cell_type": "code",
   "execution_count": 5,
   "metadata": {},
   "outputs": [],
   "source": [
    "def load_model(path):\n",
    "    with open(path, 'rb') as f:\n",
    "        classifier, feature_names, map_table = pickle.load(f)\n",
    "    return classifier, feature_names, map_table"
   ]
  },
  {
   "cell_type": "code",
   "execution_count": 8,
   "metadata": {},
   "outputs": [],
   "source": [
    "model_info_sc1 = load_model('./final_classifier_GE.pkl')\n",
    "model_info_sc2 = load_model('./final_classifier_CN.pkl')"
   ]
  },
  {
   "cell_type": "code",
   "execution_count": 21,
   "metadata": {},
   "outputs": [],
   "source": [
    "selected_feature_names = set(list(model_info_sc1[1])+list(model_info_sc2[1]))"
   ]
  },
  {
   "cell_type": "code",
   "execution_count": 22,
   "metadata": {},
   "outputs": [
    {
     "data": {
      "text/plain": [
       "array(['SEX', 'RACE', 'WHO_GRADING', ..., '22q13.31', '22q13.32',\n",
       "       '22q13.33'], dtype='<U22')"
      ]
     },
     "execution_count": 22,
     "metadata": {},
     "output_type": "execute_result"
    }
   ],
   "source": [
    "gene_names"
   ]
  },
  {
   "cell_type": "code",
   "execution_count": 23,
   "metadata": {},
   "outputs": [],
   "source": [
    "feature_mask = inset(gene_names, selected_feature_names)"
   ]
  },
  {
   "cell_type": "code",
   "execution_count": 29,
   "metadata": {},
   "outputs": [
    {
     "data": {
      "text/plain": [
       "(63, 63)"
      ]
     },
     "execution_count": 29,
     "metadata": {},
     "output_type": "execute_result"
    }
   ],
   "source": [
    "feature_mask.sum(), len(selected_feature_names)"
   ]
  },
  {
   "cell_type": "markdown",
   "metadata": {},
   "source": [
    "# fit feature and classifier params in epoches"
   ]
  },
  {
   "cell_type": "code",
   "execution_count": 30,
   "metadata": {},
   "outputs": [],
   "source": [
    "selected_feature_final = features[:,feature_mask]"
   ]
  },
  {
   "cell_type": "code",
   "execution_count": 31,
   "metadata": {},
   "outputs": [],
   "source": [
    "selected_feature_names = gene_names[feature_mask]"
   ]
  },
  {
   "cell_type": "code",
   "execution_count": 32,
   "metadata": {},
   "outputs": [
    {
     "data": {
      "text/plain": [
       "array(['SEX', 'RACE', 'AATF', 'ABRAXAS1', 'AP1S1', 'C14orf93', 'C2orf68',\n",
       "       'CUL9', 'DUSP3', 'HAUS4', 'HIST1H2BB', 'LBHD1', 'LOC401261',\n",
       "       'NRN1', 'PCMTD1', 'PUM1', 'PURA', 'RANGRF', 'RASSF4', 'RAVER2',\n",
       "       'RPL4', 'SMURF2', 'SPEN', 'SRD5A1', 'WDR11', 'ZNF32', '1p36.31',\n",
       "       '1p34.1', '1p32.2', '1p31.1', '1p21.2', '2p25.3', '3p25.1',\n",
       "       '3p12.2', '4p16.2', '5p14.2', '5p14.1', '5q11.1', '5q11.2',\n",
       "       '5q21.3', '5q31.2', '6q22.33', '7q31.1', '8q21.3', '8q22.3',\n",
       "       '8q23.1', '8q24.12', '8q24.13', '8q24.21', '8q24.3', '9p24.1',\n",
       "       '9p21.3', '9p21.1', '9p12', '9q31.2', '9q33.2', '9q34.3',\n",
       "       '10q11.23', '11p15.4', '12q24.11', '13q12.11', '21q11.1',\n",
       "       '21q11.2'], dtype='<U22')"
      ]
     },
     "execution_count": 32,
     "metadata": {},
     "output_type": "execute_result"
    }
   ],
   "source": [
    "selected_feature_names"
   ]
  },
  {
   "cell_type": "markdown",
   "metadata": {},
   "source": [
    "find a params"
   ]
  },
  {
   "cell_type": "code",
   "execution_count": 54,
   "metadata": {},
   "outputs": [],
   "source": [
    "params_candidate = {\n",
    "    'n_estimators':[100,200],\n",
    "    'max_depth':[2,4,8],\n",
    "    'min_child_weight':[1,2],\n",
    "    'n_jobs':[8],\n",
    "    'colsample_bynode':[0.5,1],\n",
    "    'gamma':[1.2,0]\n",
    "}"
   ]
  },
  {
   "cell_type": "code",
   "execution_count": 55,
   "metadata": {},
   "outputs": [
    {
     "name": "stdout",
     "output_type": "stream",
     "text": [
      "Running grid search on 48 set of params...\n",
      "Eval 48.00 of 48 params...      "
     ]
    }
   ],
   "source": [
    "search_result = grid_search(selected_feature_final, labels, test_xgb, params_candidate, replicates=100)"
   ]
  },
  {
   "cell_type": "code",
   "execution_count": 56,
   "metadata": {},
   "outputs": [],
   "source": [
    "params_list, scores_list, baseline_list = search_result\n",
    "\n",
    "averaged_score = (np.array(scores_list) - np.array(baseline_list)).mean(axis=1)\n",
    "params_list_np = np.array(params_list)\n",
    "\n",
    "sort_index = np.argsort(-averaged_score[:,1])\n",
    "sorted_params_list = params_list_np[sort_index]"
   ]
  },
  {
   "cell_type": "code",
   "execution_count": 61,
   "metadata": {
    "scrolled": true
   },
   "outputs": [
    {
     "data": {
      "text/plain": [
       "array([[0.2405303 , 0.04882353],\n",
       "       [0.23977273, 0.04852941],\n",
       "       [0.2405303 , 0.04794118],\n",
       "       [0.2405303 , 0.04735294],\n",
       "       [0.23113636, 0.04735294],\n",
       "       [0.23325758, 0.04735294],\n",
       "       [0.23969697, 0.04735294],\n",
       "       [0.2325    , 0.04705882],\n",
       "       [0.23924242, 0.04647059],\n",
       "       [0.2405303 , 0.04617647],\n",
       "       [0.23227273, 0.04617647],\n",
       "       [0.23931818, 0.04588235],\n",
       "       [0.2405303 , 0.04588235],\n",
       "       [0.2405303 , 0.04558824],\n",
       "       [0.2405303 , 0.04470588],\n",
       "       [0.2405303 , 0.04441176],\n",
       "       [0.24045455, 0.04441176],\n",
       "       [0.2405303 , 0.04441176],\n",
       "       [0.23772727, 0.04382353],\n",
       "       [0.2405303 , 0.04352941],\n",
       "       [0.23689394, 0.04352941],\n",
       "       [0.2405303 , 0.04323529],\n",
       "       [0.23121212, 0.04294118],\n",
       "       [0.23113636, 0.04294118],\n",
       "       [0.2405303 , 0.04205882],\n",
       "       [0.23984848, 0.04176471],\n",
       "       [0.23765152, 0.04176471],\n",
       "       [0.24045455, 0.04117647],\n",
       "       [0.23674242, 0.04117647],\n",
       "       [0.23969697, 0.04088235],\n",
       "       [0.22704545, 0.04      ],\n",
       "       [0.2269697 , 0.03941176],\n",
       "       [0.2405303 , 0.03852941],\n",
       "       [0.2405303 , 0.03852941],\n",
       "       [0.2405303 , 0.03764706],\n",
       "       [0.2405303 , 0.03764706],\n",
       "       [0.2405303 , 0.03676471],\n",
       "       [0.23901515, 0.03529412],\n",
       "       [0.23901515, 0.03529412],\n",
       "       [0.2355303 , 0.035     ],\n",
       "       [0.2405303 , 0.035     ],\n",
       "       [0.2355303 , 0.03470588],\n",
       "       [0.23871212, 0.03441176],\n",
       "       [0.23871212, 0.03441176],\n",
       "       [0.2405303 , 0.03382353],\n",
       "       [0.23568182, 0.03176471],\n",
       "       [0.23568182, 0.03176471],\n",
       "       [0.2405303 , 0.03147059]])"
      ]
     },
     "execution_count": 61,
     "metadata": {},
     "output_type": "execute_result"
    }
   ],
   "source": [
    "averaged_score[sort_index]"
   ]
  },
  {
   "cell_type": "code",
   "execution_count": 71,
   "metadata": {
    "scrolled": true
   },
   "outputs": [
    {
     "data": {
      "text/plain": [
       "array([{'gamma': 0, 'colsample_bynode': 0.5, 'n_jobs': 8, 'min_child_weight': 1, 'max_depth': 4, 'n_estimators': 200},\n",
       "       {'gamma': 1.2, 'colsample_bynode': 0.5, 'n_jobs': 8, 'min_child_weight': 1, 'max_depth': 8, 'n_estimators': 200},\n",
       "       {'gamma': 0, 'colsample_bynode': 0.5, 'n_jobs': 8, 'min_child_weight': 2, 'max_depth': 2, 'n_estimators': 200},\n",
       "       {'gamma': 0, 'colsample_bynode': 0.5, 'n_jobs': 8, 'min_child_weight': 2, 'max_depth': 8, 'n_estimators': 200},\n",
       "       {'gamma': 1.2, 'colsample_bynode': 0.5, 'n_jobs': 8, 'min_child_weight': 2, 'max_depth': 2, 'n_estimators': 100},\n",
       "       {'gamma': 1.2, 'colsample_bynode': 0.5, 'n_jobs': 8, 'min_child_weight': 1, 'max_depth': 2, 'n_estimators': 200},\n",
       "       {'gamma': 1.2, 'colsample_bynode': 0.5, 'n_jobs': 8, 'min_child_weight': 1, 'max_depth': 8, 'n_estimators': 100},\n",
       "       {'gamma': 1.2, 'colsample_bynode': 0.5, 'n_jobs': 8, 'min_child_weight': 2, 'max_depth': 2, 'n_estimators': 200},\n",
       "       {'gamma': 1.2, 'colsample_bynode': 0.5, 'n_jobs': 8, 'min_child_weight': 1, 'max_depth': 4, 'n_estimators': 100},\n",
       "       {'gamma': 0, 'colsample_bynode': 0.5, 'n_jobs': 8, 'min_child_weight': 2, 'max_depth': 4, 'n_estimators': 200},\n",
       "       {'gamma': 1.2, 'colsample_bynode': 0.5, 'n_jobs': 8, 'min_child_weight': 1, 'max_depth': 2, 'n_estimators': 100},\n",
       "       {'gamma': 1.2, 'colsample_bynode': 0.5, 'n_jobs': 8, 'min_child_weight': 1, 'max_depth': 4, 'n_estimators': 200},\n",
       "       {'gamma': 0, 'colsample_bynode': 0.5, 'n_jobs': 8, 'min_child_weight': 1, 'max_depth': 2, 'n_estimators': 200},\n",
       "       {'gamma': 0, 'colsample_bynode': 0.5, 'n_jobs': 8, 'min_child_weight': 1, 'max_depth': 4, 'n_estimators': 100},\n",
       "       {'gamma': 0, 'colsample_bynode': 0.5, 'n_jobs': 8, 'min_child_weight': 2, 'max_depth': 8, 'n_estimators': 100},\n",
       "       {'gamma': 0, 'colsample_bynode': 0.5, 'n_jobs': 8, 'min_child_weight': 1, 'max_depth': 8, 'n_estimators': 100},\n",
       "       {'gamma': 0, 'colsample_bynode': 0.5, 'n_jobs': 8, 'min_child_weight': 1, 'max_depth': 2, 'n_estimators': 100},\n",
       "       {'gamma': 0, 'colsample_bynode': 0.5, 'n_jobs': 8, 'min_child_weight': 2, 'max_depth': 4, 'n_estimators': 100},\n",
       "       {'gamma': 1.2, 'colsample_bynode': 0.5, 'n_jobs': 8, 'min_child_weight': 2, 'max_depth': 8, 'n_estimators': 200},\n",
       "       {'gamma': 0, 'colsample_bynode': 0.5, 'n_jobs': 8, 'min_child_weight': 1, 'max_depth': 8, 'n_estimators': 200},\n",
       "       {'gamma': 1.2, 'colsample_bynode': 0.5, 'n_jobs': 8, 'min_child_weight': 2, 'max_depth': 8, 'n_estimators': 100},\n",
       "       {'gamma': 0, 'colsample_bynode': 1, 'n_jobs': 8, 'min_child_weight': 2, 'max_depth': 2, 'n_estimators': 200},\n",
       "       {'gamma': 1.2, 'colsample_bynode': 1, 'n_jobs': 8, 'min_child_weight': 1, 'max_depth': 2, 'n_estimators': 100},\n",
       "       {'gamma': 1.2, 'colsample_bynode': 1, 'n_jobs': 8, 'min_child_weight': 1, 'max_depth': 2, 'n_estimators': 200},\n",
       "       {'gamma': 0, 'colsample_bynode': 1, 'n_jobs': 8, 'min_child_weight': 1, 'max_depth': 2, 'n_estimators': 200},\n",
       "       {'gamma': 0, 'colsample_bynode': 1, 'n_jobs': 8, 'min_child_weight': 2, 'max_depth': 2, 'n_estimators': 100},\n",
       "       {'gamma': 1.2, 'colsample_bynode': 0.5, 'n_jobs': 8, 'min_child_weight': 2, 'max_depth': 4, 'n_estimators': 200},\n",
       "       {'gamma': 0, 'colsample_bynode': 1, 'n_jobs': 8, 'min_child_weight': 1, 'max_depth': 2, 'n_estimators': 100},\n",
       "       {'gamma': 1.2, 'colsample_bynode': 0.5, 'n_jobs': 8, 'min_child_weight': 2, 'max_depth': 4, 'n_estimators': 100},\n",
       "       {'gamma': 0, 'colsample_bynode': 0.5, 'n_jobs': 8, 'min_child_weight': 2, 'max_depth': 2, 'n_estimators': 100},\n",
       "       {'gamma': 1.2, 'colsample_bynode': 1, 'n_jobs': 8, 'min_child_weight': 2, 'max_depth': 2, 'n_estimators': 200},\n",
       "       {'gamma': 1.2, 'colsample_bynode': 1, 'n_jobs': 8, 'min_child_weight': 2, 'max_depth': 2, 'n_estimators': 100},\n",
       "       {'gamma': 0, 'colsample_bynode': 1, 'n_jobs': 8, 'min_child_weight': 1, 'max_depth': 4, 'n_estimators': 200},\n",
       "       {'gamma': 0, 'colsample_bynode': 1, 'n_jobs': 8, 'min_child_weight': 1, 'max_depth': 4, 'n_estimators': 100},\n",
       "       {'gamma': 0, 'colsample_bynode': 1, 'n_jobs': 8, 'min_child_weight': 2, 'max_depth': 4, 'n_estimators': 200},\n",
       "       {'gamma': 0, 'colsample_bynode': 1, 'n_jobs': 8, 'min_child_weight': 1, 'max_depth': 8, 'n_estimators': 200},\n",
       "       {'gamma': 0, 'colsample_bynode': 1, 'n_jobs': 8, 'min_child_weight': 2, 'max_depth': 8, 'n_estimators': 200},\n",
       "       {'gamma': 1.2, 'colsample_bynode': 1, 'n_jobs': 8, 'min_child_weight': 1, 'max_depth': 8, 'n_estimators': 100},\n",
       "       {'gamma': 1.2, 'colsample_bynode': 1, 'n_jobs': 8, 'min_child_weight': 1, 'max_depth': 8, 'n_estimators': 200},\n",
       "       {'gamma': 1.2, 'colsample_bynode': 1, 'n_jobs': 8, 'min_child_weight': 2, 'max_depth': 4, 'n_estimators': 100},\n",
       "       {'gamma': 0, 'colsample_bynode': 1, 'n_jobs': 8, 'min_child_weight': 1, 'max_depth': 8, 'n_estimators': 100},\n",
       "       {'gamma': 1.2, 'colsample_bynode': 1, 'n_jobs': 8, 'min_child_weight': 2, 'max_depth': 4, 'n_estimators': 200},\n",
       "       {'gamma': 1.2, 'colsample_bynode': 1, 'n_jobs': 8, 'min_child_weight': 1, 'max_depth': 4, 'n_estimators': 100},\n",
       "       {'gamma': 1.2, 'colsample_bynode': 1, 'n_jobs': 8, 'min_child_weight': 1, 'max_depth': 4, 'n_estimators': 200},\n",
       "       {'gamma': 0, 'colsample_bynode': 1, 'n_jobs': 8, 'min_child_weight': 2, 'max_depth': 4, 'n_estimators': 100},\n",
       "       {'gamma': 1.2, 'colsample_bynode': 1, 'n_jobs': 8, 'min_child_weight': 2, 'max_depth': 8, 'n_estimators': 200},\n",
       "       {'gamma': 1.2, 'colsample_bynode': 1, 'n_jobs': 8, 'min_child_weight': 2, 'max_depth': 8, 'n_estimators': 100},\n",
       "       {'gamma': 0, 'colsample_bynode': 1, 'n_jobs': 8, 'min_child_weight': 2, 'max_depth': 8, 'n_estimators': 100}],\n",
       "      dtype=object)"
      ]
     },
     "execution_count": 71,
     "metadata": {},
     "output_type": "execute_result"
    }
   ],
   "source": [
    "sorted_params_list"
   ]
  },
  {
   "cell_type": "code",
   "execution_count": 72,
   "metadata": {
    "scrolled": true
   },
   "outputs": [],
   "source": [
    "params = sorted_params_list[0]"
   ]
  },
  {
   "cell_type": "code",
   "execution_count": 73,
   "metadata": {},
   "outputs": [
    {
     "data": {
      "text/plain": [
       "{'gamma': 0,\n",
       " 'colsample_bynode': 0.5,\n",
       " 'n_jobs': 8,\n",
       " 'min_child_weight': 1,\n",
       " 'max_depth': 4,\n",
       " 'n_estimators': 200}"
      ]
     },
     "execution_count": 73,
     "metadata": {},
     "output_type": "execute_result"
    }
   ],
   "source": [
    "params"
   ]
  },
  {
   "cell_type": "code",
   "execution_count": 74,
   "metadata": {},
   "outputs": [
    {
     "name": "stdout",
     "output_type": "stream",
     "text": [
      "(1.0, 0.8823529411764706) \n",
      " (0.7348484848484849, 0.8529411764705882)\n"
     ]
    }
   ],
   "source": [
    "dataset = data_split(selected_feature_final, labels)\n",
    "baseline = (dataset[0][1].mean(), dataset[1][1].mean())\n",
    "performance = test_xgb(dataset, **params)\n",
    "print ((performance),'\\n',(baseline))"
   ]
  },
  {
   "cell_type": "code",
   "execution_count": 75,
   "metadata": {},
   "outputs": [],
   "source": [
    "results_single = []"
   ]
  },
  {
   "cell_type": "code",
   "execution_count": 76,
   "metadata": {
    "scrolled": true
   },
   "outputs": [
    {
     "name": "stdout",
     "output_type": "stream",
     "text": [
      "perform gain:  0.2197 -0.0294, 0.7803 0.6765\n",
      "perform gain:  0.2348 0.0588, 0.7652 0.7353\n",
      "perform gain:  0.2348 0.0294, 0.7652 0.7353\n",
      "perform gain:  0.2576 0.0000, 0.7424 0.8235\n",
      "perform gain:  0.2197 0.0588, 0.7803 0.6765\n",
      "perform gain:  0.2424 -0.0588, 0.7576 0.7647\n",
      "perform gain:  0.2348 0.1471, 0.7652 0.7353\n",
      "perform gain:  0.2348 0.0294, 0.7652 0.7353\n",
      "perform gain:  0.2348 0.1471, 0.7652 0.7353\n",
      "perform gain:  0.2121 0.1471, 0.7879 0.6471\n",
      "perform gain:  0.2348 0.0588, 0.7652 0.7353\n",
      "perform gain:  0.2424 0.0294, 0.7576 0.7647\n",
      "perform gain:  0.2803 -0.0882, 0.7197 0.9118\n",
      "perform gain:  0.2121 0.0882, 0.7879 0.6471\n",
      "perform gain:  0.2273 0.1176, 0.7727 0.7059\n",
      "perform gain:  0.2652 0.0000, 0.7348 0.8529\n",
      "perform gain:  0.2273 0.0588, 0.7727 0.7059\n",
      "perform gain:  0.2727 -0.0294, 0.7273 0.8824\n",
      "perform gain:  0.2273 0.0882, 0.7727 0.7059\n",
      "perform gain:  0.2348 0.0588, 0.7652 0.7353\n",
      "perform gain:  0.2273 0.1471, 0.7727 0.7059\n",
      "perform gain:  0.2576 0.0294, 0.7424 0.8235\n",
      "perform gain:  0.2273 0.0294, 0.7727 0.7059\n",
      "perform gain:  0.2348 0.0000, 0.7652 0.7353\n",
      "perform gain:  0.2348 0.0294, 0.7652 0.7353\n",
      "perform gain:  0.2197 0.0294, 0.7803 0.6765\n",
      "perform gain:  0.2500 0.0000, 0.7500 0.7941\n",
      "perform gain:  0.2424 -0.0588, 0.7576 0.7647\n",
      "perform gain:  0.2576 0.0588, 0.7424 0.8235\n",
      "perform gain:  0.2273 -0.1176, 0.7727 0.7059\n",
      "perform gain:  0.2273 0.1471, 0.7727 0.7059\n",
      "perform gain:  0.2500 0.0588, 0.7500 0.7941\n",
      "perform gain:  0.2197 0.0294, 0.7803 0.6765\n",
      "perform gain:  0.2348 0.0588, 0.7652 0.7353\n",
      "perform gain:  0.2273 0.1471, 0.7727 0.7059\n",
      "perform gain:  0.2273 0.1176, 0.7727 0.7059\n",
      "perform gain:  0.2500 0.0294, 0.7500 0.7941\n",
      "perform gain:  0.2500 0.0294, 0.7500 0.7941\n",
      "perform gain:  0.2576 -0.0882, 0.7424 0.8235\n",
      "perform gain:  0.2652 0.0000, 0.7348 0.8529\n",
      "perform gain:  0.2273 0.0588, 0.7727 0.7059\n",
      "perform gain:  0.2500 -0.0588, 0.7500 0.7941\n",
      "perform gain:  0.2197 0.1471, 0.7803 0.6765\n",
      "perform gain:  0.2273 0.0588, 0.7727 0.7059\n",
      "perform gain:  0.2500 -0.0294, 0.7500 0.7941\n",
      "perform gain:  0.2424 0.0588, 0.7576 0.7647\n",
      "perform gain:  0.2727 -0.0294, 0.7273 0.8824\n",
      "perform gain:  0.2500 0.0588, 0.7500 0.7941\n",
      "perform gain:  0.2197 -0.0882, 0.7803 0.6765\n",
      "perform gain:  0.2273 0.1176, 0.7727 0.7059\n",
      "perform gain:  0.2576 0.0882, 0.7424 0.8235\n",
      "perform gain:  0.2879 -0.0882, 0.7121 0.9412\n",
      "perform gain:  0.2121 0.1176, 0.7879 0.6471\n",
      "perform gain:  0.2803 -0.0882, 0.7197 0.9118\n",
      "perform gain:  0.2576 -0.0588, 0.7424 0.8235\n",
      "perform gain:  0.2348 0.0588, 0.7652 0.7353\n",
      "perform gain:  0.2197 0.0588, 0.7803 0.6765\n",
      "perform gain:  0.2273 0.0000, 0.7727 0.7059\n",
      "perform gain:  0.2424 0.0294, 0.7576 0.7647\n",
      "perform gain:  0.2576 -0.0294, 0.7424 0.8235\n",
      "perform gain:  0.2500 -0.0588, 0.7500 0.7941\n",
      "perform gain:  0.2348 0.1176, 0.7652 0.7353\n",
      "perform gain:  0.2348 0.0588, 0.7652 0.7353\n",
      "perform gain:  0.2652 0.0000, 0.7348 0.8529\n",
      "perform gain:  0.2500 0.0000, 0.7500 0.7941\n",
      "perform gain:  0.2424 0.0294, 0.7576 0.7647\n",
      "perform gain:  0.2348 0.0000, 0.7652 0.7353\n",
      "perform gain:  0.2197 0.0588, 0.7803 0.6765\n",
      "perform gain:  0.2500 0.0588, 0.7500 0.7941\n",
      "perform gain:  0.2424 0.0294, 0.7576 0.7647\n",
      "perform gain:  0.2348 0.0882, 0.7652 0.7353\n",
      "perform gain:  0.2424 -0.0294, 0.7576 0.7647\n",
      "perform gain:  0.2500 0.0588, 0.7500 0.7941\n",
      "perform gain:  0.2273 0.0588, 0.7727 0.7059\n",
      "perform gain:  0.2273 0.1176, 0.7727 0.7059\n",
      "perform gain:  0.2576 0.0588, 0.7424 0.8235\n",
      "perform gain:  0.2348 0.0294, 0.7652 0.7353\n",
      "perform gain:  0.2273 -0.0588, 0.7727 0.7059\n",
      "perform gain:  0.2727 -0.0588, 0.7273 0.8824\n",
      "perform gain:  0.2424 0.0294, 0.7576 0.7647\n",
      "perform gain:  0.2197 0.0294, 0.7803 0.6765\n",
      "perform gain:  0.2576 -0.0294, 0.7424 0.8235\n",
      "perform gain:  0.2045 0.1471, 0.7955 0.6176\n",
      "perform gain:  0.2652 0.0000, 0.7348 0.8529\n",
      "perform gain:  0.2348 0.0588, 0.7652 0.7353\n",
      "perform gain:  0.2273 0.0588, 0.7727 0.7059\n",
      "perform gain:  0.2273 0.0588, 0.7727 0.7059\n",
      "perform gain:  0.2348 0.0882, 0.7652 0.7353\n",
      "perform gain:  0.2500 0.0588, 0.7500 0.7941\n",
      "perform gain:  0.2348 0.0294, 0.7652 0.7353\n",
      "perform gain:  0.2348 0.0588, 0.7652 0.7353\n",
      "perform gain:  0.2424 0.0588, 0.7576 0.7647\n",
      "perform gain:  0.2273 0.1176, 0.7727 0.7059\n",
      "perform gain:  0.2197 0.1471, 0.7803 0.6765\n",
      "perform gain:  0.2500 0.0294, 0.7500 0.7941\n",
      "perform gain:  0.2348 -0.0588, 0.7652 0.7353\n",
      "perform gain:  0.2424 0.0882, 0.7576 0.7647\n",
      "perform gain:  0.2273 0.0000, 0.7727 0.7059\n",
      "perform gain:  0.2424 0.1471, 0.7576 0.7647\n",
      "perform gain:  0.2273 0.0882, 0.7727 0.7059\n"
     ]
    }
   ],
   "source": [
    "for i in range(100):\n",
    "    _dataset = data_split(selected_feature_final, labels)\n",
    "    _baseline = np.array((_dataset[0][1].mean(), _dataset[1][1].mean()))\n",
    "    results_single.append(np.array(test_clf(_dataset, XGBClassifier, **params)) - _baseline)\n",
    "    \n",
    "    print ('perform gain:  %.4f %.4f, %.4f %.4f' % (tuple(results_single[-1]) + tuple(_baseline)))"
   ]
  },
  {
   "cell_type": "code",
   "execution_count": 77,
   "metadata": {},
   "outputs": [],
   "source": [
    "results_single = np.array(results_single)"
   ]
  },
  {
   "cell_type": "code",
   "execution_count": 78,
   "metadata": {},
   "outputs": [
    {
     "data": {
      "text/plain": [
       "array([0.2394697 , 0.03735294])"
      ]
     },
     "execution_count": 78,
     "metadata": {},
     "output_type": "execute_result"
    }
   ],
   "source": [
    "results_single.mean(axis=0)"
   ]
  },
  {
   "cell_type": "code",
   "execution_count": 79,
   "metadata": {},
   "outputs": [
    {
     "data": {
      "image/png": "[encoded data removed]",
      "text/plain": [
       "<Figure size 432x288 with 1 Axes>"
      ]
     },
     "metadata": {
      "needs_background": "light"
     },
     "output_type": "display_data"
    }
   ],
   "source": [
    "_=plt.hist(results_single[:,1], bins=10)"
   ]
  },
  {
   "cell_type": "markdown",
   "metadata": {},
   "source": [
    "this params seems to be ok, filter the features."
   ]
  },
  {
   "cell_type": "code",
   "execution_count": 80,
   "metadata": {},
   "outputs": [],
   "source": [
    "from xgboost.sklearn import XGBClassifier"
   ]
  },
  {
   "cell_type": "code",
   "execution_count": 81,
   "metadata": {},
   "outputs": [
    {
     "name": "stdout",
     "output_type": "stream",
     "text": [
      "200/200  "
     ]
    }
   ],
   "source": [
    "train_dataset, valid_dataset = data_split(selected_feature_final, labels, fraction=0.8)\n",
    "\n",
    "feature_importance = np.zeros(selected_feature_final.shape[1], dtype='float')\n",
    "for i in range(200):\n",
    "    print('\\r%2d/%2d  ' % (i+1,200), end='')\n",
    "    _train_dataset, _ = data_split(*train_dataset, fraction=0.8)\n",
    "    clf = XGBClassifier(**params)\n",
    "    clf.fit(*_train_dataset)\n",
    "    feature_importance += clf.feature_importances_\n",
    "    \n",
    "feature_importance /= 200"
   ]
  },
  {
   "cell_type": "code",
   "execution_count": 82,
   "metadata": {},
   "outputs": [
    {
     "data": {
      "image/png": "[encoded data removed]",
      "text/plain": [
       "<Figure size 432x288 with 1 Axes>"
      ]
     },
     "metadata": {
      "needs_background": "light"
     },
     "output_type": "display_data"
    }
   ],
   "source": [
    "_=plt.hist(feature_importance, bins=50)"
   ]
  },
  {
   "cell_type": "markdown",
   "metadata": {},
   "source": [
    "it seems 0.015 would be the 1st level, 0.02 be the second level."
   ]
  },
  {
   "cell_type": "code",
   "execution_count": 83,
   "metadata": {},
   "outputs": [
    {
     "data": {
      "text/plain": [
       "28"
      ]
     },
     "execution_count": 83,
     "metadata": {},
     "output_type": "execute_result"
    }
   ],
   "source": [
    "# 1st level features\n",
    "(feature_importance > 0.015).sum()"
   ]
  },
  {
   "cell_type": "code",
   "execution_count": 87,
   "metadata": {},
   "outputs": [
    {
     "data": {
      "text/plain": [
       "array(['SEX', 'RACE', 'AATF', 'ABRAXAS1', 'AP1S1', 'C14orf93', 'C2orf68',\n",
       "       'DUSP3', 'HAUS4', 'NRN1', 'PCMTD1', 'PURA', 'RASSF4', 'RPL4',\n",
       "       'SMURF2', 'SPEN', 'SRD5A1', 'WDR11', 'ZNF32', '1p36.31', '2p25.3',\n",
       "       '4p16.2', '5p14.2', '5p14.1', '9p24.1', '9p21.3', '9q31.2',\n",
       "       '21q11.2'], dtype='<U22')"
      ]
     },
     "execution_count": 87,
     "metadata": {},
     "output_type": "execute_result"
    }
   ],
   "source": [
    "selected_feature_names[feature_importance > 0.015]"
   ]
  },
  {
   "cell_type": "code",
   "execution_count": 88,
   "metadata": {},
   "outputs": [
    {
     "data": {
      "text/plain": [
       "15"
      ]
     },
     "execution_count": 88,
     "metadata": {},
     "output_type": "execute_result"
    }
   ],
   "source": [
    "# level 0 features\n",
    "(feature_importance > 0.02).sum()"
   ]
  },
  {
   "cell_type": "code",
   "execution_count": 89,
   "metadata": {},
   "outputs": [
    {
     "data": {
      "text/plain": [
       "array(['RACE', 'AATF', 'DUSP3', 'NRN1', 'PCMTD1', 'PURA', 'RPL4', 'SPEN',\n",
       "       'SRD5A1', 'WDR11', '5p14.2', '5p14.1', '9p24.1', '9p21.3',\n",
       "       '9q31.2'], dtype='<U22')"
      ]
     },
     "execution_count": 89,
     "metadata": {},
     "output_type": "execute_result"
    }
   ],
   "source": [
    "selected_feature_names[feature_importance > 0.02]"
   ]
  },
  {
   "cell_type": "markdown",
   "metadata": {},
   "source": [
    "so test these stages"
   ]
  },
  {
   "cell_type": "markdown",
   "metadata": {},
   "source": [
    "level 0 newly added"
   ]
  },
  {
   "cell_type": "code",
   "execution_count": 102,
   "metadata": {},
   "outputs": [
    {
     "name": "stdout",
     "output_type": "stream",
     "text": [
      "100/100  "
     ]
    }
   ],
   "source": [
    "feature_0_stage = selected_feature_final[:,feature_importance > 0.02]\n",
    "scores_0 = []\n",
    "baselines_0 = []\n",
    "for i in range(100):\n",
    "    print('\\r%2d/%2d  ' % (i+1,100), end='')\n",
    "    dataset = data_split(feature_0_stage, labels, fraction=0.7)\n",
    "    baseline = (dataset[0][1].mean(), dataset[1][1].mean())\n",
    "    perform = test_xgb(dataset, **params)\n",
    "    \n",
    "    scores_0.append(perform)\n",
    "    baselines_0.append(baseline)"
   ]
  },
  {
   "cell_type": "code",
   "execution_count": 103,
   "metadata": {},
   "outputs": [],
   "source": [
    "score_0 = np.asarray(scores_0).reshape(-1,2)\n",
    "baseline_0 = np.array(baselines_0)"
   ]
  },
  {
   "cell_type": "code",
   "execution_count": 104,
   "metadata": {},
   "outputs": [
    {
     "data": {
      "text/plain": [
       "array([0.24301724, 0.059     ])"
      ]
     },
     "execution_count": 104,
     "metadata": {},
     "output_type": "execute_result"
    }
   ],
   "source": [
    "(score_0 - baseline_0).mean(axis=0)"
   ]
  },
  {
   "cell_type": "code",
   "execution_count": 93,
   "metadata": {},
   "outputs": [
    {
     "name": "stdout",
     "output_type": "stream",
     "text": [
      "100/100  "
     ]
    }
   ],
   "source": [
    "feature_1st_stage = selected_feature_final[:,feature_importance > 0.015]\n",
    "scores_1st = []\n",
    "baselines_1st = []\n",
    "for i in range(100):\n",
    "    print('\\r%2d/%2d  ' % (i+1,100), end='')\n",
    "    dataset = data_split(feature_1st_stage, labels, fraction=0.7)\n",
    "    baseline = (dataset[0][1].mean(), dataset[1][1].mean())\n",
    "    perform = test_xgb(dataset, **params)\n",
    "    \n",
    "    scores_1st.append(perform)\n",
    "    baselines_1st.append(baseline)"
   ]
  },
  {
   "cell_type": "code",
   "execution_count": 94,
   "metadata": {},
   "outputs": [],
   "source": [
    "score_1st = np.asarray(scores_1st).reshape(-1,2)\n",
    "baseline_1st = np.array(baselines_1st)"
   ]
  },
  {
   "cell_type": "code",
   "execution_count": 95,
   "metadata": {},
   "outputs": [
    {
     "data": {
      "text/plain": [
       "array([0.24051724, 0.052     ])"
      ]
     },
     "execution_count": 95,
     "metadata": {},
     "output_type": "execute_result"
    }
   ],
   "source": [
    "(score_1st - baseline_1st).mean(axis=0)"
   ]
  },
  {
   "cell_type": "code",
   "execution_count": 96,
   "metadata": {},
   "outputs": [
    {
     "name": "stdout",
     "output_type": "stream",
     "text": [
      "100/100  "
     ]
    }
   ],
   "source": [
    "feature_2nd_stage = selected_feature_final[:,feature_importance > 0.01]\n",
    "scores_2nd = []\n",
    "baselines_2nd = []\n",
    "for i in range(100):\n",
    "    print('\\r%2d/%2d  ' % (i+1,100), end='')\n",
    "    dataset = data_split(feature_2nd_stage, labels, fraction=0.7)\n",
    "    baseline = (dataset[0][1].mean(), dataset[1][1].mean())\n",
    "    perform = test_xgb(dataset, **params)\n",
    "    \n",
    "    scores_2nd.append(perform)\n",
    "    baselines_2nd.append(baseline)"
   ]
  },
  {
   "cell_type": "code",
   "execution_count": 97,
   "metadata": {},
   "outputs": [],
   "source": [
    "score_2nd = np.asarray(scores_2nd).reshape(-1,2)\n",
    "baseline_2nd = np.array(baselines_2nd)"
   ]
  },
  {
   "cell_type": "code",
   "execution_count": 98,
   "metadata": {},
   "outputs": [
    {
     "data": {
      "text/plain": [
       "array([0.24043103, 0.0386    ])"
      ]
     },
     "execution_count": 98,
     "metadata": {},
     "output_type": "execute_result"
    }
   ],
   "source": [
    "(score_2nd - baseline_2nd).mean(axis=0)"
   ]
  },
  {
   "cell_type": "markdown",
   "metadata": {},
   "source": [
    "there's no doubt to select 1st level"
   ]
  },
  {
   "cell_type": "markdown",
   "metadata": {},
   "source": [
    "let's check the final feature we selected:"
   ]
  },
  {
   "cell_type": "code",
   "execution_count": 105,
   "metadata": {},
   "outputs": [
    {
     "data": {
      "text/plain": [
       "array(['RACE', 'AATF', 'DUSP3', 'NRN1', 'PCMTD1', 'PURA', 'RPL4', 'SPEN',\n",
       "       'SRD5A1', 'WDR11', '5p14.2', '5p14.1', '9p24.1', '9p21.3',\n",
       "       '9q31.2'], dtype='<U22')"
      ]
     },
     "execution_count": 105,
     "metadata": {},
     "output_type": "execute_result"
    }
   ],
   "source": [
    "selected_feature_names[feature_importance > 0.02]"
   ]
  },
  {
   "cell_type": "code",
   "execution_count": 106,
   "metadata": {},
   "outputs": [
    {
     "data": {
      "text/plain": [
       "{'gamma': 0,\n",
       " 'colsample_bynode': 0.5,\n",
       " 'n_jobs': 8,\n",
       " 'min_child_weight': 1,\n",
       " 'max_depth': 4,\n",
       " 'n_estimators': 200}"
      ]
     },
     "execution_count": 106,
     "metadata": {},
     "output_type": "execute_result"
    }
   ],
   "source": [
    "params"
   ]
  },
  {
   "cell_type": "code",
   "execution_count": 107,
   "metadata": {},
   "outputs": [],
   "source": [
    "results_single = []"
   ]
  },
  {
   "cell_type": "code",
   "execution_count": 108,
   "metadata": {
    "scrolled": true
   },
   "outputs": [
    {
     "name": "stdout",
     "output_type": "stream",
     "text": [
      "perform gain:  0.2348 0.1471, 0.7652 0.7353\n",
      "perform gain:  0.2424 0.0294, 0.7576 0.7647\n",
      "perform gain:  0.2273 0.0294, 0.7727 0.7059\n",
      "perform gain:  0.2273 0.0882, 0.7727 0.7059\n",
      "perform gain:  0.2348 0.0882, 0.7652 0.7353\n",
      "perform gain:  0.2652 0.0000, 0.7348 0.8529\n",
      "perform gain:  0.2424 0.0294, 0.7576 0.7647\n",
      "perform gain:  0.2197 0.1471, 0.7803 0.6765\n",
      "perform gain:  0.2652 0.0588, 0.7348 0.8529\n",
      "perform gain:  0.2121 0.1471, 0.7879 0.6471\n",
      "perform gain:  0.2424 0.0588, 0.7576 0.7647\n",
      "perform gain:  0.2500 0.0882, 0.7500 0.7941\n",
      "perform gain:  0.2424 0.1176, 0.7576 0.7647\n",
      "perform gain:  0.2348 0.0882, 0.7652 0.7353\n",
      "perform gain:  0.2273 0.0588, 0.7727 0.7059\n",
      "perform gain:  0.2273 0.1176, 0.7727 0.7059\n",
      "perform gain:  0.2424 0.0000, 0.7576 0.7647\n",
      "perform gain:  0.2500 0.0294, 0.7500 0.7941\n",
      "perform gain:  0.2652 0.0882, 0.7348 0.8529\n",
      "perform gain:  0.2424 0.0294, 0.7576 0.7647\n",
      "perform gain:  0.2576 0.0588, 0.7424 0.8235\n",
      "perform gain:  0.2424 0.0588, 0.7576 0.7647\n",
      "perform gain:  0.2424 0.0882, 0.7576 0.7647\n",
      "perform gain:  0.2424 0.0882, 0.7576 0.7647\n",
      "perform gain:  0.2500 0.0588, 0.7500 0.7941\n",
      "perform gain:  0.2348 0.0882, 0.7652 0.7353\n",
      "perform gain:  0.2197 0.0882, 0.7803 0.6765\n",
      "perform gain:  0.2576 0.0882, 0.7424 0.8235\n",
      "perform gain:  0.2348 0.0588, 0.7652 0.7353\n",
      "perform gain:  0.2727 -0.0294, 0.7273 0.8824\n",
      "perform gain:  0.2121 0.1176, 0.7879 0.6471\n",
      "perform gain:  0.2348 0.1471, 0.7652 0.7353\n",
      "perform gain:  0.2576 0.0294, 0.7424 0.8235\n",
      "perform gain:  0.2500 0.0588, 0.7500 0.7941\n",
      "perform gain:  0.2424 0.0000, 0.7576 0.7647\n",
      "perform gain:  0.2652 0.0294, 0.7348 0.8529\n",
      "perform gain:  0.2348 0.1176, 0.7652 0.7353\n",
      "perform gain:  0.2424 0.0294, 0.7576 0.7647\n",
      "perform gain:  0.2348 0.1176, 0.7652 0.7353\n",
      "perform gain:  0.2273 0.0000, 0.7727 0.7059\n",
      "perform gain:  0.2652 0.0000, 0.7348 0.8529\n",
      "perform gain:  0.2424 0.1176, 0.7576 0.7647\n",
      "perform gain:  0.2652 0.0882, 0.7348 0.8529\n",
      "perform gain:  0.2500 0.0000, 0.7500 0.7941\n",
      "perform gain:  0.2348 0.0588, 0.7652 0.7353\n",
      "perform gain:  0.2348 0.0882, 0.7652 0.7353\n",
      "perform gain:  0.2348 0.1765, 0.7652 0.7353\n",
      "perform gain:  0.2121 0.1765, 0.7879 0.6471\n",
      "perform gain:  0.2424 0.1471, 0.7576 0.7647\n",
      "perform gain:  0.2348 0.1765, 0.7652 0.7353\n",
      "perform gain:  0.2652 0.0294, 0.7348 0.8529\n",
      "perform gain:  0.2273 0.0000, 0.7727 0.7059\n",
      "perform gain:  0.2121 0.1765, 0.7879 0.6471\n",
      "perform gain:  0.2197 0.0588, 0.7803 0.6765\n",
      "perform gain:  0.2348 0.1176, 0.7652 0.7353\n",
      "perform gain:  0.2424 0.1176, 0.7576 0.7647\n",
      "perform gain:  0.2424 0.0588, 0.7576 0.7647\n",
      "perform gain:  0.2500 0.1471, 0.7500 0.7941\n",
      "perform gain:  0.2348 0.0294, 0.7652 0.7353\n",
      "perform gain:  0.2500 -0.0588, 0.7500 0.7941\n",
      "perform gain:  0.2424 0.0588, 0.7576 0.7647\n",
      "perform gain:  0.2727 -0.0882, 0.7273 0.8824\n",
      "perform gain:  0.2652 -0.0588, 0.7348 0.8529\n",
      "perform gain:  0.2348 0.1176, 0.7652 0.7353\n",
      "perform gain:  0.2424 -0.0294, 0.7576 0.7647\n",
      "perform gain:  0.2197 0.0882, 0.7803 0.6765\n",
      "perform gain:  0.2045 0.0882, 0.7955 0.6176\n",
      "perform gain:  0.2273 0.1176, 0.7727 0.7059\n",
      "perform gain:  0.2424 0.1176, 0.7576 0.7647\n",
      "perform gain:  0.2121 0.1765, 0.7879 0.6471\n",
      "perform gain:  0.2500 0.0882, 0.7500 0.7941\n",
      "perform gain:  0.2348 0.0588, 0.7652 0.7353\n",
      "perform gain:  0.2197 0.0588, 0.7803 0.6765\n",
      "perform gain:  0.2576 0.0294, 0.7424 0.8235\n",
      "perform gain:  0.2348 0.1176, 0.7652 0.7353\n",
      "perform gain:  0.2652 0.0294, 0.7348 0.8529\n",
      "perform gain:  0.2273 0.1176, 0.7727 0.7059\n",
      "perform gain:  0.2652 0.0294, 0.7348 0.8529\n",
      "perform gain:  0.2576 -0.0294, 0.7424 0.8235\n",
      "perform gain:  0.2273 0.1176, 0.7727 0.7059\n",
      "perform gain:  0.2348 0.1471, 0.7652 0.7353\n",
      "perform gain:  0.2348 0.0294, 0.7652 0.7353\n",
      "perform gain:  0.2576 -0.0294, 0.7424 0.8235\n",
      "perform gain:  0.2348 0.0882, 0.7652 0.7353\n",
      "perform gain:  0.2500 0.0000, 0.7500 0.7941\n",
      "perform gain:  0.2424 0.1176, 0.7576 0.7647\n",
      "perform gain:  0.2500 0.0294, 0.7500 0.7941\n",
      "perform gain:  0.2348 0.0588, 0.7652 0.7353\n",
      "perform gain:  0.2424 0.0588, 0.7576 0.7647\n",
      "perform gain:  0.2424 0.1176, 0.7576 0.7647\n",
      "perform gain:  0.2424 0.0882, 0.7576 0.7647\n",
      "perform gain:  0.2348 0.0882, 0.7652 0.7353\n",
      "perform gain:  0.2576 -0.0294, 0.7424 0.8235\n",
      "perform gain:  0.2197 0.1765, 0.7803 0.6765\n",
      "perform gain:  0.2500 -0.0588, 0.7500 0.7941\n",
      "perform gain:  0.2348 0.0000, 0.7652 0.7353\n",
      "perform gain:  0.2500 0.0294, 0.7500 0.7941\n",
      "perform gain:  0.2500 0.0882, 0.7500 0.7941\n",
      "perform gain:  0.2348 0.1176, 0.7652 0.7353\n",
      "perform gain:  0.2348 0.1471, 0.7652 0.7353\n"
     ]
    }
   ],
   "source": [
    "for i in range(100):\n",
    "    _dataset = data_split(feature_0_stage, labels)\n",
    "    _baseline = np.array((_dataset[0][1].mean(), _dataset[1][1].mean()))\n",
    "    results_single.append(np.array(test_clf(_dataset, XGBClassifier, **params)) - _baseline)\n",
    "    \n",
    "    print ('perform gain:  %.4f %.4f, %.4f %.4f' % (tuple(results_single[-1]) + tuple(_baseline)))"
   ]
  },
  {
   "cell_type": "code",
   "execution_count": 109,
   "metadata": {},
   "outputs": [],
   "source": [
    "results_single = np.array(results_single)"
   ]
  },
  {
   "cell_type": "code",
   "execution_count": 110,
   "metadata": {},
   "outputs": [
    {
     "data": {
      "text/plain": [
       "array([0.24083333, 0.06911765])"
      ]
     },
     "execution_count": 110,
     "metadata": {},
     "output_type": "execute_result"
    }
   ],
   "source": [
    "results_single.mean(axis=0)"
   ]
  },
  {
   "cell_type": "code",
   "execution_count": 111,
   "metadata": {},
   "outputs": [
    {
     "data": {
      "image/png": "[encoded data removed]",
      "text/plain": [
       "<Figure size 432x288 with 1 Axes>"
      ]
     },
     "metadata": {
      "needs_background": "light"
     },
     "output_type": "display_data"
    }
   ],
   "source": [
    "_=plt.hist(results_single[:,1], bins=11)"
   ]
  },
  {
   "cell_type": "code",
   "execution_count": 112,
   "metadata": {},
   "outputs": [
    {
     "data": {
      "text/plain": [
       "82.0"
      ]
     },
     "execution_count": 112,
     "metadata": {},
     "output_type": "execute_result"
    }
   ],
   "source": [
    "(results_single[:,1]>0).mean() * 100"
   ]
  },
  {
   "cell_type": "code",
   "execution_count": 113,
   "metadata": {},
   "outputs": [
    {
     "data": {
      "text/plain": [
       "9.0"
      ]
     },
     "execution_count": 113,
     "metadata": {},
     "output_type": "execute_result"
    }
   ],
   "source": [
    "(results_single[:,1]==0).mean() * 100"
   ]
  },
  {
   "cell_type": "code",
   "execution_count": 114,
   "metadata": {},
   "outputs": [
    {
     "data": {
      "text/plain": [
       "9.0"
      ]
     },
     "execution_count": 114,
     "metadata": {},
     "output_type": "execute_result"
    }
   ],
   "source": [
    "(results_single[:,1]<0).mean() * 100"
   ]
  },
  {
   "cell_type": "markdown",
   "metadata": {},
   "source": [
    "# build final classifiers"
   ]
  },
  {
   "cell_type": "code",
   "execution_count": 115,
   "metadata": {},
   "outputs": [],
   "source": [
    "dataset = data_split(feature_1st_stage, labels)"
   ]
  },
  {
   "cell_type": "code",
   "execution_count": 116,
   "metadata": {},
   "outputs": [
    {
     "name": "stdout",
     "output_type": "stream",
     "text": [
      "0.7575757575757576 0.7647058823529411\n",
      "1.0 0.7647058823529411\n"
     ]
    }
   ],
   "source": [
    "train_dataset, valid_dataset = dataset\n",
    "train_features, train_labels = train_dataset\n",
    "valid_features, valid_labels = valid_dataset\n",
    "\n",
    "clf = XGBClassifier(**params)\n",
    "clf.fit(train_features, train_labels)\n",
    "\n",
    "predicted_train = clf.predict(train_features)\n",
    "train_acc = (predicted_train == train_labels).mean()\n",
    "\n",
    "predicted_valid = clf.predict(valid_features)\n",
    "valid_acc = (predicted_valid == valid_labels).mean()\n",
    "\n",
    "print (train_labels.mean(), valid_labels.mean())\n",
    "print (train_acc, valid_acc)"
   ]
  },
  {
   "cell_type": "code",
   "execution_count": 130,
   "metadata": {},
   "outputs": [],
   "source": [
    "(features_8, labels_8), (features_2, labels_2) = data_split(selected_feature_final, labels, fraction=0.8)"
   ]
  },
  {
   "cell_type": "code",
   "execution_count": 131,
   "metadata": {},
   "outputs": [
    {
     "data": {
      "text/plain": [
       "XGBClassifier(base_score=0.5, booster='gbtree', colsample_bylevel=1,\n",
       "              colsample_bynode=0.5, colsample_bytree=1, gamma=0,\n",
       "              learning_rate=0.1, max_delta_step=0, max_depth=4,\n",
       "              min_child_weight=1, missing=None, n_estimators=200, n_jobs=8,\n",
       "              nthread=None, objective='binary:logistic', random_state=0,\n",
       "              reg_alpha=0, reg_lambda=1, scale_pos_weight=1, seed=None,\n",
       "              silent=None, subsample=1, verbosity=1)"
      ]
     },
     "execution_count": 131,
     "metadata": {},
     "output_type": "execute_result"
    }
   ],
   "source": [
    "clf = XGBClassifier(**params)\n",
    "clf.fit(features_8[:,feature_importance > 0.02], labels_8)"
   ]
  },
  {
   "cell_type": "code",
   "execution_count": 132,
   "metadata": {},
   "outputs": [],
   "source": [
    "test_feature = features_2[:,feature_importance > 0.02]"
   ]
  },
  {
   "cell_type": "code",
   "execution_count": 133,
   "metadata": {},
   "outputs": [],
   "source": [
    "predicted_test = clf.predict(test_feature)\n",
    "test_acc = (predicted_test == labels_2).mean()"
   ]
  },
  {
   "cell_type": "code",
   "execution_count": 134,
   "metadata": {},
   "outputs": [
    {
     "data": {
      "text/plain": [
       "0.9117647058823529"
      ]
     },
     "execution_count": 134,
     "metadata": {},
     "output_type": "execute_result"
    }
   ],
   "source": [
    "test_acc"
   ]
  },
  {
   "cell_type": "code",
   "execution_count": 135,
   "metadata": {},
   "outputs": [
    {
     "data": {
      "text/plain": [
       "0.7941176470588235"
      ]
     },
     "execution_count": 135,
     "metadata": {},
     "output_type": "execute_result"
    }
   ],
   "source": [
    "labels_2.mean()"
   ]
  },
  {
   "cell_type": "code",
   "execution_count": 136,
   "metadata": {},
   "outputs": [],
   "source": [
    "import pickle"
   ]
  },
  {
   "cell_type": "code",
   "execution_count": 137,
   "metadata": {},
   "outputs": [],
   "source": [
    "with open('final_classifier_GE_CN.pkl', 'wb') as f:\n",
    "    pickle.dump([clf, selected_feature_names[feature_importance > 0.01], feature_map_tables], f)"
   ]
  },
  {
   "cell_type": "markdown",
   "metadata": {},
   "source": [
    "# model usage:\n",
    "    load the model file with pickle, get a tuple of (classifier, feature_names, feature_map_table)\n",
    "    find feature mentioned in feature_names, if it is in the feature_map_tables, map it with its index, use classifier to get the result."
   ]
  },
  {
   "cell_type": "code",
   "execution_count": 532,
   "metadata": {},
   "outputs": [],
   "source": [
    "with open('final_classifier_GE_CN.pkl', 'rb') as f:\n",
    "    classifier, feature_names, map_table = pickle.load(f)"
   ]
  },
  {
   "cell_type": "code",
   "execution_count": 139,
   "metadata": {},
   "outputs": [],
   "source": [
    "from sklearn.metrics import confusion_matrix, roc_auc_score\n",
    "\n",
    "confusion_matrixs = []\n",
    "roc_aucs = []"
   ]
  },
  {
   "cell_type": "code",
   "execution_count": 158,
   "metadata": {},
   "outputs": [
    {
     "data": {
      "text/plain": [
       "0.31746031746031744"
      ]
     },
     "execution_count": 158,
     "metadata": {},
     "output_type": "execute_result"
    }
   ],
   "source": [
    "(1-labels.mean())/labels.mean()"
   ]
  },
  {
   "cell_type": "code",
   "execution_count": 162,
   "metadata": {},
   "outputs": [
    {
     "data": {
      "text/plain": [
       "{'gamma': 0,\n",
       " 'colsample_bynode': 0.5,\n",
       " 'n_jobs': 8,\n",
       " 'min_child_weight': 1,\n",
       " 'max_depth': 4,\n",
       " 'n_estimators': 200}"
      ]
     },
     "execution_count": 162,
     "metadata": {},
     "output_type": "execute_result"
    }
   ],
   "source": [
    "params"
   ]
  },
  {
   "cell_type": "code",
   "execution_count": 159,
   "metadata": {},
   "outputs": [
    {
     "name": "stdout",
     "output_type": "stream",
     "text": [
      "100/100  "
     ]
    }
   ],
   "source": [
    "for i in range(100):\n",
    "    print('\\r%2d/%2d  ' % (i+1,100), end='')\n",
    "    train_dataset, valid_dataset = data_split(feature_1st_stage, labels)\n",
    "    train_features, train_labels = train_dataset\n",
    "    valid_features, valid_labels = valid_dataset\n",
    "    \n",
    "    clf = XGBClassifier(scale_pos_weight=0.3175,**params)\n",
    "    clf.fit(train_features, train_labels)\n",
    "    \n",
    "    predicted_proba_valid = clf.predict_proba(valid_features)\n",
    "    predicted_valid = clf.predict(valid_features)\n",
    "    \n",
    "    confusion_matrixs.append(confusion_matrix(y_true=valid_labels, y_pred=predicted_valid))\n",
    "    roc_aucs.append(roc_auc_score(y_true=valid_labels, y_score=predicted_proba_valid[:,1]))"
   ]
  },
  {
   "cell_type": "code",
   "execution_count": 160,
   "metadata": {},
   "outputs": [
    {
     "name": "stdout",
     "output_type": "stream",
     "text": [
      "specificity: 0.5623\n",
      "sensitivity: 0.9013\n"
     ]
    }
   ],
   "source": [
    "averaged_confusion_matrix = np.array(confusion_matrixs).mean(axis=0)\n",
    "\n",
    "tn, fp, fn, tp = averaged_confusion_matrix.ravel()\n",
    "\n",
    "# specificity\n",
    "print ('specificity: %.4f' % (tn/(tn+fp)))\n",
    "\n",
    "# sensitivity\n",
    "print ('sensitivity: %.4f' % (tp/(tp+fn)))"
   ]
  },
  {
   "cell_type": "code",
   "execution_count": 161,
   "metadata": {},
   "outputs": [
    {
     "data": {
      "text/plain": [
       "0.8370409659374434"
      ]
     },
     "execution_count": 161,
     "metadata": {},
     "output_type": "execute_result"
    }
   ],
   "source": [
    "np.array(roc_aucs).mean()"
   ]
  },
  {
   "cell_type": "code",
   "execution_count": null,
   "metadata": {},
   "outputs": [],
   "source": []
  },
  {
   "cell_type": "code",
   "execution_count": 163,
   "metadata": {},
   "outputs": [
    {
     "name": "stdout",
     "output_type": "stream",
     "text": [
      "100/100  "
     ]
    }
   ],
   "source": [
    "for i in range(100):\n",
    "    print('\\r%2d/%2d  ' % (i+1,100), end='')\n",
    "    train_dataset, valid_dataset = data_split(feature_1st_stage, labels)\n",
    "    train_features, train_labels = train_dataset\n",
    "    valid_features, valid_labels = valid_dataset\n",
    "    \n",
    "    clf = XGBClassifier(**params)\n",
    "    clf.fit(train_features, train_labels)\n",
    "    \n",
    "    predicted_proba_valid = clf.predict_proba(valid_features)\n",
    "    predicted_valid = clf.predict(valid_features)\n",
    "    \n",
    "    confusion_matrixs.append(confusion_matrix(y_true=valid_labels, y_pred=predicted_valid))\n",
    "    roc_aucs.append(roc_auc_score(y_true=valid_labels, y_score=predicted_proba_valid[:,1]))"
   ]
  },
  {
   "cell_type": "code",
   "execution_count": 164,
   "metadata": {},
   "outputs": [
    {
     "name": "stdout",
     "output_type": "stream",
     "text": [
      "specificity: 0.5469\n",
      "sensitivity: 0.9051\n"
     ]
    }
   ],
   "source": [
    "averaged_confusion_matrix = np.array(confusion_matrixs).mean(axis=0)\n",
    "\n",
    "tn, fp, fn, tp = averaged_confusion_matrix.ravel()\n",
    "\n",
    "# specificity\n",
    "print ('specificity: %.4f' % (tn/(tn+fp)))\n",
    "\n",
    "# sensitivity\n",
    "print ('sensitivity: %.4f' % (tp/(tp+fn)))"
   ]
  },
  {
   "cell_type": "code",
   "execution_count": 165,
   "metadata": {},
   "outputs": [
    {
     "data": {
      "text/plain": [
       "0.8365773610261766"
      ]
     },
     "execution_count": 165,
     "metadata": {},
     "output_type": "execute_result"
    }
   ],
   "source": [
    "np.array(roc_aucs).mean()"
   ]
  },
  {
   "cell_type": "code",
   "execution_count": null,
   "metadata": {},
   "outputs": [],
   "source": []
  }
 ],
 "metadata": {
  "kernelspec": {
   "display_name": "Python 3",
   "language": "python",
   "name": "python3"
  },
  "language_info": {
   "codemirror_mode": {
    "name": "ipython",
    "version": 3
   },
   "file_extension": ".py",
   "mimetype": "text/x-python",
   "name": "python",
   "nbconvert_exporter": "python",
   "pygments_lexer": "ipython3",
   "version": "3.6.7"
  }
 },
 "nbformat": 4,
 "nbformat_minor": 2
}
