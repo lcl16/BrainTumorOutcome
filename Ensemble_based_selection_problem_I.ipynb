{
 "cells": [
  {
   "cell_type": "code",
   "execution_count": 2,
   "metadata": {},
   "outputs": [],
   "source": [
    "from data import load_feature_and_outcome, load_reference_genes\n",
    "from utils import *\n",
    "\n",
    "from matplotlib import pyplot as plt\n",
    "import numpy as np\n",
    "from copy import deepcopy\n",
    "import pandas as pd"
   ]
  },
  {
   "cell_type": "code",
   "execution_count": 4,
   "metadata": {},
   "outputs": [],
   "source": [
    "from sklearn.ensemble import ExtraTreesClassifier, RandomForestClassifier\n",
    "from xgboost.sklearn import XGBClassifier\n",
    "from sklearn.svm import LinearSVC"
   ]
  },
  {
   "cell_type": "code",
   "execution_count": 5,
   "metadata": {},
   "outputs": [],
   "source": [
    "gene_names, features, labels, feature_map_tables = load_feature_and_outcome(shuffle=True)"
   ]
  },
  {
   "cell_type": "markdown",
   "metadata": {},
   "source": [
    "# Select feature with LSVM\n",
    "It seems not working.... One stump is even better..."
   ]
  },
  {
   "cell_type": "code",
   "execution_count": 8,
   "metadata": {
    "scrolled": true
   },
   "outputs": [
    {
     "name": "stderr",
     "output_type": "stream",
     "text": [
      "c:\\users\\flyin\\appdata\\local\\programs\\python\\python36\\lib\\site-packages\\sklearn\\svm\\base.py:929: ConvergenceWarning: Liblinear failed to converge, increase the number of iterations.\n",
      "  \"the number of iterations.\", ConvergenceWarning)\n"
     ]
    },
    {
     "name": "stdout",
     "output_type": "stream",
     "text": [
      "baseline    : 0.8738 0.8289\n",
      "perform gain:  0.1196 -0.0395\n"
     ]
    },
    {
     "name": "stderr",
     "output_type": "stream",
     "text": [
      "c:\\users\\flyin\\appdata\\local\\programs\\python\\python36\\lib\\site-packages\\sklearn\\svm\\base.py:929: ConvergenceWarning: Liblinear failed to converge, increase the number of iterations.\n",
      "  \"the number of iterations.\", ConvergenceWarning)\n"
     ]
    },
    {
     "name": "stdout",
     "output_type": "stream",
     "text": [
      "baseline    : 0.8671 0.8553\n",
      "perform gain:  0.1229 0.0263\n"
     ]
    },
    {
     "name": "stderr",
     "output_type": "stream",
     "text": [
      "c:\\users\\flyin\\appdata\\local\\programs\\python\\python36\\lib\\site-packages\\sklearn\\svm\\base.py:929: ConvergenceWarning: Liblinear failed to converge, increase the number of iterations.\n",
      "  \"the number of iterations.\", ConvergenceWarning)\n"
     ]
    },
    {
     "name": "stdout",
     "output_type": "stream",
     "text": [
      "baseline    : 0.8738 0.8289\n",
      "perform gain:  0.1163 0.0132\n"
     ]
    },
    {
     "name": "stderr",
     "output_type": "stream",
     "text": [
      "c:\\users\\flyin\\appdata\\local\\programs\\python\\python36\\lib\\site-packages\\sklearn\\svm\\base.py:929: ConvergenceWarning: Liblinear failed to converge, increase the number of iterations.\n",
      "  \"the number of iterations.\", ConvergenceWarning)\n"
     ]
    },
    {
     "name": "stdout",
     "output_type": "stream",
     "text": [
      "baseline    : 0.8671 0.8553\n",
      "perform gain:  0.0997 -0.1579\n"
     ]
    },
    {
     "name": "stderr",
     "output_type": "stream",
     "text": [
      "c:\\users\\flyin\\appdata\\local\\programs\\python\\python36\\lib\\site-packages\\sklearn\\svm\\base.py:929: ConvergenceWarning: Liblinear failed to converge, increase the number of iterations.\n",
      "  \"the number of iterations.\", ConvergenceWarning)\n"
     ]
    },
    {
     "name": "stdout",
     "output_type": "stream",
     "text": [
      "baseline    : 0.8571 0.8947\n",
      "perform gain:  0.1329 -0.0263\n"
     ]
    },
    {
     "name": "stderr",
     "output_type": "stream",
     "text": [
      "c:\\users\\flyin\\appdata\\local\\programs\\python\\python36\\lib\\site-packages\\sklearn\\svm\\base.py:929: ConvergenceWarning: Liblinear failed to converge, increase the number of iterations.\n",
      "  \"the number of iterations.\", ConvergenceWarning)\n"
     ]
    },
    {
     "name": "stdout",
     "output_type": "stream",
     "text": [
      "baseline    : 0.8671 0.8553\n",
      "perform gain:  0.1130 -0.1053\n"
     ]
    },
    {
     "name": "stderr",
     "output_type": "stream",
     "text": [
      "c:\\users\\flyin\\appdata\\local\\programs\\python\\python36\\lib\\site-packages\\sklearn\\svm\\base.py:929: ConvergenceWarning: Liblinear failed to converge, increase the number of iterations.\n",
      "  \"the number of iterations.\", ConvergenceWarning)\n"
     ]
    },
    {
     "name": "stdout",
     "output_type": "stream",
     "text": [
      "baseline    : 0.8638 0.8684\n",
      "perform gain:  0.1130 -0.1053\n"
     ]
    },
    {
     "name": "stderr",
     "output_type": "stream",
     "text": [
      "c:\\users\\flyin\\appdata\\local\\programs\\python\\python36\\lib\\site-packages\\sklearn\\svm\\base.py:929: ConvergenceWarning: Liblinear failed to converge, increase the number of iterations.\n",
      "  \"the number of iterations.\", ConvergenceWarning)\n"
     ]
    },
    {
     "name": "stdout",
     "output_type": "stream",
     "text": [
      "baseline    : 0.8738 0.8289\n",
      "perform gain:  0.1030 0.0263\n"
     ]
    },
    {
     "name": "stderr",
     "output_type": "stream",
     "text": [
      "c:\\users\\flyin\\appdata\\local\\programs\\python\\python36\\lib\\site-packages\\sklearn\\svm\\base.py:929: ConvergenceWarning: Liblinear failed to converge, increase the number of iterations.\n",
      "  \"the number of iterations.\", ConvergenceWarning)\n"
     ]
    },
    {
     "name": "stdout",
     "output_type": "stream",
     "text": [
      "baseline    : 0.8738 0.8289\n",
      "perform gain:  0.1063 0.0000\n",
      "baseline    : 0.8671 0.8553\n",
      "perform gain:  0.1196 0.0132\n"
     ]
    },
    {
     "name": "stderr",
     "output_type": "stream",
     "text": [
      "c:\\users\\flyin\\appdata\\local\\programs\\python\\python36\\lib\\site-packages\\sklearn\\svm\\base.py:929: ConvergenceWarning: Liblinear failed to converge, increase the number of iterations.\n",
      "  \"the number of iterations.\", ConvergenceWarning)\n"
     ]
    }
   ],
   "source": [
    "results = []\n",
    "for i in range(10):\n",
    "    _dataset = data_split(features, labels)\n",
    "    _baseline = np.array((_dataset[0][1].mean(), _dataset[1][1].mean()))\n",
    "    results.append(np.array(test_lsvm(_dataset)) - _baseline)\n",
    "    print ('baseline    :  %.4f %.4f' %  tuple(_baseline))\n",
    "    print ('perform gain:  %.4f %.4f' % tuple(results[-1]))"
   ]
  },
  {
   "cell_type": "code",
   "execution_count": 9,
   "metadata": {},
   "outputs": [
    {
     "data": {
      "text/plain": [
       "array([ 0.11461794, -0.03552632])"
      ]
     },
     "execution_count": 9,
     "metadata": {},
     "output_type": "execute_result"
    }
   ],
   "source": [
    "np.array(results).mean(axis=0)"
   ]
  },
  {
   "cell_type": "markdown",
   "metadata": {},
   "source": [
    "# NOOOOOOOOOOOOooo...\n",
    "Search a XGBoost model to select feature. <br>\n",
    "But the BEST XGB model only has a 0.5% accuracy gain (compared to one-stump classifier). <br>\n",
    "So it failed too..."
   ]
  },
  {
   "cell_type": "code",
   "execution_count": 37,
   "metadata": {},
   "outputs": [],
   "source": [
    "params_list = {\n",
    "    'n_estimators':[100],\n",
    "    'max_depth':[2,3,4,8],\n",
    "    'min_child_weight':[1,2,4,8,16,32],\n",
    "    'n_jobs':[8]\n",
    "}\n",
    "\n",
    "whole_list, score_list, baseline = grid_search(features, labels, test_xgb, params_list, replicates=100, fraction=0.7)"
   ]
  },
  {
   "cell_type": "code",
   "execution_count": 83,
   "metadata": {},
   "outputs": [],
   "source": [
    "np_score_list = [item for item in score_list if item != []]\n",
    "np_score_list = np.array(np_score_list)\n",
    "np_score_list = np_score_list.reshape(-1,100,2)\n",
    "\n",
    "np_baseline = np.array(baseline)\n",
    "averaged_score_list = np_score_list - np_baseline\n",
    "\n",
    "final_score_gain = averaged_score_list.mean(axis=1)\n",
    "best_params = whole_list[np.argmax(final_score_gain[:,1])]"
   ]
  },
  {
   "cell_type": "code",
   "execution_count": 105,
   "metadata": {},
   "outputs": [
    {
     "data": {
      "text/plain": [
       "0.005000000000000004"
      ]
     },
     "execution_count": 105,
     "metadata": {},
     "output_type": "execute_result"
    }
   ],
   "source": [
    "final_score_gain[:,1].max()"
   ]
  },
  {
   "cell_type": "markdown",
   "metadata": {},
   "source": [
    "best model: depth=8 (may be greater), min_child_weight=2"
   ]
  },
  {
   "cell_type": "markdown",
   "metadata": {},
   "source": [
    "# ...single variable correlation"
   ]
  },
  {
   "cell_type": "code",
   "execution_count": 64,
   "metadata": {},
   "outputs": [],
   "source": [
    "(features_8, labels_8), (features_2, labels_2) = data_split(features, labels, fraction=0.8)"
   ]
  },
  {
   "cell_type": "code",
   "execution_count": 84,
   "metadata": {},
   "outputs": [
    {
     "name": "stdout",
     "output_type": "stream",
     "text": [
      " 500/500  "
     ]
    },
    {
     "data": {
      "text/plain": [
       "array(['CLK1', 'MED12', 'HAUS4', 'UBXN1', 'NRN1', 'EIF3E', 'DDX59',\n",
       "       'ZNF32', 'ARID1A', 'CSKMT', 'MARCH8', 'SAFB2', 'HEXDC', 'RRNAD1',\n",
       "       'ZSWIM8', 'ZNF518A', 'RPL23', 'ANAPC16', 'THAP9', 'CWF19L2',\n",
       "       'HARS2', 'LOC401261', 'BTAF1', 'C14orf93', 'SHC2', 'CUL9',\n",
       "       'CLNS1A', 'KDM3B', 'HPS4', 'HNRNPA1'], dtype='<U22')"
      ]
     },
     "execution_count": 84,
     "metadata": {},
     "output_type": "execute_result"
    }
   ],
   "source": [
    "# replicate 1\n",
    "rank_summary1 = select_feature_by_pearson(features_8, labels_8, replicates=500)\n",
    "gene_names[np.argsort(rank_summary1)[:30]]"
   ]
  },
  {
   "cell_type": "code",
   "execution_count": 85,
   "metadata": {},
   "outputs": [
    {
     "name": "stdout",
     "output_type": "stream",
     "text": [
      " 500/500  "
     ]
    },
    {
     "data": {
      "text/plain": [
       "array(['CLK1', 'MED12', 'UBXN1', 'HAUS4', 'NRN1', 'ZNF32', 'CSKMT',\n",
       "       'ARID1A', 'EIF3E', 'MARCH8', 'SAFB2', 'DDX59', 'RRNAD1', 'ZNF518A',\n",
       "       'HEXDC', 'RPL23', 'ZSWIM8', 'CWF19L2', 'ANAPC16', 'HARS2',\n",
       "       'HNRNPA1', 'THAP9', 'C14orf93', 'BTAF1', 'SHC2', 'SMARCC2',\n",
       "       'CTBP2', 'SNORD104', 'RPS14', 'RPL5'], dtype='<U22')"
      ]
     },
     "execution_count": 85,
     "metadata": {},
     "output_type": "execute_result"
    }
   ],
   "source": [
    "# replicate 2\n",
    "rank_summary2 = select_feature_by_pearson(features_8, labels_8, replicates=500)\n",
    "gene_names[np.argsort(rank_summary2)[:30]]"
   ]
  },
  {
   "cell_type": "code",
   "execution_count": 86,
   "metadata": {},
   "outputs": [
    {
     "name": "stdout",
     "output_type": "stream",
     "text": [
      " 500/500  "
     ]
    },
    {
     "data": {
      "text/plain": [
       "array(['CLK1', 'MED12', 'UBXN1', 'HAUS4', 'EIF3E', 'NRN1', 'DDX59',\n",
       "       'SAFB2', 'ZNF32', 'ARID1A', 'RRNAD1', 'MARCH8', 'CSKMT', 'HEXDC',\n",
       "       'ZNF518A', 'CWF19L2', 'ZSWIM8', 'HARS2', 'THAP9', 'ANAPC16',\n",
       "       'CUL9', 'RPL23', 'ANKZF1', 'LOC401261', 'SHC2', 'CLNS1A', 'HPS4',\n",
       "       'BTAF1', 'SMARCC2', 'C14orf93'], dtype='<U22')"
      ]
     },
     "execution_count": 86,
     "metadata": {},
     "output_type": "execute_result"
    }
   ],
   "source": [
    "# replicate 3\n",
    "rank_summary3 = select_feature_by_pearson(features_8, labels_8, replicates=500)\n",
    "gene_names[np.argsort(rank_summary3)[:30]]"
   ]
  },
  {
   "cell_type": "code",
   "execution_count": 87,
   "metadata": {},
   "outputs": [
    {
     "name": "stdout",
     "output_type": "stream",
     "text": [
      " 5000/5000  "
     ]
    },
    {
     "data": {
      "text/plain": [
       "array(['CLK1', 'MED12', 'UBXN1', 'HAUS4', 'NRN1', 'ZNF32', 'EIF3E',\n",
       "       'DDX59', 'ARID1A', 'CSKMT', 'MARCH8', 'SAFB2', 'RRNAD1', 'HEXDC',\n",
       "       'ZNF518A', 'ZSWIM8', 'THAP9', 'RPL23', 'CWF19L2', 'HARS2',\n",
       "       'ANAPC16', 'C14orf93', 'BTAF1', 'SHC2', 'LOC401261', 'HNRNPA1',\n",
       "       'SMARCC2', 'HPS4', 'KDM3B', 'CLNS1A'], dtype='<U22')"
      ]
     },
     "execution_count": 87,
     "metadata": {},
     "output_type": "execute_result"
    }
   ],
   "source": [
    "# final replicate\n",
    "rank_summary = select_feature_by_pearson(features_8, labels_8, replicates=5000)\n",
    "gene_names[np.argsort(rank_summary)[:30]]"
   ]
  },
  {
   "cell_type": "code",
   "execution_count": 91,
   "metadata": {},
   "outputs": [],
   "source": [
    "np.savetxt('gene_ranks.txt', gene_names[np.argsort(rank_summary)], fmt='%s')"
   ]
  },
  {
   "cell_type": "code",
   "execution_count": 92,
   "metadata": {},
   "outputs": [],
   "source": [
    "np.save('rank_summary.npy', rank_summary)"
   ]
  },
  {
   "cell_type": "markdown",
   "metadata": {},
   "source": [
    "# Esitmate the number of feature needed for classifier"
   ]
  },
  {
   "cell_type": "code",
   "execution_count": null,
   "metadata": {},
   "outputs": [],
   "source": [
    "performance_num_curve = []\n",
    "baseline_num_curve = []\n",
    "for i in range(1,200,10):\n",
    "    \n",
    "    selected_features = features[:,np.argsort(rank_summary)[:i]]\n",
    "    print (i)\n",
    "    for j in range(40):\n",
    "        dataset = data_split(selected_features, labels)\n",
    "        performance = test_xgb(dataset, **{\n",
    "            'n_estimators':200,\n",
    "            'max_depth':5,\n",
    "            'min_child_weight':2,\n",
    "            'n_jobs':8\n",
    "        })\n",
    "        baseline = (dataset[0][1].mean(), dataset[1][1].mean())\n",
    "        performance_num_curve.append(performance)\n",
    "        baseline_num_curve.append(baseline)\n",
    "\n",
    "p_gain = np.array(performance_num_curve) - np.array(baseline_num_curve)"
   ]
  },
  {
   "cell_type": "code",
   "execution_count": 226,
   "metadata": {},
   "outputs": [
    {
     "data": {
      "text/plain": [
       "LinearRegression(copy_X=True, fit_intercept=True, n_jobs=None, normalize=False)"
      ]
     },
     "execution_count": 226,
     "metadata": {},
     "output_type": "execute_result"
    }
   ],
   "source": [
    "p_gain = p_gain.reshape([-1,40,2])\n",
    "from sklearn.linear_model import LinearRegression\n",
    "\n",
    "lr = LinearRegression()\n",
    "lr.fit(np.arange(1,200,10).reshape([-1,1]), p_gain[:,:,1].mean(axis=1))"
   ]
  },
  {
   "cell_type": "code",
   "execution_count": 227,
   "metadata": {},
   "outputs": [
    {
     "data": {
      "text/plain": [
       "[<matplotlib.lines.Line2D at 0x24fab0c54e0>]"
      ]
     },
     "execution_count": 227,
     "metadata": {},
     "output_type": "execute_result"
    },
    {
     "data": {
      "image/png": "[encoded data removed]",
      "text/plain": [
       "<Figure size 432x288 with 1 Axes>"
      ]
     },
     "metadata": {
      "needs_background": "light"
     },
     "output_type": "display_data"
    }
   ],
   "source": [
    "plt.plot(range(1,200,10), p_gain[:,:,1].mean(axis=1))\n",
    "plt.plot(np.arange(1,200,10), lr.predict(np.arange(1,200,10).reshape([-1,1])))"
   ]
  },
  {
   "cell_type": "code",
   "execution_count": null,
   "metadata": {},
   "outputs": [],
   "source": [
    "performance_num_curve = []\n",
    "baseline_num_curve = []\n",
    "for i in range(1,2000,100):\n",
    "    \n",
    "    selected_features = features[:,np.argsort(rank_summary)[:i]]\n",
    "    print (i)\n",
    "    for j in range(40):\n",
    "        dataset = data_split(selected_features, labels)\n",
    "        performance = test_xgb(dataset, **{\n",
    "            'n_estimators':200,\n",
    "            'max_depth':5,\n",
    "            'min_child_weight':2,\n",
    "            'n_jobs':8\n",
    "        })\n",
    "        baseline = (dataset[0][1].mean(), dataset[1][1].mean())\n",
    "        performance_num_curve.append(performance)\n",
    "        baseline_num_curve.append(baseline)\n",
    "        \n",
    "\n",
    "p_gain = np.array(performance_num_curve) - np.array(baseline_num_curve)\n",
    "p_gain = p_gain.reshape([-1,40,2])\n",
    "from sklearn.linear_model import LinearRegression\n",
    "\n",
    "lr = LinearRegression()\n",
    "lr.fit(np.arange(1,2000,100).reshape([-1,1]), p_gain[:,:,1].mean(axis=1))"
   ]
  },
  {
   "cell_type": "code",
   "execution_count": 233,
   "metadata": {},
   "outputs": [
    {
     "data": {
      "text/plain": [
       "[<matplotlib.lines.Line2D at 0x24fab0b28d0>]"
      ]
     },
     "execution_count": 233,
     "metadata": {},
     "output_type": "execute_result"
    },
    {
     "data": {
      "image/png": "[encoded data removed]",
      "text/plain": [
       "<Figure size 432x288 with 1 Axes>"
      ]
     },
     "metadata": {
      "needs_background": "light"
     },
     "output_type": "display_data"
    }
   ],
   "source": [
    "plt.plot(range(1,2000,100), p_gain[:,:,1].mean(axis=1))\n",
    "plt.plot(np.arange(1,2000,100), lr.predict(np.arange(1,2000,100).reshape([-1,1])))"
   ]
  },
  {
   "cell_type": "code",
   "execution_count": 235,
   "metadata": {},
   "outputs": [
    {
     "name": "stdout",
     "output_type": "stream",
     "text": [
      "200\n",
      "210\n",
      "220\n",
      "230\n",
      "240\n",
      "250\n",
      "260\n",
      "270\n",
      "280\n",
      "290\n",
      "300\n",
      "310\n",
      "320\n",
      "330\n",
      "340\n",
      "350\n",
      "360\n",
      "370\n",
      "380\n",
      "390\n"
     ]
    },
    {
     "data": {
      "text/plain": [
       "LinearRegression(copy_X=True, fit_intercept=True, n_jobs=None, normalize=False)"
      ]
     },
     "execution_count": 235,
     "metadata": {},
     "output_type": "execute_result"
    }
   ],
   "source": [
    "performance_num_curve = []\n",
    "baseline_num_curve = []\n",
    "for i in range(200,400,10):\n",
    "    \n",
    "    selected_features = features[:,np.argsort(rank_summary)[:i]]\n",
    "    print (i)\n",
    "    for j in range(40):\n",
    "        dataset = data_split(selected_features, labels)\n",
    "        performance = test_xgb(dataset, **{\n",
    "            'n_estimators':200,\n",
    "            'max_depth':5,\n",
    "            'min_child_weight':2,\n",
    "            'n_jobs':8\n",
    "        })\n",
    "        baseline = (dataset[0][1].mean(), dataset[1][1].mean())\n",
    "        performance_num_curve.append(performance)\n",
    "        baseline_num_curve.append(baseline)\n",
    "        \n",
    "\n",
    "p_gain = np.array(performance_num_curve) - np.array(baseline_num_curve)\n",
    "p_gain = p_gain.reshape([-1,40,2])\n",
    "from sklearn.linear_model import LinearRegression\n",
    "\n",
    "lr = LinearRegression()\n",
    "lr.fit(np.arange(200,400,10).reshape([-1,1]), p_gain[:,:,1].mean(axis=1))"
   ]
  },
  {
   "cell_type": "code",
   "execution_count": 236,
   "metadata": {},
   "outputs": [
    {
     "data": {
      "text/plain": [
       "[<matplotlib.lines.Line2D at 0x24fab0117b8>]"
      ]
     },
     "execution_count": 236,
     "metadata": {},
     "output_type": "execute_result"
    },
    {
     "data": {
      "image/png": "[encoded data removed]",
      "text/plain": [
       "<Figure size 432x288 with 1 Axes>"
      ]
     },
     "metadata": {
      "needs_background": "light"
     },
     "output_type": "display_data"
    }
   ],
   "source": [
    "plt.plot(range(200,400,10), p_gain[:,:,1].mean(axis=1))\n",
    "plt.plot(np.arange(200,400,10), lr.predict(np.arange(200,400,10).reshape([-1,1])))"
   ]
  },
  {
   "cell_type": "markdown",
   "metadata": {},
   "source": [
    "it seems ~160 features should be ok"
   ]
  },
  {
   "cell_type": "markdown",
   "metadata": {},
   "source": [
    "# fit feature and classifier params in epoches"
   ]
  },
  {
   "cell_type": "code",
   "execution_count": 239,
   "metadata": {},
   "outputs": [],
   "source": [
    "selected_feature_final = features[:,np.argsort(rank_summary)[:160]]"
   ]
  },
  {
   "cell_type": "code",
   "execution_count": 355,
   "metadata": {},
   "outputs": [],
   "source": [
    "selected_feature_names = gene_names[np.argsort(rank_summary)[:160]]"
   ]
  },
  {
   "cell_type": "code",
   "execution_count": 356,
   "metadata": {},
   "outputs": [
    {
     "data": {
      "text/plain": [
       "array(['CLK1', 'MED12', 'UBXN1', 'HAUS4', 'NRN1', 'ZNF32', 'EIF3E',\n",
       "       'DDX59', 'ARID1A', 'CSKMT', 'MARCH8', 'SAFB2', 'RRNAD1', 'HEXDC',\n",
       "       'ZNF518A', 'ZSWIM8', 'THAP9', 'RPL23', 'CWF19L2', 'HARS2',\n",
       "       'ANAPC16', 'C14orf93', 'BTAF1', 'SHC2', 'LOC401261', 'HNRNPA1',\n",
       "       'SMARCC2', 'HPS4', 'KDM3B', 'CLNS1A', 'CTBP2', 'CUL9', 'ANKZF1',\n",
       "       'CEP44', 'BRD8', 'JADE1', 'RPL5', 'SNORD104', 'CPSF7', 'HFM1',\n",
       "       'RACE', 'PARD3', 'EIF3H', 'ZBED8', 'SPEN', 'SEPHS1', 'RPL30',\n",
       "       'RPS14', 'ZSWIM7', 'ASB3', 'CREBBP', 'SFPQ', 'SF1', 'NELFA',\n",
       "       'ELK1', 'HNRNPH3', 'DHTKD1', 'EP300', 'UBR5', 'RGS9', 'PNN',\n",
       "       'EBF4', 'MTHFD2', 'PTCD3', 'RASSF4', 'EDRF1', 'PPWD1', 'AP1S1',\n",
       "       'DUSP3', 'ANKRA2', 'POGZ', 'NACA', 'NSMCE4A', 'BMS1', 'NACAP1',\n",
       "       'UBE2NL', 'INPPL1', 'CRAMP1', 'CLK4', 'ACIN1', 'CEP131', 'NAT9',\n",
       "       'GTF2IRD1', 'SNHG1', 'DVL2', 'KANSL1', 'MTA1', 'AATF', 'CIR1',\n",
       "       'RPL4', 'TAF4', 'ZNF500', 'PCMTD1', 'DLG5', 'EED', 'CBR4', 'EEF1D',\n",
       "       'SDR39U1', 'LOC440311', 'MOCS1', 'RAB2B', 'TTC31', 'TBC1D14',\n",
       "       'ENC1', 'AKAP10', 'FAM193A', 'ZFP62', 'ABRAXAS1', 'BPTF', 'SNX16',\n",
       "       'PABPC3', 'GTF3C5', 'METTL3', 'SETDB1', 'PUM1', 'PRDM11', 'SOX12',\n",
       "       'ARHGEF10L', 'FAM120C', 'HIST1H2BB', 'GMPR2', 'MBOAT7', 'RPA4',\n",
       "       'TIAL1', 'CCDC142', 'LUC7L', 'SCRN2', 'ZNF594', 'SMURF2', 'MORC2',\n",
       "       'ZNF768', 'CCS', 'WDR11', 'METTL17', 'SLC25A21.AS1', 'BUD13',\n",
       "       'NRDE2', 'LBHD1', 'SYTL4', 'SRD5A1', 'IST1', 'SAP30BP', 'NRIP3',\n",
       "       'CETN3', 'RCOR1', 'C2orf68', 'TMEM129', 'RAMP2.AS1', 'CHAC1',\n",
       "       'TMEM175', 'C2orf27A', 'PURA', 'RAVER2', 'APC2', 'GPS2', 'NSUN6',\n",
       "       'RSBN1L', 'PRPF3', 'RANGRF', 'ZNF254'], dtype='<U22')"
      ]
     },
     "execution_count": 356,
     "metadata": {},
     "output_type": "execute_result"
    }
   ],
   "source": [
    "selected_feature_names"
   ]
  },
  {
   "cell_type": "markdown",
   "metadata": {},
   "source": [
    "find a params manually"
   ]
  },
  {
   "cell_type": "code",
   "execution_count": 566,
   "metadata": {},
   "outputs": [],
   "source": [
    "dataset = data_split(selected_feature_final, labels)\n",
    "baseline = (dataset[0][1].mean(), dataset[1][1].mean())\n",
    "params = {\n",
    "    'n_estimators':800,\n",
    "    'max_depth':16,\n",
    "    'min_child_weight':2,\n",
    "    'n_jobs':8\n",
    "}\n",
    "performance = test_xgb(dataset, **params)"
   ]
  },
  {
   "cell_type": "code",
   "execution_count": 567,
   "metadata": {},
   "outputs": [
    {
     "data": {
      "text/plain": [
       "(1.0, 0.8947368421052632)"
      ]
     },
     "execution_count": 567,
     "metadata": {},
     "output_type": "execute_result"
    }
   ],
   "source": [
    "performance"
   ]
  },
  {
   "cell_type": "code",
   "execution_count": 568,
   "metadata": {},
   "outputs": [
    {
     "data": {
      "text/plain": [
       "(0.8604651162790697, 0.881578947368421)"
      ]
     },
     "execution_count": 568,
     "metadata": {},
     "output_type": "execute_result"
    }
   ],
   "source": [
    "baseline"
   ]
  },
  {
   "cell_type": "markdown",
   "metadata": {},
   "source": [
    "this params seems to be ok, filter the features."
   ]
  },
  {
   "cell_type": "code",
   "execution_count": 357,
   "metadata": {},
   "outputs": [],
   "source": [
    "from xgboost.sklearn import XGBClassifier"
   ]
  },
  {
   "cell_type": "code",
   "execution_count": 365,
   "metadata": {},
   "outputs": [
    {
     "name": "stdout",
     "output_type": "stream",
     "text": [
      "40/40  "
     ]
    }
   ],
   "source": [
    "train_dataset, valid_dataset = data_split(selected_feature_final, labels, fraction=0.8)\n",
    "\n",
    "feature_importance = np.zeros(selected_feature_final.shape[1], dtype='float')\n",
    "for i in range(40):\n",
    "    print('\\r%2d/%2d  ' % (i+1,40), end='')\n",
    "    _train_dataset, _ = data_split(*train_dataset, fraction=0.8)\n",
    "    clf = XGBClassifier(**params)\n",
    "    clf.fit(*_train_dataset)\n",
    "    feature_importance += clf.feature_importances_\n",
    "    \n",
    "feature_importance /= 40"
   ]
  },
  {
   "cell_type": "code",
   "execution_count": 372,
   "metadata": {},
   "outputs": [
    {
     "data": {
      "image/png": "[encoded data removed]",
      "text/plain": [
       "<Figure size 432x288 with 1 Axes>"
      ]
     },
     "metadata": {
      "needs_background": "light"
     },
     "output_type": "display_data"
    }
   ],
   "source": [
    "_=plt.hist(feature_importance, bins=50)"
   ]
  },
  {
   "cell_type": "markdown",
   "metadata": {},
   "source": [
    "it seems 0.010 would be the 1st level, 0.005 be the second level."
   ]
  },
  {
   "cell_type": "code",
   "execution_count": 376,
   "metadata": {},
   "outputs": [
    {
     "data": {
      "text/plain": [
       "25"
      ]
     },
     "execution_count": 376,
     "metadata": {},
     "output_type": "execute_result"
    }
   ],
   "source": [
    "# 1st level features\n",
    "(feature_importance > 0.01).sum()"
   ]
  },
  {
   "cell_type": "code",
   "execution_count": 378,
   "metadata": {},
   "outputs": [
    {
     "data": {
      "text/plain": [
       "array(['HAUS4', 'NRN1', 'ZNF32', 'C14orf93', 'LOC401261', 'CUL9', 'RACE',\n",
       "       'SPEN', 'RASSF4', 'AP1S1', 'DUSP3', 'AATF', 'RPL4', 'PCMTD1',\n",
       "       'ABRAXAS1', 'PUM1', 'HIST1H2BB', 'SMURF2', 'WDR11', 'LBHD1',\n",
       "       'SRD5A1', 'C2orf68', 'PURA', 'RAVER2', 'RANGRF'], dtype='<U22')"
      ]
     },
     "execution_count": 378,
     "metadata": {},
     "output_type": "execute_result"
    }
   ],
   "source": [
    "selected_feature_names[feature_importance > 0.01]"
   ]
  },
  {
   "cell_type": "code",
   "execution_count": 377,
   "metadata": {},
   "outputs": [
    {
     "data": {
      "text/plain": [
       "74"
      ]
     },
     "execution_count": 377,
     "metadata": {},
     "output_type": "execute_result"
    }
   ],
   "source": [
    "# 1st level features\n",
    "(feature_importance > 0.005).sum()"
   ]
  },
  {
   "cell_type": "code",
   "execution_count": 379,
   "metadata": {},
   "outputs": [
    {
     "data": {
      "text/plain": [
       "array(['CLK1', 'HAUS4', 'NRN1', 'ZNF32', 'EIF3E', 'ARID1A', 'CSKMT',\n",
       "       'ZNF518A', 'ZSWIM8', 'CWF19L2', 'C14orf93', 'LOC401261', 'SMARCC2',\n",
       "       'KDM3B', 'CTBP2', 'CUL9', 'RACE', 'ZBED8', 'SPEN', 'SEPHS1',\n",
       "       'RPL30', 'RPS14', 'ASB3', 'SF1', 'ELK1', 'DHTKD1', 'EP300',\n",
       "       'MTHFD2', 'PTCD3', 'RASSF4', 'EDRF1', 'AP1S1', 'DUSP3', 'ANKRA2',\n",
       "       'NACA', 'NSMCE4A', 'NACAP1', 'UBE2NL', 'INPPL1', 'CRAMP1',\n",
       "       'GTF2IRD1', 'DVL2', 'MTA1', 'AATF', 'CIR1', 'RPL4', 'PCMTD1',\n",
       "       'EEF1D', 'MOCS1', 'RAB2B', 'ENC1', 'ABRAXAS1', 'PUM1', 'PRDM11',\n",
       "       'HIST1H2BB', 'GMPR2', 'RPA4', 'SCRN2', 'ZNF594', 'SMURF2', 'WDR11',\n",
       "       'LBHD1', 'SRD5A1', 'RCOR1', 'C2orf68', 'TMEM129', 'TMEM175',\n",
       "       'C2orf27A', 'PURA', 'RAVER2', 'APC2', 'GPS2', 'PRPF3', 'RANGRF'],\n",
       "      dtype='<U22')"
      ]
     },
     "execution_count": 379,
     "metadata": {},
     "output_type": "execute_result"
    }
   ],
   "source": [
    "selected_feature_names[feature_importance > 0.005]"
   ]
  },
  {
   "cell_type": "markdown",
   "metadata": {},
   "source": [
    "so test these stages"
   ]
  },
  {
   "cell_type": "markdown",
   "metadata": {},
   "source": [
    "level 0 newly added"
   ]
  },
  {
   "cell_type": "code",
   "execution_count": 512,
   "metadata": {},
   "outputs": [
    {
     "name": "stdout",
     "output_type": "stream",
     "text": [
      "100/100  "
     ]
    }
   ],
   "source": [
    "feature_0_stage = selected_feature_final[:,feature_importance > 0.015]\n",
    "scores_0 = []\n",
    "baselines_0 = []\n",
    "for i in range(100):\n",
    "    print('\\r%2d/%2d  ' % (i+1,100), end='')\n",
    "    dataset = data_split(feature_0_stage, labels, fraction=0.7)\n",
    "    baseline = (dataset[0][1].mean(), dataset[1][1].mean())\n",
    "    perform = test_xgb(dataset, **params)\n",
    "    \n",
    "    scores_0.append(perform)\n",
    "    baselines_0.append(baseline)"
   ]
  },
  {
   "cell_type": "code",
   "execution_count": 513,
   "metadata": {},
   "outputs": [],
   "source": [
    "score_0 = np.asarray(scores_0).reshape(-1,2)\n",
    "baseline_0 = np.array(baselines_0)"
   ]
  },
  {
   "cell_type": "code",
   "execution_count": 514,
   "metadata": {},
   "outputs": [
    {
     "data": {
      "text/plain": [
       "array([0.13479087, 0.01131579])"
      ]
     },
     "execution_count": 514,
     "metadata": {},
     "output_type": "execute_result"
    }
   ],
   "source": [
    "(score_0 - baseline_0).mean(axis=0)"
   ]
  },
  {
   "cell_type": "code",
   "execution_count": 382,
   "metadata": {},
   "outputs": [
    {
     "name": "stdout",
     "output_type": "stream",
     "text": [
      "100/100  "
     ]
    }
   ],
   "source": [
    "feature_1st_stage = selected_feature_final[:,feature_importance > 0.01]\n",
    "scores_1st = []\n",
    "baselines_1st = []\n",
    "for i in range(100):\n",
    "    print('\\r%2d/%2d  ' % (i+1,100), end='')\n",
    "    dataset = data_split(feature_1st_stage, labels, fraction=0.7)\n",
    "    baseline = (dataset[0][1].mean(), dataset[1][1].mean())\n",
    "    perform = test_xgb(dataset, **params)\n",
    "    \n",
    "    scores_1st.append(perform)\n",
    "    baselines_1st.append(baseline)"
   ]
  },
  {
   "cell_type": "code",
   "execution_count": 388,
   "metadata": {},
   "outputs": [],
   "source": [
    "score_1st = np.asarray(scores_1st).reshape(-1,2)\n",
    "baseline_1st = np.array(baselines_1st)"
   ]
  },
  {
   "cell_type": "code",
   "execution_count": 389,
   "metadata": {},
   "outputs": [
    {
     "data": {
      "text/plain": [
       "array([0.1343346 , 0.01201754])"
      ]
     },
     "execution_count": 389,
     "metadata": {},
     "output_type": "execute_result"
    }
   ],
   "source": [
    "(score_1st - baseline_1st).mean(axis=0)"
   ]
  },
  {
   "cell_type": "code",
   "execution_count": 383,
   "metadata": {},
   "outputs": [
    {
     "name": "stdout",
     "output_type": "stream",
     "text": [
      "100/100  "
     ]
    }
   ],
   "source": [
    "feature_2nd_stage = selected_feature_final[:,feature_importance > 0.005]\n",
    "scores_2nd = []\n",
    "baselines_2nd = []\n",
    "for i in range(100):\n",
    "    print('\\r%2d/%2d  ' % (i+1,100), end='')\n",
    "    dataset = data_split(feature_2nd_stage, labels, fraction=0.7)\n",
    "    baseline = (dataset[0][1].mean(), dataset[1][1].mean())\n",
    "    perform = test_xgb(dataset, **params)\n",
    "    \n",
    "    scores_2nd.append(perform)\n",
    "    baselines_2nd.append(baseline)"
   ]
  },
  {
   "cell_type": "code",
   "execution_count": 390,
   "metadata": {},
   "outputs": [],
   "source": [
    "score_2nd = np.asarray(scores_2nd).reshape(-1,2)\n",
    "baseline_2nd = np.array(baselines_2nd)"
   ]
  },
  {
   "cell_type": "code",
   "execution_count": 391,
   "metadata": {},
   "outputs": [
    {
     "data": {
      "text/plain": [
       "array([0.13486692, 0.00736842])"
      ]
     },
     "execution_count": 391,
     "metadata": {},
     "output_type": "execute_result"
    }
   ],
   "source": [
    "(score_2nd - baseline_2nd).mean(axis=0)"
   ]
  },
  {
   "cell_type": "markdown",
   "metadata": {},
   "source": [
    "there's no doubt to select 1st level"
   ]
  },
  {
   "cell_type": "markdown",
   "metadata": {},
   "source": [
    "let's check the final feature we selected:"
   ]
  },
  {
   "cell_type": "code",
   "execution_count": 393,
   "metadata": {},
   "outputs": [
    {
     "data": {
      "text/plain": [
       "array(['HAUS4', 'NRN1', 'ZNF32', 'C14orf93', 'LOC401261', 'CUL9', 'RACE',\n",
       "       'SPEN', 'RASSF4', 'AP1S1', 'DUSP3', 'AATF', 'RPL4', 'PCMTD1',\n",
       "       'ABRAXAS1', 'PUM1', 'HIST1H2BB', 'SMURF2', 'WDR11', 'LBHD1',\n",
       "       'SRD5A1', 'C2orf68', 'PURA', 'RAVER2', 'RANGRF'], dtype='<U22')"
      ]
     },
     "execution_count": 393,
     "metadata": {},
     "output_type": "execute_result"
    }
   ],
   "source": [
    "selected_feature_names[feature_importance > 0.01]"
   ]
  },
  {
   "cell_type": "markdown",
   "metadata": {},
   "source": [
    "note: grading and cancer type not in it... WTF"
   ]
  },
  {
   "cell_type": "code",
   "execution_count": 451,
   "metadata": {},
   "outputs": [
    {
     "data": {
      "text/plain": [
       "{'n_estimators': 8000, 'max_depth': 16, 'min_child_weight': 2, 'n_jobs': 8}"
      ]
     },
     "execution_count": 451,
     "metadata": {},
     "output_type": "execute_result"
    }
   ],
   "source": [
    "params"
   ]
  },
  {
   "cell_type": "code",
   "execution_count": null,
   "metadata": {},
   "outputs": [],
   "source": [
    "results_single = []"
   ]
  },
  {
   "cell_type": "code",
   "execution_count": 470,
   "metadata": {},
   "outputs": [
    {
     "name": "stdout",
     "output_type": "stream",
     "text": [
      "perform gain:  0.1329 0.0132, 0.8671 0.8553\n",
      "perform gain:  0.1296 0.0263, 0.8704 0.8421\n",
      "perform gain:  0.1229 0.0395, 0.8771 0.8158\n",
      "perform gain:  0.1362 -0.0263, 0.8638 0.8684\n",
      "perform gain:  0.1462 0.0395, 0.8538 0.9079\n",
      "perform gain:  0.1296 -0.0132, 0.8704 0.8421\n",
      "perform gain:  0.1429 0.0000, 0.8571 0.8947\n",
      "perform gain:  0.1196 0.0132, 0.8804 0.8026\n",
      "perform gain:  0.1395 0.0132, 0.8605 0.8816\n",
      "perform gain:  0.1429 0.0000, 0.8571 0.8947\n",
      "perform gain:  0.1296 0.0132, 0.8704 0.8421\n",
      "perform gain:  0.1395 0.0395, 0.8605 0.8816\n",
      "perform gain:  0.1262 0.0000, 0.8738 0.8289\n",
      "perform gain:  0.1462 -0.0658, 0.8538 0.9079\n",
      "perform gain:  0.1429 -0.0395, 0.8571 0.8947\n",
      "perform gain:  0.1262 0.0526, 0.8738 0.8289\n",
      "perform gain:  0.1296 0.0132, 0.8704 0.8421\n",
      "perform gain:  0.1495 -0.0132, 0.8505 0.9211\n",
      "perform gain:  0.1462 0.0526, 0.8538 0.9079\n",
      "perform gain:  0.1329 0.0395, 0.8671 0.8553\n",
      "perform gain:  0.1362 -0.0132, 0.8638 0.8684\n",
      "perform gain:  0.1395 -0.0263, 0.8605 0.8816\n",
      "perform gain:  0.1395 -0.0132, 0.8605 0.8816\n",
      "perform gain:  0.1561 -0.0132, 0.8439 0.9474\n",
      "perform gain:  0.1262 0.0395, 0.8738 0.8289\n",
      "perform gain:  0.1329 0.0395, 0.8671 0.8553\n",
      "perform gain:  0.1196 0.0395, 0.8804 0.8026\n",
      "perform gain:  0.1229 0.0395, 0.8771 0.8158\n",
      "perform gain:  0.1429 0.0132, 0.8571 0.8947\n",
      "perform gain:  0.1362 -0.0263, 0.8638 0.8684\n",
      "perform gain:  0.1196 0.0658, 0.8804 0.8026\n",
      "perform gain:  0.1362 0.0526, 0.8638 0.8684\n",
      "perform gain:  0.1262 0.0395, 0.8738 0.8289\n",
      "perform gain:  0.1329 0.0132, 0.8671 0.8553\n",
      "perform gain:  0.1429 0.0263, 0.8571 0.8947\n",
      "perform gain:  0.1329 0.0395, 0.8671 0.8553\n",
      "perform gain:  0.1262 0.0395, 0.8738 0.8289\n",
      "perform gain:  0.1296 0.0132, 0.8704 0.8421\n",
      "perform gain:  0.1196 0.0395, 0.8804 0.8026\n",
      "perform gain:  0.1196 0.0000, 0.8804 0.8026\n",
      "perform gain:  0.1462 0.0000, 0.8538 0.9079\n",
      "perform gain:  0.1462 0.0000, 0.8538 0.9079\n",
      "perform gain:  0.1229 0.0263, 0.8771 0.8158\n",
      "perform gain:  0.1329 0.0000, 0.8671 0.8553\n",
      "perform gain:  0.1362 0.0395, 0.8638 0.8684\n",
      "perform gain:  0.1329 0.0526, 0.8671 0.8553\n",
      "perform gain:  0.1395 0.0132, 0.8605 0.8816\n",
      "perform gain:  0.1495 0.0000, 0.8505 0.9211\n",
      "perform gain:  0.1395 0.0132, 0.8605 0.8816\n",
      "perform gain:  0.1229 0.0263, 0.8771 0.8158\n",
      "perform gain:  0.1329 0.0395, 0.8671 0.8553\n",
      "perform gain:  0.1296 0.0132, 0.8704 0.8421\n",
      "perform gain:  0.1362 0.0526, 0.8638 0.8684\n",
      "perform gain:  0.1395 0.0132, 0.8605 0.8816\n",
      "perform gain:  0.1528 -0.0132, 0.8472 0.9342\n",
      "perform gain:  0.1528 0.0132, 0.8472 0.9342\n",
      "perform gain:  0.1429 0.0132, 0.8571 0.8947\n",
      "perform gain:  0.1395 0.0132, 0.8605 0.8816\n",
      "perform gain:  0.1296 0.0263, 0.8704 0.8421\n",
      "perform gain:  0.1296 0.0395, 0.8704 0.8421\n",
      "perform gain:  0.1262 0.0526, 0.8738 0.8289\n",
      "perform gain:  0.1329 0.0263, 0.8671 0.8553\n",
      "perform gain:  0.1429 0.0395, 0.8571 0.8947\n",
      "perform gain:  0.1296 0.0263, 0.8704 0.8421\n",
      "perform gain:  0.1196 -0.0263, 0.8804 0.8026\n",
      "perform gain:  0.1362 0.0263, 0.8638 0.8684\n",
      "perform gain:  0.1462 -0.0132, 0.8538 0.9079\n",
      "perform gain:  0.1262 -0.0132, 0.8738 0.8289\n",
      "perform gain:  0.1163 0.0526, 0.8837 0.7895\n",
      "perform gain:  0.1229 0.0526, 0.8771 0.8158\n",
      "perform gain:  0.1329 0.0263, 0.8671 0.8553\n",
      "perform gain:  0.1395 0.0132, 0.8605 0.8816\n",
      "perform gain:  0.1296 0.0132, 0.8704 0.8421\n",
      "perform gain:  0.1196 0.0132, 0.8804 0.8026\n",
      "perform gain:  0.1395 0.0000, 0.8605 0.8816\n",
      "perform gain:  0.1395 0.0132, 0.8605 0.8816\n",
      "perform gain:  0.1329 0.0132, 0.8671 0.8553\n",
      "perform gain:  0.1329 0.0132, 0.8671 0.8553\n",
      "perform gain:  0.1296 0.0395, 0.8704 0.8421\n",
      "perform gain:  0.1329 0.0526, 0.8671 0.8553\n",
      "perform gain:  0.1362 0.0000, 0.8638 0.8684\n",
      "perform gain:  0.1462 0.0000, 0.8538 0.9079\n",
      "perform gain:  0.1362 0.0132, 0.8638 0.8684\n",
      "perform gain:  0.1163 0.0000, 0.8837 0.7895\n",
      "perform gain:  0.1395 0.0263, 0.8605 0.8816\n",
      "perform gain:  0.1528 0.0000, 0.8472 0.9342\n",
      "perform gain:  0.1362 0.0132, 0.8638 0.8684\n",
      "perform gain:  0.1395 0.0000, 0.8605 0.8816\n",
      "perform gain:  0.1329 0.0000, 0.8671 0.8553\n",
      "perform gain:  0.1296 0.0263, 0.8704 0.8421\n",
      "perform gain:  0.1296 0.0526, 0.8704 0.8421\n",
      "perform gain:  0.1296 0.0395, 0.8704 0.8421\n",
      "perform gain:  0.1362 0.0658, 0.8638 0.8684\n",
      "perform gain:  0.1395 -0.0132, 0.8605 0.8816\n",
      "perform gain:  0.1362 -0.0132, 0.8638 0.8684\n",
      "perform gain:  0.1395 0.0000, 0.8605 0.8816\n",
      "perform gain:  0.1329 -0.0132, 0.8671 0.8553\n",
      "perform gain:  0.1296 0.0263, 0.8704 0.8421\n"
     ]
    },
    {
     "ename": "KeyboardInterrupt",
     "evalue": "",
     "output_type": "error",
     "traceback": [
      "\u001b[1;31m---------------------------------------------------------------------------\u001b[0m",
      "\u001b[1;31mKeyboardInterrupt\u001b[0m                         Traceback (most recent call last)",
      "\u001b[1;32m<ipython-input-470-759ef23bbc30>\u001b[0m in \u001b[0;36m<module>\u001b[1;34m\u001b[0m\n\u001b[0;32m      3\u001b[0m     \u001b[0m_dataset\u001b[0m \u001b[1;33m=\u001b[0m \u001b[0mdata_split\u001b[0m\u001b[1;33m(\u001b[0m\u001b[0mfeature_1st_stage\u001b[0m\u001b[1;33m,\u001b[0m \u001b[0mlabels\u001b[0m\u001b[1;33m)\u001b[0m\u001b[1;33m\u001b[0m\u001b[1;33m\u001b[0m\u001b[0m\n\u001b[0;32m      4\u001b[0m     \u001b[0m_baseline\u001b[0m \u001b[1;33m=\u001b[0m \u001b[0mnp\u001b[0m\u001b[1;33m.\u001b[0m\u001b[0marray\u001b[0m\u001b[1;33m(\u001b[0m\u001b[1;33m(\u001b[0m\u001b[0m_dataset\u001b[0m\u001b[1;33m[\u001b[0m\u001b[1;36m0\u001b[0m\u001b[1;33m]\u001b[0m\u001b[1;33m[\u001b[0m\u001b[1;36m1\u001b[0m\u001b[1;33m]\u001b[0m\u001b[1;33m.\u001b[0m\u001b[0mmean\u001b[0m\u001b[1;33m(\u001b[0m\u001b[1;33m)\u001b[0m\u001b[1;33m,\u001b[0m \u001b[0m_dataset\u001b[0m\u001b[1;33m[\u001b[0m\u001b[1;36m1\u001b[0m\u001b[1;33m]\u001b[0m\u001b[1;33m[\u001b[0m\u001b[1;36m1\u001b[0m\u001b[1;33m]\u001b[0m\u001b[1;33m.\u001b[0m\u001b[0mmean\u001b[0m\u001b[1;33m(\u001b[0m\u001b[1;33m)\u001b[0m\u001b[1;33m)\u001b[0m\u001b[1;33m)\u001b[0m\u001b[1;33m\u001b[0m\u001b[1;33m\u001b[0m\u001b[0m\n\u001b[1;32m----> 5\u001b[1;33m     \u001b[0mresults_single\u001b[0m\u001b[1;33m.\u001b[0m\u001b[0mappend\u001b[0m\u001b[1;33m(\u001b[0m\u001b[0mnp\u001b[0m\u001b[1;33m.\u001b[0m\u001b[0marray\u001b[0m\u001b[1;33m(\u001b[0m\u001b[0mtest_clf\u001b[0m\u001b[1;33m(\u001b[0m\u001b[0m_dataset\u001b[0m\u001b[1;33m,\u001b[0m \u001b[0mXGBClassifier\u001b[0m\u001b[1;33m,\u001b[0m \u001b[1;33m**\u001b[0m\u001b[0mparams\u001b[0m\u001b[1;33m)\u001b[0m\u001b[1;33m)\u001b[0m \u001b[1;33m-\u001b[0m \u001b[0m_baseline\u001b[0m\u001b[1;33m)\u001b[0m\u001b[1;33m\u001b[0m\u001b[1;33m\u001b[0m\u001b[0m\n\u001b[0m\u001b[0;32m      6\u001b[0m \u001b[1;33m\u001b[0m\u001b[0m\n\u001b[0;32m      7\u001b[0m     \u001b[0mprint\u001b[0m \u001b[1;33m(\u001b[0m\u001b[1;34m'perform gain:  %.4f %.4f, %.4f %.4f'\u001b[0m \u001b[1;33m%\u001b[0m \u001b[1;33m(\u001b[0m\u001b[0mtuple\u001b[0m\u001b[1;33m(\u001b[0m\u001b[0mresults_single\u001b[0m\u001b[1;33m[\u001b[0m\u001b[1;33m-\u001b[0m\u001b[1;36m1\u001b[0m\u001b[1;33m]\u001b[0m\u001b[1;33m)\u001b[0m \u001b[1;33m+\u001b[0m \u001b[0mtuple\u001b[0m\u001b[1;33m(\u001b[0m\u001b[0m_baseline\u001b[0m\u001b[1;33m)\u001b[0m\u001b[1;33m)\u001b[0m\u001b[1;33m)\u001b[0m\u001b[1;33m\u001b[0m\u001b[1;33m\u001b[0m\u001b[0m\n",
      "\u001b[1;32m~\\Desktop\\PrecisionFDA\\utils.py\u001b[0m in \u001b[0;36mtest_clf\u001b[1;34m(dataset, classifier, **kwargs)\u001b[0m\n\u001b[0;32m     24\u001b[0m     \u001b[0mtrain_dataset\u001b[0m\u001b[1;33m,\u001b[0m \u001b[0mvalid_dataset\u001b[0m \u001b[1;33m=\u001b[0m \u001b[0mdataset\u001b[0m\u001b[1;33m\u001b[0m\u001b[1;33m\u001b[0m\u001b[0m\n\u001b[0;32m     25\u001b[0m     \u001b[0mtrain_features\u001b[0m\u001b[1;33m,\u001b[0m \u001b[0mtrain_labels\u001b[0m \u001b[1;33m=\u001b[0m \u001b[0mtrain_dataset\u001b[0m\u001b[1;33m\u001b[0m\u001b[1;33m\u001b[0m\u001b[0m\n\u001b[1;32m---> 26\u001b[1;33m     \u001b[0mvalid_features\u001b[0m\u001b[1;33m,\u001b[0m \u001b[0mvalid_labels\u001b[0m \u001b[1;33m=\u001b[0m \u001b[0mvalid_dataset\u001b[0m\u001b[1;33m\u001b[0m\u001b[1;33m\u001b[0m\u001b[0m\n\u001b[0m\u001b[0;32m     27\u001b[0m \u001b[1;33m\u001b[0m\u001b[0m\n\u001b[0;32m     28\u001b[0m     \u001b[0mclf\u001b[0m \u001b[1;33m=\u001b[0m \u001b[0mclassifier\u001b[0m\u001b[1;33m(\u001b[0m\u001b[1;33m**\u001b[0m\u001b[0mkwargs\u001b[0m\u001b[1;33m)\u001b[0m\u001b[1;33m\u001b[0m\u001b[1;33m\u001b[0m\u001b[0m\n",
      "\u001b[1;32mc:\\users\\flyin\\appdata\\local\\programs\\python\\python36\\lib\\site-packages\\xgboost\\sklearn.py\u001b[0m in \u001b[0;36mfit\u001b[1;34m(self, X, y, sample_weight, eval_set, eval_metric, early_stopping_rounds, verbose, xgb_model, sample_weight_eval_set, callbacks)\u001b[0m\n\u001b[0;32m    730\u001b[0m                               \u001b[0mevals_result\u001b[0m\u001b[1;33m=\u001b[0m\u001b[0mevals_result\u001b[0m\u001b[1;33m,\u001b[0m \u001b[0mobj\u001b[0m\u001b[1;33m=\u001b[0m\u001b[0mobj\u001b[0m\u001b[1;33m,\u001b[0m \u001b[0mfeval\u001b[0m\u001b[1;33m=\u001b[0m\u001b[0mfeval\u001b[0m\u001b[1;33m,\u001b[0m\u001b[1;33m\u001b[0m\u001b[1;33m\u001b[0m\u001b[0m\n\u001b[0;32m    731\u001b[0m                               \u001b[0mverbose_eval\u001b[0m\u001b[1;33m=\u001b[0m\u001b[0mverbose\u001b[0m\u001b[1;33m,\u001b[0m \u001b[0mxgb_model\u001b[0m\u001b[1;33m=\u001b[0m\u001b[0mxgb_model\u001b[0m\u001b[1;33m,\u001b[0m\u001b[1;33m\u001b[0m\u001b[1;33m\u001b[0m\u001b[0m\n\u001b[1;32m--> 732\u001b[1;33m                               callbacks=callbacks)\n\u001b[0m\u001b[0;32m    733\u001b[0m \u001b[1;33m\u001b[0m\u001b[0m\n\u001b[0;32m    734\u001b[0m         \u001b[0mself\u001b[0m\u001b[1;33m.\u001b[0m\u001b[0mobjective\u001b[0m \u001b[1;33m=\u001b[0m \u001b[0mxgb_options\u001b[0m\u001b[1;33m[\u001b[0m\u001b[1;34m\"objective\"\u001b[0m\u001b[1;33m]\u001b[0m\u001b[1;33m\u001b[0m\u001b[1;33m\u001b[0m\u001b[0m\n",
      "\u001b[1;32mc:\\users\\flyin\\appdata\\local\\programs\\python\\python36\\lib\\site-packages\\xgboost\\training.py\u001b[0m in \u001b[0;36mtrain\u001b[1;34m(params, dtrain, num_boost_round, evals, obj, feval, maximize, early_stopping_rounds, evals_result, verbose_eval, xgb_model, callbacks, learning_rates)\u001b[0m\n\u001b[0;32m    214\u001b[0m                            \u001b[0mevals\u001b[0m\u001b[1;33m=\u001b[0m\u001b[0mevals\u001b[0m\u001b[1;33m,\u001b[0m\u001b[1;33m\u001b[0m\u001b[1;33m\u001b[0m\u001b[0m\n\u001b[0;32m    215\u001b[0m                            \u001b[0mobj\u001b[0m\u001b[1;33m=\u001b[0m\u001b[0mobj\u001b[0m\u001b[1;33m,\u001b[0m \u001b[0mfeval\u001b[0m\u001b[1;33m=\u001b[0m\u001b[0mfeval\u001b[0m\u001b[1;33m,\u001b[0m\u001b[1;33m\u001b[0m\u001b[1;33m\u001b[0m\u001b[0m\n\u001b[1;32m--> 216\u001b[1;33m                            xgb_model=xgb_model, callbacks=callbacks)\n\u001b[0m\u001b[0;32m    217\u001b[0m \u001b[1;33m\u001b[0m\u001b[0m\n\u001b[0;32m    218\u001b[0m \u001b[1;33m\u001b[0m\u001b[0m\n",
      "\u001b[1;32mc:\\users\\flyin\\appdata\\local\\programs\\python\\python36\\lib\\site-packages\\xgboost\\training.py\u001b[0m in \u001b[0;36m_train_internal\u001b[1;34m(params, dtrain, num_boost_round, evals, obj, feval, xgb_model, callbacks)\u001b[0m\n\u001b[0;32m     72\u001b[0m         \u001b[1;31m# Skip the first update if it is a recovery step.\u001b[0m\u001b[1;33m\u001b[0m\u001b[1;33m\u001b[0m\u001b[1;33m\u001b[0m\u001b[0m\n\u001b[0;32m     73\u001b[0m         \u001b[1;32mif\u001b[0m \u001b[0mversion\u001b[0m \u001b[1;33m%\u001b[0m \u001b[1;36m2\u001b[0m \u001b[1;33m==\u001b[0m \u001b[1;36m0\u001b[0m\u001b[1;33m:\u001b[0m\u001b[1;33m\u001b[0m\u001b[1;33m\u001b[0m\u001b[0m\n\u001b[1;32m---> 74\u001b[1;33m             \u001b[0mbst\u001b[0m\u001b[1;33m.\u001b[0m\u001b[0mupdate\u001b[0m\u001b[1;33m(\u001b[0m\u001b[0mdtrain\u001b[0m\u001b[1;33m,\u001b[0m \u001b[0mi\u001b[0m\u001b[1;33m,\u001b[0m \u001b[0mobj\u001b[0m\u001b[1;33m)\u001b[0m\u001b[1;33m\u001b[0m\u001b[1;33m\u001b[0m\u001b[0m\n\u001b[0m\u001b[0;32m     75\u001b[0m             \u001b[0mbst\u001b[0m\u001b[1;33m.\u001b[0m\u001b[0msave_rabit_checkpoint\u001b[0m\u001b[1;33m(\u001b[0m\u001b[1;33m)\u001b[0m\u001b[1;33m\u001b[0m\u001b[1;33m\u001b[0m\u001b[0m\n\u001b[0;32m     76\u001b[0m             \u001b[0mversion\u001b[0m \u001b[1;33m+=\u001b[0m \u001b[1;36m1\u001b[0m\u001b[1;33m\u001b[0m\u001b[1;33m\u001b[0m\u001b[0m\n",
      "\u001b[1;32mc:\\users\\flyin\\appdata\\local\\programs\\python\\python36\\lib\\site-packages\\xgboost\\core.py\u001b[0m in \u001b[0;36mupdate\u001b[1;34m(self, dtrain, iteration, fobj)\u001b[0m\n\u001b[0;32m   1107\u001b[0m         \u001b[1;32mif\u001b[0m \u001b[0mfobj\u001b[0m \u001b[1;32mis\u001b[0m \u001b[1;32mNone\u001b[0m\u001b[1;33m:\u001b[0m\u001b[1;33m\u001b[0m\u001b[1;33m\u001b[0m\u001b[0m\n\u001b[0;32m   1108\u001b[0m             _check_call(_LIB.XGBoosterUpdateOneIter(self.handle, ctypes.c_int(iteration),\n\u001b[1;32m-> 1109\u001b[1;33m                                                     dtrain.handle))\n\u001b[0m\u001b[0;32m   1110\u001b[0m         \u001b[1;32melse\u001b[0m\u001b[1;33m:\u001b[0m\u001b[1;33m\u001b[0m\u001b[1;33m\u001b[0m\u001b[0m\n\u001b[0;32m   1111\u001b[0m             \u001b[0mpred\u001b[0m \u001b[1;33m=\u001b[0m \u001b[0mself\u001b[0m\u001b[1;33m.\u001b[0m\u001b[0mpredict\u001b[0m\u001b[1;33m(\u001b[0m\u001b[0mdtrain\u001b[0m\u001b[1;33m)\u001b[0m\u001b[1;33m\u001b[0m\u001b[1;33m\u001b[0m\u001b[0m\n",
      "\u001b[1;31mKeyboardInterrupt\u001b[0m: "
     ]
    }
   ],
   "source": [
    "for i in range(100):\n",
    "    _dataset = data_split(feature_1st_stage, labels)\n",
    "    _baseline = np.array((_dataset[0][1].mean(), _dataset[1][1].mean()))\n",
    "    results_single.append(np.array(test_clf(_dataset, XGBClassifier, **params)) - _baseline)\n",
    "    \n",
    "    print ('perform gain:  %.4f %.4f, %.4f %.4f' % (tuple(results_single[-1]) + tuple(_baseline)))"
   ]
  },
  {
   "cell_type": "code",
   "execution_count": 472,
   "metadata": {},
   "outputs": [],
   "source": [
    "results_single = np.array(results_single)"
   ]
  },
  {
   "cell_type": "code",
   "execution_count": 473,
   "metadata": {},
   "outputs": [
    {
     "data": {
      "text/plain": [
       "array([0.13438199, 0.01664876])"
      ]
     },
     "execution_count": 473,
     "metadata": {},
     "output_type": "execute_result"
    }
   ],
   "source": [
    "results_single.mean(axis=0)"
   ]
  },
  {
   "cell_type": "code",
   "execution_count": 476,
   "metadata": {},
   "outputs": [
    {
     "data": {
      "image/png": "[encoded data removed]",
      "text/plain": [
       "<Figure size 432x288 with 1 Axes>"
      ]
     },
     "metadata": {
      "needs_background": "light"
     },
     "output_type": "display_data"
    }
   ],
   "source": [
    "_=plt.hist(results_single[:,1], bins=10)"
   ]
  },
  {
   "cell_type": "code",
   "execution_count": 503,
   "metadata": {},
   "outputs": [
    {
     "data": {
      "text/plain": [
       "66.3265306122449"
      ]
     },
     "execution_count": 503,
     "metadata": {},
     "output_type": "execute_result"
    }
   ],
   "source": [
    "(results_single[:,1]>0).mean() * 100"
   ]
  },
  {
   "cell_type": "code",
   "execution_count": 504,
   "metadata": {},
   "outputs": [
    {
     "data": {
      "text/plain": [
       "16.3265306122449"
      ]
     },
     "execution_count": 504,
     "metadata": {},
     "output_type": "execute_result"
    }
   ],
   "source": [
    "(results_single[:,1]==0).mean() * 100"
   ]
  },
  {
   "cell_type": "code",
   "execution_count": 505,
   "metadata": {},
   "outputs": [
    {
     "data": {
      "text/plain": [
       "17.346938775510203"
      ]
     },
     "execution_count": 505,
     "metadata": {},
     "output_type": "execute_result"
    }
   ],
   "source": [
    "(results_single[:,1]<0).mean() * 100"
   ]
  },
  {
   "cell_type": "markdown",
   "metadata": {},
   "source": [
    "# build ensemble of classifiers"
   ]
  },
  {
   "cell_type": "code",
   "execution_count": 444,
   "metadata": {},
   "outputs": [],
   "source": [
    "class NEnsemble:\n",
    "    def __init__(self, num, clf, **params):\n",
    "        self.clf = []\n",
    "        for i in range(num):\n",
    "            self.clf.append(clf(**params))\n",
    "            \n",
    "    def fit(self, feature, label, fraction=0.8):\n",
    "        for item in self.clf:\n",
    "            train_dataset, _ = data_split(feature, label)\n",
    "            item.fit(*train_dataset)\n",
    "        return self\n",
    "    \n",
    "    def predict(self, feature):\n",
    "        results = self.predict_proba(feature)\n",
    "        if results.shape[1] == 2:\n",
    "            return results[:,1] > .5\n",
    "        else:\n",
    "            return results > .5\n",
    "    \n",
    "    def predict_proba(self, feature):\n",
    "        results = np.array([clf.predict_proba(feature) for clf in self.clf])\n",
    "        return np.mean(results, axis=0)\n",
    "    \n",
    "    def feature_importance_(self):\n",
    "        importance = np.array([clf.feature_importance_ for clf in self.clf])\n",
    "        return importance.mean(axis=0)"
   ]
  },
  {
   "cell_type": "code",
   "execution_count": null,
   "metadata": {},
   "outputs": [],
   "source": [
    "results_ensemble = []"
   ]
  },
  {
   "cell_type": "code",
   "execution_count": 487,
   "metadata": {},
   "outputs": [
    {
     "name": "stdout",
     "output_type": "stream",
     "text": [
      "perform gain:  0.1429 0.0263, 0.8571 0.8947\n",
      "perform gain:  0.1495 -0.0263, 0.8505 0.9211\n",
      "perform gain:  0.1296 0.0526, 0.8704 0.8421\n",
      "perform gain:  0.1262 0.0263, 0.8704 0.8421\n",
      "perform gain:  0.1362 0.0395, 0.8638 0.8684\n",
      "perform gain:  0.1462 -0.0132, 0.8505 0.9211\n",
      "perform gain:  0.1296 0.0395, 0.8671 0.8553\n",
      "perform gain:  0.1429 0.0132, 0.8571 0.8947\n",
      "perform gain:  0.1429 0.0000, 0.8571 0.8947\n",
      "perform gain:  0.1462 0.0000, 0.8505 0.9211\n",
      "perform gain:  0.1296 0.0132, 0.8638 0.8684\n",
      "perform gain:  0.1296 0.0132, 0.8638 0.8684\n",
      "perform gain:  0.1429 -0.0263, 0.8571 0.8947\n",
      "perform gain:  0.1495 0.0132, 0.8505 0.9211\n",
      "perform gain:  0.1229 0.0132, 0.8738 0.8289\n",
      "perform gain:  0.1262 -0.0132, 0.8738 0.8289\n",
      "perform gain:  0.1229 0.0395, 0.8738 0.8289\n",
      "perform gain:  0.1395 -0.0132, 0.8571 0.8947\n",
      "perform gain:  0.1362 0.0132, 0.8605 0.8816\n",
      "perform gain:  0.1362 0.0263, 0.8605 0.8816\n",
      "perform gain:  0.1262 -0.0132, 0.8738 0.8289\n",
      "perform gain:  0.1329 0.0395, 0.8638 0.8684\n",
      "perform gain:  0.1429 0.0132, 0.8538 0.9079\n",
      "perform gain:  0.1462 -0.0132, 0.8538 0.9079\n",
      "perform gain:  0.1395 0.0000, 0.8571 0.8947\n",
      "perform gain:  0.1395 0.0132, 0.8538 0.9079\n",
      "perform gain:  0.1462 0.0000, 0.8538 0.9079\n",
      "perform gain:  0.1296 0.0263, 0.8671 0.8553\n",
      "perform gain:  0.1429 0.0000, 0.8571 0.8947\n",
      "perform gain:  0.1429 0.0000, 0.8571 0.8947\n",
      "perform gain:  0.1462 0.0263, 0.8472 0.9342\n",
      "perform gain:  0.1163 0.0263, 0.8771 0.8158\n",
      "perform gain:  0.1163 0.0263, 0.8837 0.7895\n",
      "perform gain:  0.1329 0.0526, 0.8671 0.8553\n",
      "perform gain:  0.1296 0.0526, 0.8704 0.8421\n",
      "perform gain:  0.1296 0.0395, 0.8671 0.8553\n",
      "perform gain:  0.1329 0.0263, 0.8638 0.8684\n",
      "perform gain:  0.1462 0.0000, 0.8538 0.9079\n",
      "perform gain:  0.1462 -0.0263, 0.8538 0.9079\n",
      "perform gain:  0.1329 0.0658, 0.8671 0.8553\n",
      "perform gain:  0.1262 0.0132, 0.8704 0.8421\n",
      "perform gain:  0.1329 0.0526, 0.8671 0.8553\n",
      "perform gain:  0.1262 0.0000, 0.8704 0.8421\n",
      "perform gain:  0.1429 0.0132, 0.8538 0.9079\n",
      "perform gain:  0.1229 0.0263, 0.8738 0.8289\n",
      "perform gain:  0.1395 0.0263, 0.8605 0.8816\n",
      "perform gain:  0.1429 0.0000, 0.8571 0.8947\n",
      "perform gain:  0.1329 0.0132, 0.8671 0.8553\n",
      "perform gain:  0.1329 0.0526, 0.8671 0.8553\n",
      "perform gain:  0.1262 0.0132, 0.8738 0.8289\n",
      "perform gain:  0.1528 0.0132, 0.8472 0.9342\n",
      "perform gain:  0.1296 0.0263, 0.8671 0.8553\n",
      "perform gain:  0.1196 -0.0132, 0.8704 0.8421\n",
      "perform gain:  0.1362 0.0000, 0.8638 0.8684\n",
      "perform gain:  0.1561 0.0263, 0.8439 0.9474\n",
      "perform gain:  0.1163 0.0395, 0.8804 0.8026\n",
      "perform gain:  0.1296 0.0132, 0.8704 0.8421\n",
      "perform gain:  0.1362 0.0263, 0.8638 0.8684\n",
      "perform gain:  0.1395 0.0000, 0.8571 0.8947\n",
      "perform gain:  0.1229 0.0263, 0.8704 0.8421\n",
      "perform gain:  0.1262 0.0526, 0.8704 0.8421\n",
      "perform gain:  0.1229 0.0263, 0.8771 0.8158\n",
      "perform gain:  0.1462 -0.0263, 0.8538 0.9079\n",
      "perform gain:  0.1163 0.0789, 0.8804 0.8026\n",
      "perform gain:  0.1362 0.0526, 0.8638 0.8684\n",
      "perform gain:  0.1229 -0.0132, 0.8738 0.8289\n",
      "perform gain:  0.1429 0.0132, 0.8505 0.9211\n",
      "perform gain:  0.1262 0.0132, 0.8671 0.8553\n",
      "perform gain:  0.1429 -0.0132, 0.8538 0.9079\n",
      "perform gain:  0.1462 0.0000, 0.8538 0.9079\n",
      "perform gain:  0.1362 0.0263, 0.8638 0.8684\n",
      "perform gain:  0.1130 0.0658, 0.8870 0.7763\n",
      "perform gain:  0.1495 -0.0132, 0.8472 0.9342\n",
      "perform gain:  0.1329 0.0132, 0.8671 0.8553\n",
      "perform gain:  0.1296 0.0132, 0.8704 0.8421\n",
      "perform gain:  0.1329 0.0263, 0.8605 0.8816\n",
      "perform gain:  0.1262 0.0395, 0.8704 0.8421\n",
      "perform gain:  0.1296 0.0395, 0.8704 0.8421\n",
      "perform gain:  0.1329 -0.0132, 0.8571 0.8947\n",
      "perform gain:  0.1229 0.0526, 0.8738 0.8289\n",
      "perform gain:  0.1362 0.0263, 0.8605 0.8816\n",
      "perform gain:  0.1329 0.0263, 0.8671 0.8553\n",
      "perform gain:  0.1395 0.0132, 0.8571 0.8947\n",
      "perform gain:  0.1395 0.0263, 0.8605 0.8816\n",
      "perform gain:  0.1395 -0.0132, 0.8605 0.8816\n",
      "perform gain:  0.1429 0.0000, 0.8571 0.8947\n",
      "perform gain:  0.1429 0.0000, 0.8571 0.8947\n",
      "perform gain:  0.1229 0.0000, 0.8771 0.8158\n",
      "perform gain:  0.1462 0.0132, 0.8505 0.9211\n",
      "perform gain:  0.1262 0.0132, 0.8704 0.8421\n",
      "perform gain:  0.1229 0.0000, 0.8738 0.8289\n",
      "perform gain:  0.1196 0.0263, 0.8804 0.8026\n",
      "perform gain:  0.1229 0.0263, 0.8738 0.8289\n",
      "perform gain:  0.1229 0.0000, 0.8738 0.8289\n",
      "perform gain:  0.1130 0.0526, 0.8804 0.8026\n",
      "perform gain:  0.1395 0.0395, 0.8538 0.9079\n",
      "perform gain:  0.1429 -0.0132, 0.8505 0.9211\n",
      "perform gain:  0.1495 0.0000, 0.8505 0.9211\n",
      "perform gain:  0.1495 0.0132, 0.8505 0.9211\n",
      "perform gain:  0.1262 0.0263, 0.8738 0.8289\n",
      "perform gain:  0.1262 0.0263, 0.8638 0.8684\n",
      "perform gain:  0.1561 -0.0132, 0.8439 0.9474\n",
      "perform gain:  0.1362 -0.0263, 0.8638 0.8684\n",
      "perform gain:  0.1196 0.0395, 0.8804 0.8026\n",
      "perform gain:  0.1196 0.0395, 0.8738 0.8289\n",
      "perform gain:  0.1595 -0.0132, 0.8405 0.9605\n",
      "perform gain:  0.1262 0.0132, 0.8704 0.8421\n",
      "perform gain:  0.1429 0.0132, 0.8571 0.8947\n",
      "perform gain:  0.1196 0.0132, 0.8771 0.8158\n",
      "perform gain:  0.1362 0.0132, 0.8605 0.8816\n",
      "perform gain:  0.1395 0.0132, 0.8605 0.8816\n",
      "perform gain:  0.1429 0.0132, 0.8538 0.9079\n",
      "perform gain:  0.1296 -0.0132, 0.8671 0.8553\n",
      "perform gain:  0.1429 0.0132, 0.8505 0.9211\n",
      "perform gain:  0.1528 -0.0789, 0.8472 0.9342\n",
      "perform gain:  0.1296 0.0263, 0.8638 0.8684\n",
      "perform gain:  0.1329 0.0132, 0.8671 0.8553\n",
      "perform gain:  0.1329 -0.0132, 0.8638 0.8684\n",
      "perform gain:  0.1329 0.0395, 0.8638 0.8684\n",
      "perform gain:  0.1262 -0.0263, 0.8738 0.8289\n",
      "perform gain:  0.1329 -0.0263, 0.8671 0.8553\n",
      "perform gain:  0.1462 0.0132, 0.8538 0.9079\n",
      "perform gain:  0.1462 0.0263, 0.8538 0.9079\n",
      "perform gain:  0.1395 -0.0132, 0.8571 0.8947\n",
      "perform gain:  0.1296 0.0132, 0.8671 0.8553\n",
      "perform gain:  0.1362 0.0395, 0.8638 0.8684\n",
      "perform gain:  0.1362 0.0395, 0.8605 0.8816\n",
      "perform gain:  0.1329 0.0000, 0.8605 0.8816\n",
      "perform gain:  0.1429 0.0000, 0.8538 0.9079\n",
      "perform gain:  0.1561 -0.0132, 0.8439 0.9474\n",
      "perform gain:  0.1362 -0.0132, 0.8571 0.8947\n",
      "perform gain:  0.1296 0.0263, 0.8704 0.8421\n",
      "perform gain:  0.1262 0.0263, 0.8738 0.8289\n",
      "perform gain:  0.1229 0.0263, 0.8771 0.8158\n",
      "perform gain:  0.1429 -0.0658, 0.8538 0.9079\n",
      "perform gain:  0.1395 0.0132, 0.8571 0.8947\n",
      "perform gain:  0.1395 0.0263, 0.8605 0.8816\n",
      "perform gain:  0.1395 0.0263, 0.8605 0.8816\n",
      "perform gain:  0.1329 0.0263, 0.8638 0.8684\n",
      "perform gain:  0.1329 0.0132, 0.8638 0.8684\n",
      "perform gain:  0.1362 0.0132, 0.8571 0.8947\n",
      "perform gain:  0.1296 0.0263, 0.8671 0.8553\n",
      "perform gain:  0.1296 0.0526, 0.8671 0.8553\n",
      "perform gain:  0.1329 0.0000, 0.8671 0.8553\n",
      "perform gain:  0.1495 0.0132, 0.8505 0.9211\n",
      "perform gain:  0.1096 0.0395, 0.8837 0.7895\n",
      "perform gain:  0.1362 0.0132, 0.8605 0.8816\n",
      "perform gain:  0.1296 0.0526, 0.8704 0.8421\n",
      "perform gain:  0.1329 0.0000, 0.8638 0.8684\n",
      "perform gain:  0.1395 -0.0132, 0.8605 0.8816\n",
      "perform gain:  0.1429 0.0263, 0.8571 0.8947\n",
      "perform gain:  0.1362 0.0000, 0.8638 0.8684\n",
      "perform gain:  0.1395 0.0263, 0.8605 0.8816\n",
      "perform gain:  0.1362 0.0000, 0.8638 0.8684\n",
      "perform gain:  0.1130 0.0789, 0.8870 0.7763\n",
      "perform gain:  0.1229 0.0395, 0.8738 0.8289\n",
      "perform gain:  0.1130 0.0526, 0.8870 0.7763\n",
      "perform gain:  0.1362 -0.0132, 0.8638 0.8684\n",
      "perform gain:  0.1229 0.0395, 0.8738 0.8289\n",
      "perform gain:  0.1262 0.0263, 0.8738 0.8289\n",
      "perform gain:  0.1296 0.0132, 0.8671 0.8553\n",
      "perform gain:  0.1362 0.0000, 0.8638 0.8684\n",
      "perform gain:  0.1362 -0.0132, 0.8638 0.8684\n",
      "perform gain:  0.1296 0.0000, 0.8671 0.8553\n",
      "perform gain:  0.1362 0.0658, 0.8605 0.8816\n",
      "perform gain:  0.1196 0.0526, 0.8738 0.8289\n",
      "perform gain:  0.1395 0.0000, 0.8605 0.8816\n",
      "perform gain:  0.1262 0.0263, 0.8671 0.8553\n",
      "perform gain:  0.1296 0.0395, 0.8704 0.8421\n",
      "perform gain:  0.1395 0.0526, 0.8605 0.8816\n",
      "perform gain:  0.1262 0.0395, 0.8704 0.8421\n",
      "perform gain:  0.1130 0.0921, 0.8804 0.8026\n",
      "perform gain:  0.1329 0.0132, 0.8671 0.8553\n",
      "perform gain:  0.1362 0.0263, 0.8638 0.8684\n",
      "perform gain:  0.1262 0.0395, 0.8738 0.8289\n",
      "perform gain:  0.1462 0.0000, 0.8505 0.9211\n",
      "perform gain:  0.1462 0.0132, 0.8538 0.9079\n",
      "perform gain:  0.1262 0.0132, 0.8704 0.8421\n",
      "perform gain:  0.1429 0.0132, 0.8538 0.9079\n",
      "perform gain:  0.1362 -0.0132, 0.8605 0.8816\n",
      "perform gain:  0.1395 0.0395, 0.8571 0.8947\n",
      "perform gain:  0.1296 0.0263, 0.8671 0.8553\n",
      "perform gain:  0.1262 0.0395, 0.8704 0.8421\n",
      "perform gain:  0.1495 -0.0132, 0.8505 0.9211\n",
      "perform gain:  0.1462 0.0000, 0.8505 0.9211\n",
      "perform gain:  0.1262 0.0263, 0.8704 0.8421\n"
     ]
    },
    {
     "name": "stdout",
     "output_type": "stream",
     "text": [
      "perform gain:  0.1229 0.0526, 0.8738 0.8289\n",
      "perform gain:  0.1229 0.0132, 0.8704 0.8421\n",
      "perform gain:  0.1395 0.0263, 0.8605 0.8816\n",
      "perform gain:  0.1262 0.0263, 0.8704 0.8421\n",
      "perform gain:  0.1362 0.0395, 0.8605 0.8816\n",
      "perform gain:  0.1395 0.0395, 0.8571 0.8947\n",
      "perform gain:  0.1196 0.0789, 0.8771 0.8158\n",
      "perform gain:  0.1462 0.0000, 0.8538 0.9079\n",
      "perform gain:  0.1163 0.0395, 0.8804 0.8026\n",
      "perform gain:  0.1362 0.0000, 0.8605 0.8816\n",
      "perform gain:  0.1429 0.0263, 0.8538 0.9079\n",
      "perform gain:  0.1528 -0.0395, 0.8472 0.9342\n",
      "perform gain:  0.1462 -0.0263, 0.8538 0.9079\n",
      "perform gain:  0.1296 0.0132, 0.8671 0.8553\n",
      "perform gain:  0.1462 -0.0263, 0.8538 0.9079\n",
      "perform gain:  0.1462 0.0000, 0.8538 0.9079\n",
      "perform gain:  0.1196 0.0395, 0.8771 0.8158\n",
      "perform gain:  0.1395 -0.0263, 0.8605 0.8816\n",
      "perform gain:  0.1362 -0.0263, 0.8638 0.8684\n",
      "perform gain:  0.1329 0.0132, 0.8671 0.8553\n",
      "perform gain:  0.1329 0.0395, 0.8671 0.8553\n",
      "perform gain:  0.1395 0.0000, 0.8605 0.8816\n",
      "perform gain:  0.1362 0.0395, 0.8605 0.8816\n",
      "perform gain:  0.1362 -0.0132, 0.8638 0.8684\n",
      "perform gain:  0.1329 0.0132, 0.8671 0.8553\n",
      "perform gain:  0.1362 -0.0132, 0.8571 0.8947\n",
      "perform gain:  0.1362 0.0132, 0.8605 0.8816\n",
      "perform gain:  0.1196 0.0132, 0.8771 0.8158\n",
      "perform gain:  0.1262 0.0263, 0.8671 0.8553\n",
      "perform gain:  0.1130 0.0526, 0.8804 0.8026\n",
      "perform gain:  0.1462 0.0132, 0.8538 0.9079\n",
      "perform gain:  0.1395 -0.0132, 0.8605 0.8816\n",
      "perform gain:  0.1362 -0.0395, 0.8638 0.8684\n",
      "perform gain:  0.1561 -0.0395, 0.8439 0.9474\n",
      "perform gain:  0.1262 0.0132, 0.8671 0.8553\n",
      "perform gain:  0.1462 0.0263, 0.8538 0.9079\n",
      "perform gain:  0.1196 0.0132, 0.8771 0.8158\n",
      "perform gain:  0.1196 0.0000, 0.8771 0.8158\n",
      "perform gain:  0.1262 0.0000, 0.8738 0.8289\n",
      "perform gain:  0.1429 0.0526, 0.8571 0.8947\n",
      "perform gain:  0.1296 0.0263, 0.8671 0.8553\n",
      "perform gain:  0.1362 0.0263, 0.8638 0.8684\n",
      "perform gain:  0.1329 0.0263, 0.8571 0.8947\n",
      "perform gain:  0.1262 0.0000, 0.8738 0.8289\n",
      "perform gain:  0.1262 0.0000, 0.8704 0.8421\n",
      "perform gain:  0.1296 0.0132, 0.8704 0.8421\n",
      "perform gain:  0.1196 0.0263, 0.8738 0.8289\n",
      "perform gain:  0.1329 0.0132, 0.8671 0.8553\n",
      "perform gain:  0.1329 0.0526, 0.8638 0.8684\n",
      "perform gain:  0.1296 -0.0132, 0.8704 0.8421\n",
      "perform gain:  0.1429 -0.0132, 0.8571 0.8947\n",
      "perform gain:  0.1429 -0.0395, 0.8538 0.9079\n",
      "perform gain:  0.1262 0.0000, 0.8738 0.8289\n",
      "perform gain:  0.1429 -0.0132, 0.8538 0.9079\n",
      "perform gain:  0.1262 0.0395, 0.8671 0.8553\n",
      "perform gain:  0.1296 0.0000, 0.8671 0.8553\n",
      "perform gain:  0.1329 0.0000, 0.8671 0.8553\n",
      "perform gain:  0.1395 0.0000, 0.8605 0.8816\n",
      "perform gain:  0.1229 0.0132, 0.8771 0.8158\n",
      "perform gain:  0.1296 0.0395, 0.8671 0.8553\n",
      "perform gain:  0.1462 -0.0263, 0.8538 0.9079\n",
      "perform gain:  0.1229 0.0526, 0.8738 0.8289\n",
      "perform gain:  0.1362 0.0000, 0.8538 0.9079\n",
      "perform gain:  0.1395 0.0263, 0.8605 0.8816\n",
      "perform gain:  0.1395 0.0263, 0.8605 0.8816\n",
      "perform gain:  0.1229 0.0526, 0.8704 0.8421\n",
      "perform gain:  0.1229 0.0263, 0.8771 0.8158\n",
      "perform gain:  0.1262 0.0395, 0.8738 0.8289\n",
      "perform gain:  0.1329 0.0132, 0.8638 0.8684\n",
      "perform gain:  0.1296 0.0263, 0.8638 0.8684\n",
      "perform gain:  0.1362 0.0263, 0.8638 0.8684\n",
      "perform gain:  0.1362 0.0263, 0.8638 0.8684\n",
      "perform gain:  0.1362 0.0263, 0.8571 0.8947\n",
      "perform gain:  0.1362 0.0263, 0.8638 0.8684\n",
      "perform gain:  0.1163 0.0263, 0.8804 0.8026\n",
      "perform gain:  0.1296 0.0132, 0.8704 0.8421\n",
      "perform gain:  0.1429 0.0000, 0.8571 0.8947\n",
      "perform gain:  0.1429 -0.0132, 0.8571 0.8947\n"
     ]
    },
    {
     "ename": "KeyboardInterrupt",
     "evalue": "",
     "output_type": "error",
     "traceback": [
      "\u001b[1;31m---------------------------------------------------------------------------\u001b[0m",
      "\u001b[1;31mKeyboardInterrupt\u001b[0m                         Traceback (most recent call last)",
      "\u001b[1;32m<ipython-input-487-44a9fceead5c>\u001b[0m in \u001b[0;36m<module>\u001b[1;34m\u001b[0m\n\u001b[0;32m      2\u001b[0m     \u001b[0m_dataset\u001b[0m \u001b[1;33m=\u001b[0m \u001b[0mdata_split\u001b[0m\u001b[1;33m(\u001b[0m\u001b[0mfeature_1st_stage\u001b[0m\u001b[1;33m,\u001b[0m \u001b[0mlabels\u001b[0m\u001b[1;33m)\u001b[0m\u001b[1;33m\u001b[0m\u001b[1;33m\u001b[0m\u001b[0m\n\u001b[0;32m      3\u001b[0m     \u001b[0m_baseline\u001b[0m \u001b[1;33m=\u001b[0m \u001b[0mnp\u001b[0m\u001b[1;33m.\u001b[0m\u001b[0marray\u001b[0m\u001b[1;33m(\u001b[0m\u001b[1;33m(\u001b[0m\u001b[0m_dataset\u001b[0m\u001b[1;33m[\u001b[0m\u001b[1;36m0\u001b[0m\u001b[1;33m]\u001b[0m\u001b[1;33m[\u001b[0m\u001b[1;36m1\u001b[0m\u001b[1;33m]\u001b[0m\u001b[1;33m.\u001b[0m\u001b[0mmean\u001b[0m\u001b[1;33m(\u001b[0m\u001b[1;33m)\u001b[0m\u001b[1;33m,\u001b[0m \u001b[0m_dataset\u001b[0m\u001b[1;33m[\u001b[0m\u001b[1;36m1\u001b[0m\u001b[1;33m]\u001b[0m\u001b[1;33m[\u001b[0m\u001b[1;36m1\u001b[0m\u001b[1;33m]\u001b[0m\u001b[1;33m.\u001b[0m\u001b[0mmean\u001b[0m\u001b[1;33m(\u001b[0m\u001b[1;33m)\u001b[0m\u001b[1;33m)\u001b[0m\u001b[1;33m)\u001b[0m\u001b[1;33m\u001b[0m\u001b[1;33m\u001b[0m\u001b[0m\n\u001b[1;32m----> 4\u001b[1;33m     \u001b[0mresults_ensemble\u001b[0m\u001b[1;33m.\u001b[0m\u001b[0mappend\u001b[0m\u001b[1;33m(\u001b[0m\u001b[0mnp\u001b[0m\u001b[1;33m.\u001b[0m\u001b[0marray\u001b[0m\u001b[1;33m(\u001b[0m\u001b[0mtest_clf\u001b[0m\u001b[1;33m(\u001b[0m\u001b[0m_dataset\u001b[0m\u001b[1;33m,\u001b[0m \u001b[0mNEnsemble\u001b[0m\u001b[1;33m,\u001b[0m \u001b[0mnum\u001b[0m\u001b[1;33m=\u001b[0m\u001b[1;36m10\u001b[0m\u001b[1;33m,\u001b[0m \u001b[0mclf\u001b[0m\u001b[1;33m=\u001b[0m\u001b[0mXGBClassifier\u001b[0m\u001b[1;33m,\u001b[0m \u001b[1;33m**\u001b[0m\u001b[0mparams\u001b[0m\u001b[1;33m)\u001b[0m\u001b[1;33m)\u001b[0m \u001b[1;33m-\u001b[0m \u001b[0m_baseline\u001b[0m\u001b[1;33m)\u001b[0m\u001b[1;33m\u001b[0m\u001b[1;33m\u001b[0m\u001b[0m\n\u001b[0m\u001b[0;32m      5\u001b[0m \u001b[1;33m\u001b[0m\u001b[0m\n\u001b[0;32m      6\u001b[0m \u001b[1;31m#     print ('baseline    :  %.4f %.4f' %  tuple(_baseline))\u001b[0m\u001b[1;33m\u001b[0m\u001b[1;33m\u001b[0m\u001b[1;33m\u001b[0m\u001b[0m\n",
      "\u001b[1;32m~\\Desktop\\PrecisionFDA\\utils.py\u001b[0m in \u001b[0;36mtest_clf\u001b[1;34m(dataset, classifier, **kwargs)\u001b[0m\n\u001b[0;32m     24\u001b[0m     \u001b[0mtrain_dataset\u001b[0m\u001b[1;33m,\u001b[0m \u001b[0mvalid_dataset\u001b[0m \u001b[1;33m=\u001b[0m \u001b[0mdataset\u001b[0m\u001b[1;33m\u001b[0m\u001b[1;33m\u001b[0m\u001b[0m\n\u001b[0;32m     25\u001b[0m     \u001b[0mtrain_features\u001b[0m\u001b[1;33m,\u001b[0m \u001b[0mtrain_labels\u001b[0m \u001b[1;33m=\u001b[0m \u001b[0mtrain_dataset\u001b[0m\u001b[1;33m\u001b[0m\u001b[1;33m\u001b[0m\u001b[0m\n\u001b[1;32m---> 26\u001b[1;33m     \u001b[0mvalid_features\u001b[0m\u001b[1;33m,\u001b[0m \u001b[0mvalid_labels\u001b[0m \u001b[1;33m=\u001b[0m \u001b[0mvalid_dataset\u001b[0m\u001b[1;33m\u001b[0m\u001b[1;33m\u001b[0m\u001b[0m\n\u001b[0m\u001b[0;32m     27\u001b[0m \u001b[1;33m\u001b[0m\u001b[0m\n\u001b[0;32m     28\u001b[0m     \u001b[0mclf\u001b[0m \u001b[1;33m=\u001b[0m \u001b[0mclassifier\u001b[0m\u001b[1;33m(\u001b[0m\u001b[1;33m**\u001b[0m\u001b[0mkwargs\u001b[0m\u001b[1;33m)\u001b[0m\u001b[1;33m\u001b[0m\u001b[1;33m\u001b[0m\u001b[0m\n",
      "\u001b[1;32m<ipython-input-444-8b532444b614>\u001b[0m in \u001b[0;36mfit\u001b[1;34m(self, feature, label, fraction)\u001b[0m\n\u001b[0;32m      8\u001b[0m         \u001b[1;32mfor\u001b[0m \u001b[0mitem\u001b[0m \u001b[1;32min\u001b[0m \u001b[0mself\u001b[0m\u001b[1;33m.\u001b[0m\u001b[0mclf\u001b[0m\u001b[1;33m:\u001b[0m\u001b[1;33m\u001b[0m\u001b[1;33m\u001b[0m\u001b[0m\n\u001b[0;32m      9\u001b[0m             \u001b[0mtrain_dataset\u001b[0m\u001b[1;33m,\u001b[0m \u001b[0m_\u001b[0m \u001b[1;33m=\u001b[0m \u001b[0mdata_split\u001b[0m\u001b[1;33m(\u001b[0m\u001b[0mfeature\u001b[0m\u001b[1;33m,\u001b[0m \u001b[0mlabel\u001b[0m\u001b[1;33m)\u001b[0m\u001b[1;33m\u001b[0m\u001b[1;33m\u001b[0m\u001b[0m\n\u001b[1;32m---> 10\u001b[1;33m             \u001b[0mitem\u001b[0m\u001b[1;33m.\u001b[0m\u001b[0mfit\u001b[0m\u001b[1;33m(\u001b[0m\u001b[1;33m*\u001b[0m\u001b[0mtrain_dataset\u001b[0m\u001b[1;33m)\u001b[0m\u001b[1;33m\u001b[0m\u001b[1;33m\u001b[0m\u001b[0m\n\u001b[0m\u001b[0;32m     11\u001b[0m         \u001b[1;32mreturn\u001b[0m \u001b[0mself\u001b[0m\u001b[1;33m\u001b[0m\u001b[1;33m\u001b[0m\u001b[0m\n\u001b[0;32m     12\u001b[0m \u001b[1;33m\u001b[0m\u001b[0m\n",
      "\u001b[1;32mc:\\users\\flyin\\appdata\\local\\programs\\python\\python36\\lib\\site-packages\\xgboost\\sklearn.py\u001b[0m in \u001b[0;36mfit\u001b[1;34m(self, X, y, sample_weight, eval_set, eval_metric, early_stopping_rounds, verbose, xgb_model, sample_weight_eval_set, callbacks)\u001b[0m\n\u001b[0;32m    730\u001b[0m                               \u001b[0mevals_result\u001b[0m\u001b[1;33m=\u001b[0m\u001b[0mevals_result\u001b[0m\u001b[1;33m,\u001b[0m \u001b[0mobj\u001b[0m\u001b[1;33m=\u001b[0m\u001b[0mobj\u001b[0m\u001b[1;33m,\u001b[0m \u001b[0mfeval\u001b[0m\u001b[1;33m=\u001b[0m\u001b[0mfeval\u001b[0m\u001b[1;33m,\u001b[0m\u001b[1;33m\u001b[0m\u001b[1;33m\u001b[0m\u001b[0m\n\u001b[0;32m    731\u001b[0m                               \u001b[0mverbose_eval\u001b[0m\u001b[1;33m=\u001b[0m\u001b[0mverbose\u001b[0m\u001b[1;33m,\u001b[0m \u001b[0mxgb_model\u001b[0m\u001b[1;33m=\u001b[0m\u001b[0mxgb_model\u001b[0m\u001b[1;33m,\u001b[0m\u001b[1;33m\u001b[0m\u001b[1;33m\u001b[0m\u001b[0m\n\u001b[1;32m--> 732\u001b[1;33m                               callbacks=callbacks)\n\u001b[0m\u001b[0;32m    733\u001b[0m \u001b[1;33m\u001b[0m\u001b[0m\n\u001b[0;32m    734\u001b[0m         \u001b[0mself\u001b[0m\u001b[1;33m.\u001b[0m\u001b[0mobjective\u001b[0m \u001b[1;33m=\u001b[0m \u001b[0mxgb_options\u001b[0m\u001b[1;33m[\u001b[0m\u001b[1;34m\"objective\"\u001b[0m\u001b[1;33m]\u001b[0m\u001b[1;33m\u001b[0m\u001b[1;33m\u001b[0m\u001b[0m\n",
      "\u001b[1;32mc:\\users\\flyin\\appdata\\local\\programs\\python\\python36\\lib\\site-packages\\xgboost\\training.py\u001b[0m in \u001b[0;36mtrain\u001b[1;34m(params, dtrain, num_boost_round, evals, obj, feval, maximize, early_stopping_rounds, evals_result, verbose_eval, xgb_model, callbacks, learning_rates)\u001b[0m\n\u001b[0;32m    214\u001b[0m                            \u001b[0mevals\u001b[0m\u001b[1;33m=\u001b[0m\u001b[0mevals\u001b[0m\u001b[1;33m,\u001b[0m\u001b[1;33m\u001b[0m\u001b[1;33m\u001b[0m\u001b[0m\n\u001b[0;32m    215\u001b[0m                            \u001b[0mobj\u001b[0m\u001b[1;33m=\u001b[0m\u001b[0mobj\u001b[0m\u001b[1;33m,\u001b[0m \u001b[0mfeval\u001b[0m\u001b[1;33m=\u001b[0m\u001b[0mfeval\u001b[0m\u001b[1;33m,\u001b[0m\u001b[1;33m\u001b[0m\u001b[1;33m\u001b[0m\u001b[0m\n\u001b[1;32m--> 216\u001b[1;33m                            xgb_model=xgb_model, callbacks=callbacks)\n\u001b[0m\u001b[0;32m    217\u001b[0m \u001b[1;33m\u001b[0m\u001b[0m\n\u001b[0;32m    218\u001b[0m \u001b[1;33m\u001b[0m\u001b[0m\n",
      "\u001b[1;32mc:\\users\\flyin\\appdata\\local\\programs\\python\\python36\\lib\\site-packages\\xgboost\\training.py\u001b[0m in \u001b[0;36m_train_internal\u001b[1;34m(params, dtrain, num_boost_round, evals, obj, feval, xgb_model, callbacks)\u001b[0m\n\u001b[0;32m     72\u001b[0m         \u001b[1;31m# Skip the first update if it is a recovery step.\u001b[0m\u001b[1;33m\u001b[0m\u001b[1;33m\u001b[0m\u001b[1;33m\u001b[0m\u001b[0m\n\u001b[0;32m     73\u001b[0m         \u001b[1;32mif\u001b[0m \u001b[0mversion\u001b[0m \u001b[1;33m%\u001b[0m \u001b[1;36m2\u001b[0m \u001b[1;33m==\u001b[0m \u001b[1;36m0\u001b[0m\u001b[1;33m:\u001b[0m\u001b[1;33m\u001b[0m\u001b[1;33m\u001b[0m\u001b[0m\n\u001b[1;32m---> 74\u001b[1;33m             \u001b[0mbst\u001b[0m\u001b[1;33m.\u001b[0m\u001b[0mupdate\u001b[0m\u001b[1;33m(\u001b[0m\u001b[0mdtrain\u001b[0m\u001b[1;33m,\u001b[0m \u001b[0mi\u001b[0m\u001b[1;33m,\u001b[0m \u001b[0mobj\u001b[0m\u001b[1;33m)\u001b[0m\u001b[1;33m\u001b[0m\u001b[1;33m\u001b[0m\u001b[0m\n\u001b[0m\u001b[0;32m     75\u001b[0m             \u001b[0mbst\u001b[0m\u001b[1;33m.\u001b[0m\u001b[0msave_rabit_checkpoint\u001b[0m\u001b[1;33m(\u001b[0m\u001b[1;33m)\u001b[0m\u001b[1;33m\u001b[0m\u001b[1;33m\u001b[0m\u001b[0m\n\u001b[0;32m     76\u001b[0m             \u001b[0mversion\u001b[0m \u001b[1;33m+=\u001b[0m \u001b[1;36m1\u001b[0m\u001b[1;33m\u001b[0m\u001b[1;33m\u001b[0m\u001b[0m\n",
      "\u001b[1;32mc:\\users\\flyin\\appdata\\local\\programs\\python\\python36\\lib\\site-packages\\xgboost\\core.py\u001b[0m in \u001b[0;36mupdate\u001b[1;34m(self, dtrain, iteration, fobj)\u001b[0m\n\u001b[0;32m   1107\u001b[0m         \u001b[1;32mif\u001b[0m \u001b[0mfobj\u001b[0m \u001b[1;32mis\u001b[0m \u001b[1;32mNone\u001b[0m\u001b[1;33m:\u001b[0m\u001b[1;33m\u001b[0m\u001b[1;33m\u001b[0m\u001b[0m\n\u001b[0;32m   1108\u001b[0m             _check_call(_LIB.XGBoosterUpdateOneIter(self.handle, ctypes.c_int(iteration),\n\u001b[1;32m-> 1109\u001b[1;33m                                                     dtrain.handle))\n\u001b[0m\u001b[0;32m   1110\u001b[0m         \u001b[1;32melse\u001b[0m\u001b[1;33m:\u001b[0m\u001b[1;33m\u001b[0m\u001b[1;33m\u001b[0m\u001b[0m\n\u001b[0;32m   1111\u001b[0m             \u001b[0mpred\u001b[0m \u001b[1;33m=\u001b[0m \u001b[0mself\u001b[0m\u001b[1;33m.\u001b[0m\u001b[0mpredict\u001b[0m\u001b[1;33m(\u001b[0m\u001b[0mdtrain\u001b[0m\u001b[1;33m)\u001b[0m\u001b[1;33m\u001b[0m\u001b[1;33m\u001b[0m\u001b[0m\n",
      "\u001b[1;31mKeyboardInterrupt\u001b[0m: "
     ]
    }
   ],
   "source": [
    "for i in range(500):\n",
    "    _dataset = data_split(feature_1st_stage, labels)\n",
    "    _baseline = np.array((_dataset[0][1].mean(), _dataset[1][1].mean()))\n",
    "    results_ensemble.append(np.array(test_clf(_dataset, NEnsemble, num=10, clf=XGBClassifier, **params)) - _baseline)\n",
    "    \n",
    "#     print ('baseline    :  %.4f %.4f' %  tuple(_baseline))\n",
    "    print ('perform gain:  %.4f %.4f, %.4f %.4f' % (tuple(results_ensemble[-1]) + tuple(_baseline)))"
   ]
  },
  {
   "cell_type": "code",
   "execution_count": 491,
   "metadata": {},
   "outputs": [],
   "source": [
    "results_ensemble_np = np.array(results_ensemble)"
   ]
  },
  {
   "cell_type": "code",
   "execution_count": 494,
   "metadata": {},
   "outputs": [
    {
     "data": {
      "image/png": "[encoded data removed]",
      "text/plain": [
       "<Figure size 432x288 with 1 Axes>"
      ]
     },
     "metadata": {
      "needs_background": "light"
     },
     "output_type": "display_data"
    }
   ],
   "source": [
    "_=plt.hist(results_ensemble_np[:,1], bins=10)"
   ]
  },
  {
   "cell_type": "code",
   "execution_count": 500,
   "metadata": {},
   "outputs": [
    {
     "data": {
      "text/plain": [
       "0.015420129270544782"
      ]
     },
     "execution_count": 500,
     "metadata": {},
     "output_type": "execute_result"
    }
   ],
   "source": [
    "results_ensemble_np[:,1].mean()"
   ]
  },
  {
   "cell_type": "code",
   "execution_count": 496,
   "metadata": {},
   "outputs": [
    {
     "data": {
      "text/plain": [
       "0.6631578947368421"
      ]
     },
     "execution_count": 496,
     "metadata": {},
     "output_type": "execute_result"
    }
   ],
   "source": [
    "(results_ensemble_np[:,1] > 0).mean()"
   ]
  },
  {
   "cell_type": "code",
   "execution_count": 499,
   "metadata": {},
   "outputs": [
    {
     "data": {
      "text/plain": [
       "0.1543859649122807"
      ]
     },
     "execution_count": 499,
     "metadata": {},
     "output_type": "execute_result"
    }
   ],
   "source": [
    "(results_ensemble_np[:,1] == 0).mean()"
   ]
  },
  {
   "cell_type": "code",
   "execution_count": 498,
   "metadata": {},
   "outputs": [
    {
     "data": {
      "text/plain": [
       "0.1824561403508772"
      ]
     },
     "execution_count": 498,
     "metadata": {},
     "output_type": "execute_result"
    }
   ],
   "source": [
    "(results_ensemble_np[:,1] < 0).mean()"
   ]
  },
  {
   "cell_type": "markdown",
   "metadata": {},
   "source": [
    "thus there's no significant improvement for ensembles... a single XGBoosting model with big n_estimators is just fine."
   ]
  },
  {
   "cell_type": "code",
   "execution_count": 569,
   "metadata": {},
   "outputs": [
    {
     "data": {
      "text/plain": [
       "{'n_estimators': 800, 'max_depth': 16, 'min_child_weight': 2, 'n_jobs': 8}"
      ]
     },
     "execution_count": 569,
     "metadata": {},
     "output_type": "execute_result"
    }
   ],
   "source": [
    "params"
   ]
  },
  {
   "cell_type": "code",
   "execution_count": 570,
   "metadata": {},
   "outputs": [],
   "source": [
    "final_classifier = XGBClassifier(**params)"
   ]
  },
  {
   "cell_type": "code",
   "execution_count": 571,
   "metadata": {},
   "outputs": [
    {
     "data": {
      "text/plain": [
       "XGBClassifier(base_score=0.5, booster='gbtree', colsample_bylevel=1,\n",
       "              colsample_bynode=1, colsample_bytree=1, gamma=0,\n",
       "              learning_rate=0.1, max_delta_step=0, max_depth=16,\n",
       "              min_child_weight=2, missing=None, n_estimators=800, n_jobs=8,\n",
       "              nthread=None, objective='binary:logistic', random_state=0,\n",
       "              reg_alpha=0, reg_lambda=1, scale_pos_weight=1, seed=None,\n",
       "              silent=None, subsample=1, verbosity=1)"
      ]
     },
     "execution_count": 571,
     "metadata": {},
     "output_type": "execute_result"
    }
   ],
   "source": [
    "final_classifier.fit(feature_1st_stage, labels)"
   ]
  },
  {
   "cell_type": "code",
   "execution_count": 572,
   "metadata": {},
   "outputs": [],
   "source": [
    "dataset = data_split(feature_1st_stage, labels)"
   ]
  },
  {
   "cell_type": "code",
   "execution_count": 576,
   "metadata": {},
   "outputs": [
    {
     "name": "stdout",
     "output_type": "stream",
     "text": [
      "0.8604651162790697 0.881578947368421\n",
      "1.0 0.8947368421052632\n"
     ]
    }
   ],
   "source": [
    "train_dataset, valid_dataset = dataset\n",
    "train_features, train_labels = train_dataset\n",
    "valid_features, valid_labels = valid_dataset\n",
    "\n",
    "clf = XGBClassifier(**params)\n",
    "clf.fit(train_features, train_labels)\n",
    "\n",
    "predicted_train = clf.predict(train_features)\n",
    "train_acc = (predicted_train == train_labels).mean()\n",
    "\n",
    "predicted_valid = clf.predict(valid_features)\n",
    "valid_acc = (predicted_valid == valid_labels).mean()\n",
    "\n",
    "print (train_labels.mean(), valid_labels.mean())\n",
    "print (train_acc, valid_acc)"
   ]
  },
  {
   "cell_type": "code",
   "execution_count": 577,
   "metadata": {},
   "outputs": [],
   "source": [
    "# save model\n",
    "import pickle\n",
    "with open('final_classifier_GE.pkl', 'wb') as f:\n",
    "    pickle.dump([clf, selected_feature_names[feature_importance > 0.01], feature_map_tables], f)"
   ]
  },
  {
   "cell_type": "code",
   "execution_count": 583,
   "metadata": {},
   "outputs": [
    {
     "data": {
      "text/plain": [
       "XGBClassifier(base_score=0.5, booster='gbtree', colsample_bylevel=1,\n",
       "              colsample_bynode=1, colsample_bytree=1, gamma=0,\n",
       "              learning_rate=0.1, max_delta_step=0, max_depth=16,\n",
       "              min_child_weight=2, missing=None, n_estimators=800, n_jobs=8,\n",
       "              nthread=None, objective='binary:logistic', random_state=0,\n",
       "              reg_alpha=0, reg_lambda=1, scale_pos_weight=1, seed=None,\n",
       "              silent=None, subsample=1, verbosity=1)"
      ]
     },
     "execution_count": 583,
     "metadata": {},
     "output_type": "execute_result"
    }
   ],
   "source": [
    "clf = XGBClassifier(**params)\n",
    "clf.fit(features_8[:,np.argsort(rank_summary)[:160]][:,feature_importance > 0.01], labels_8)"
   ]
  },
  {
   "cell_type": "code",
   "execution_count": 584,
   "metadata": {},
   "outputs": [],
   "source": [
    "test_feature = features_2[:,np.argsort(rank_summary)[:160]][:,feature_importance > 0.01]"
   ]
  },
  {
   "cell_type": "code",
   "execution_count": 585,
   "metadata": {},
   "outputs": [],
   "source": [
    "predicted_test = clf.predict(test_feature)\n",
    "test_acc = (predicted_test == labels_2).mean()"
   ]
  },
  {
   "cell_type": "code",
   "execution_count": 586,
   "metadata": {},
   "outputs": [
    {
     "data": {
      "text/plain": [
       "0.868421052631579"
      ]
     },
     "execution_count": 586,
     "metadata": {},
     "output_type": "execute_result"
    }
   ],
   "source": [
    "test_acc"
   ]
  },
  {
   "cell_type": "code",
   "execution_count": 587,
   "metadata": {},
   "outputs": [
    {
     "data": {
      "text/plain": [
       "0.868421052631579"
      ]
     },
     "execution_count": 587,
     "metadata": {},
     "output_type": "execute_result"
    }
   ],
   "source": [
    "labels_2.mean()"
   ]
  },
  {
   "cell_type": "markdown",
   "metadata": {},
   "source": [
    "# model usage:\n",
    "    load the model file with pickle, get a tuple of (classifier, feature_names, feature_map_table)\n",
    "    find feature mentioned in feature_names, if it is in the feature_map_tables, map it with its index, use classifier to get the result."
   ]
  },
  {
   "cell_type": "code",
   "execution_count": 532,
   "metadata": {},
   "outputs": [],
   "source": [
    "with open('final_classifier_GE.pkl', 'rb') as f:\n",
    "    classifier, feature_names, map_table = pickle.load(f)"
   ]
  },
  {
   "cell_type": "code",
   "execution_count": 549,
   "metadata": {},
   "outputs": [],
   "source": [
    "from sklearn.metrics import confusion_matrix, roc_auc_score\n",
    "\n",
    "confusion_matrixs = []\n",
    "roc_aucs = []"
   ]
  },
  {
   "cell_type": "code",
   "execution_count": 603,
   "metadata": {},
   "outputs": [
    {
     "data": {
      "text/plain": [
       "0.984375"
      ]
     },
     "execution_count": 603,
     "metadata": {},
     "output_type": "execute_result"
    }
   ],
   "source": [
    "(1+0.96875)/2"
   ]
  },
  {
   "cell_type": "code",
   "execution_count": 605,
   "metadata": {},
   "outputs": [
    {
     "name": "stdout",
     "output_type": "stream",
     "text": [
      "100/100  "
     ]
    }
   ],
   "source": [
    "for i in range(100):\n",
    "    print('\\r%2d/%2d  ' % (i+1,100), end='')\n",
    "    train_dataset, valid_dataset = data_split(feature_1st_stage, labels)\n",
    "    train_features, train_labels = train_dataset\n",
    "    valid_features, valid_labels = valid_dataset\n",
    "    \n",
    "    clf = XGBClassifier(**params)\n",
    "    clf.fit(train_features, train_labels)\n",
    "    \n",
    "    predicted_proba_valid = clf.predict_proba(valid_features)\n",
    "    predicted_valid = predicted_proba_valid[:,1] >= 0.984375\n",
    "    \n",
    "    confusion_matrixs.append(confusion_matrix(y_true=valid_labels, y_pred=predicted_valid))\n",
    "    roc_aucs.append(roc_auc_score(y_true=valid_labels, y_score=predicted_proba_valid[:,1]))"
   ]
  },
  {
   "cell_type": "code",
   "execution_count": 606,
   "metadata": {},
   "outputs": [
    {
     "name": "stdout",
     "output_type": "stream",
     "text": [
      "specificity: 0.5655\n",
      "sensitivity: 0.8366\n"
     ]
    }
   ],
   "source": [
    "averaged_confusion_matrix = np.array(confusion_matrixs).mean(axis=0)\n",
    "\n",
    "tn, fp, fn, tp = averaged_confusion_matrix.ravel()\n",
    "\n",
    "# specificity\n",
    "print ('specificity: %.4f' % (tn/(tn+fp)))\n",
    "\n",
    "# sensitivity\n",
    "print ('sensitivity: %.4f' % (tp/(tp+fn)))"
   ]
  },
  {
   "cell_type": "code",
   "execution_count": 607,
   "metadata": {},
   "outputs": [
    {
     "data": {
      "text/plain": [
       "0.8059526230620778"
      ]
     },
     "execution_count": 607,
     "metadata": {},
     "output_type": "execute_result"
    }
   ],
   "source": [
    "np.array(roc_aucs).mean()"
   ]
  },
  {
   "cell_type": "code",
   "execution_count": null,
   "metadata": {},
   "outputs": [],
   "source": []
  }
 ],
 "metadata": {
  "kernelspec": {
   "display_name": "Python 3",
   "language": "python",
   "name": "python3"
  },
  "language_info": {
   "codemirror_mode": {
    "name": "ipython",
    "version": 3
   },
   "file_extension": ".py",
   "mimetype": "text/x-python",
   "name": "python",
   "nbconvert_exporter": "python",
   "pygments_lexer": "ipython3",
   "version": "3.6.7"
  }
 },
 "nbformat": 4,
 "nbformat_minor": 2
}
